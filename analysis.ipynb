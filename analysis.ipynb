{
 "cells": [
  {
   "cell_type": "code",
   "execution_count": 1,
   "id": "565f55b8-b094-4c1f-b092-07e1960d7659",
   "metadata": {},
   "outputs": [],
   "source": [
    "import re\n",
    "import pandas as pd\n",
    "import seaborn as sns\n",
    "import matplotlib.pyplot as plt\n",
    "# import scipy.stats as stats\n",
    "pd.set_option('display.max_columns', None)"
   ]
  },
  {
   "cell_type": "markdown",
   "id": "5e876c50-170e-44de-af3c-0836d76798fc",
   "metadata": {},
   "source": [
    "# Dataset"
   ]
  },
  {
   "cell_type": "code",
   "execution_count": 2,
   "id": "7682b681-dd7a-4dd6-aa72-50071c5d3514",
   "metadata": {},
   "outputs": [],
   "source": [
    "df = pd.read_csv(\"dataset/sbom_list.csv\") # general\n",
    "df_detail = pd.read_csv(\"dataset/dependency_list.csv\")"
   ]
  },
  {
   "cell_type": "code",
   "execution_count": 3,
   "id": "18713dc9-72d8-42bf-b92c-c6d91a279c47",
   "metadata": {},
   "outputs": [],
   "source": [
    "def fix_typo(text):\n",
    "    if text == \"cyclnedx_xml\":\n",
    "        return \"cyclonedx_xml\"\n",
    "    return text\n",
    "df[\"format\"] = df.format.apply(lambda x: fix_typo(x))"
   ]
  },
  {
   "cell_type": "code",
   "execution_count": 4,
   "id": "185c6d35-51d0-4749-a805-d880d56e2cf7",
   "metadata": {},
   "outputs": [],
   "source": [
    "df_detail = df.merge(df_detail, on=\"sbom_code\", how=\"left\")"
   ]
  },
  {
   "cell_type": "code",
   "execution_count": 5,
   "id": "3e940153-0468-495f-a4b6-28d15fc8aa4e",
   "metadata": {
    "scrolled": true
   },
   "outputs": [
    {
     "data": {
      "text/plain": [
       "620"
      ]
     },
     "execution_count": 5,
     "metadata": {},
     "output_type": "execute_result"
    }
   ],
   "source": [
    "# The number of unique repositories \n",
    "len(pd.unique(df['sbom_code']))"
   ]
  },
  {
   "cell_type": "code",
   "execution_count": 6,
   "id": "1190465f",
   "metadata": {},
   "outputs": [
    {
     "data": {
      "text/html": [
       "<div>\n",
       "<style scoped>\n",
       "    .dataframe tbody tr th:only-of-type {\n",
       "        vertical-align: middle;\n",
       "    }\n",
       "\n",
       "    .dataframe tbody tr th {\n",
       "        vertical-align: top;\n",
       "    }\n",
       "\n",
       "    .dataframe thead th {\n",
       "        text-align: right;\n",
       "    }\n",
       "</style>\n",
       "<table border=\"1\" class=\"dataframe\">\n",
       "  <thead>\n",
       "    <tr style=\"text-align: right;\">\n",
       "      <th></th>\n",
       "      <th>sbom_code</th>\n",
       "      <th>name</th>\n",
       "      <th>URL</th>\n",
       "      <th>path</th>\n",
       "      <th>dependencies</th>\n",
       "      <th>licenses</th>\n",
       "      <th>critical</th>\n",
       "      <th>high</th>\n",
       "      <th>medium</th>\n",
       "      <th>low</th>\n",
       "      <th>quality</th>\n",
       "      <th>format</th>\n",
       "      <th>version</th>\n",
       "      <th>successfully_processed</th>\n",
       "      <th>sbomqs_processed</th>\n",
       "      <th>osv_processed</th>\n",
       "      <th>cyclonedx_processed</th>\n",
       "      <th>sbom_utility_processed</th>\n",
       "      <th>pyspdxtools_processed</th>\n",
       "      <th>ntia_processed</th>\n",
       "      <th>cyclonedx_res</th>\n",
       "      <th>sbom_utility_res</th>\n",
       "      <th>pyspdxtools_res</th>\n",
       "      <th>ntia_res</th>\n",
       "      <th>language</th>\n",
       "    </tr>\n",
       "  </thead>\n",
       "  <tbody>\n",
       "    <tr>\n",
       "      <th>0</th>\n",
       "      <td>ARM-software_CMSIS-FreeRTOS_adfcb9a6ba3892bf4d...</td>\n",
       "      <td>CMSIS-FreeRTOS</td>\n",
       "      <td>https://raw.githubusercontent.com/ARM-software...</td>\n",
       "      <td>Source/sbom.spdx</td>\n",
       "      <td>1</td>\n",
       "      <td>1</td>\n",
       "      <td>0</td>\n",
       "      <td>0</td>\n",
       "      <td>0</td>\n",
       "      <td>0</td>\n",
       "      <td>6.52</td>\n",
       "      <td>spdx_spdx</td>\n",
       "      <td>SPDX-2.2</td>\n",
       "      <td>True</td>\n",
       "      <td>True</td>\n",
       "      <td>False</td>\n",
       "      <td>False</td>\n",
       "      <td>False</td>\n",
       "      <td>True</td>\n",
       "      <td>True</td>\n",
       "      <td>False</td>\n",
       "      <td>False</td>\n",
       "      <td>NaN</td>\n",
       "      <td>False</td>\n",
       "      <td>C</td>\n",
       "    </tr>\n",
       "    <tr>\n",
       "      <th>1</th>\n",
       "      <td>BonexGoo_Boss2D_ee34d813bda65f8a03eec2477abb9c...</td>\n",
       "      <td>Boss2D</td>\n",
       "      <td>https://raw.githubusercontent.com/BonexGoo/Bos...</td>\n",
       "      <td>Boss2D/addon/cpython-3.12.2_for_boss/Misc/sbom...</td>\n",
       "      <td>30</td>\n",
       "      <td>0</td>\n",
       "      <td>0</td>\n",
       "      <td>1</td>\n",
       "      <td>4</td>\n",
       "      <td>1</td>\n",
       "      <td>0.00</td>\n",
       "      <td>spdx_json</td>\n",
       "      <td>SPDX-2.3</td>\n",
       "      <td>True</td>\n",
       "      <td>False</td>\n",
       "      <td>True</td>\n",
       "      <td>False</td>\n",
       "      <td>True</td>\n",
       "      <td>True</td>\n",
       "      <td>False</td>\n",
       "      <td>False</td>\n",
       "      <td>False</td>\n",
       "      <td>NaN</td>\n",
       "      <td>False</td>\n",
       "      <td>other</td>\n",
       "    </tr>\n",
       "    <tr>\n",
       "      <th>2</th>\n",
       "      <td>CactuseSecurity_firewall-orchestrator_747d9d82...</td>\n",
       "      <td>firewall-orchestrator</td>\n",
       "      <td>https://raw.githubusercontent.com/CactuseSecur...</td>\n",
       "      <td>documentation/SBOM/fwo-sbom.json</td>\n",
       "      <td>105</td>\n",
       "      <td>105</td>\n",
       "      <td>0</td>\n",
       "      <td>0</td>\n",
       "      <td>0</td>\n",
       "      <td>0</td>\n",
       "      <td>8.65</td>\n",
       "      <td>cyclonedx_json</td>\n",
       "      <td>1.6</td>\n",
       "      <td>True</td>\n",
       "      <td>True</td>\n",
       "      <td>False</td>\n",
       "      <td>True</td>\n",
       "      <td>True</td>\n",
       "      <td>False</td>\n",
       "      <td>False</td>\n",
       "      <td>True</td>\n",
       "      <td>True</td>\n",
       "      <td>False</td>\n",
       "      <td>False</td>\n",
       "      <td>other</td>\n",
       "    </tr>\n",
       "    <tr>\n",
       "      <th>3</th>\n",
       "      <td>Checkmarx_kics_59f46f7b229f2c24ac2afa9757869bc...</td>\n",
       "      <td>kics</td>\n",
       "      <td>https://raw.githubusercontent.com/Checkmarx/ki...</td>\n",
       "      <td>kics.spdx.json</td>\n",
       "      <td>245</td>\n",
       "      <td>246</td>\n",
       "      <td>3</td>\n",
       "      <td>2</td>\n",
       "      <td>8</td>\n",
       "      <td>0</td>\n",
       "      <td>7.10</td>\n",
       "      <td>spdx_json</td>\n",
       "      <td>SPDX-2.3</td>\n",
       "      <td>True</td>\n",
       "      <td>True</td>\n",
       "      <td>True</td>\n",
       "      <td>False</td>\n",
       "      <td>True</td>\n",
       "      <td>True</td>\n",
       "      <td>True</td>\n",
       "      <td>False</td>\n",
       "      <td>False</td>\n",
       "      <td>NaN</td>\n",
       "      <td>False</td>\n",
       "      <td>other</td>\n",
       "    </tr>\n",
       "    <tr>\n",
       "      <th>4</th>\n",
       "      <td>DataDog_datadog-ci_264bdb639349be25cb3783b279c...</td>\n",
       "      <td>datadog-ci</td>\n",
       "      <td>https://raw.githubusercontent.com/DataDog/data...</td>\n",
       "      <td>.github/workflows/e2e/sbom-reports/sbom.json</td>\n",
       "      <td>62</td>\n",
       "      <td>62</td>\n",
       "      <td>0</td>\n",
       "      <td>3</td>\n",
       "      <td>4</td>\n",
       "      <td>1</td>\n",
       "      <td>7.81</td>\n",
       "      <td>cyclonedx_json</td>\n",
       "      <td>1.4</td>\n",
       "      <td>True</td>\n",
       "      <td>True</td>\n",
       "      <td>True</td>\n",
       "      <td>True</td>\n",
       "      <td>True</td>\n",
       "      <td>False</td>\n",
       "      <td>False</td>\n",
       "      <td>True</td>\n",
       "      <td>True</td>\n",
       "      <td>False</td>\n",
       "      <td>False</td>\n",
       "      <td>TypeScript</td>\n",
       "    </tr>\n",
       "  </tbody>\n",
       "</table>\n",
       "</div>"
      ],
      "text/plain": [
       "                                           sbom_code                   name  \\\n",
       "0  ARM-software_CMSIS-FreeRTOS_adfcb9a6ba3892bf4d...         CMSIS-FreeRTOS   \n",
       "1  BonexGoo_Boss2D_ee34d813bda65f8a03eec2477abb9c...                 Boss2D   \n",
       "2  CactuseSecurity_firewall-orchestrator_747d9d82...  firewall-orchestrator   \n",
       "3  Checkmarx_kics_59f46f7b229f2c24ac2afa9757869bc...                   kics   \n",
       "4  DataDog_datadog-ci_264bdb639349be25cb3783b279c...             datadog-ci   \n",
       "\n",
       "                                                 URL  \\\n",
       "0  https://raw.githubusercontent.com/ARM-software...   \n",
       "1  https://raw.githubusercontent.com/BonexGoo/Bos...   \n",
       "2  https://raw.githubusercontent.com/CactuseSecur...   \n",
       "3  https://raw.githubusercontent.com/Checkmarx/ki...   \n",
       "4  https://raw.githubusercontent.com/DataDog/data...   \n",
       "\n",
       "                                                path  dependencies  licenses  \\\n",
       "0                                   Source/sbom.spdx             1         1   \n",
       "1  Boss2D/addon/cpython-3.12.2_for_boss/Misc/sbom...            30         0   \n",
       "2                   documentation/SBOM/fwo-sbom.json           105       105   \n",
       "3                                     kics.spdx.json           245       246   \n",
       "4       .github/workflows/e2e/sbom-reports/sbom.json            62        62   \n",
       "\n",
       "   critical  high  medium  low  quality          format   version  \\\n",
       "0         0     0       0    0     6.52       spdx_spdx  SPDX-2.2   \n",
       "1         0     1       4    1     0.00       spdx_json  SPDX-2.3   \n",
       "2         0     0       0    0     8.65  cyclonedx_json       1.6   \n",
       "3         3     2       8    0     7.10       spdx_json  SPDX-2.3   \n",
       "4         0     3       4    1     7.81  cyclonedx_json       1.4   \n",
       "\n",
       "   successfully_processed  sbomqs_processed  osv_processed  \\\n",
       "0                    True              True          False   \n",
       "1                    True             False           True   \n",
       "2                    True              True          False   \n",
       "3                    True              True           True   \n",
       "4                    True              True           True   \n",
       "\n",
       "   cyclonedx_processed  sbom_utility_processed  pyspdxtools_processed  \\\n",
       "0                False                   False                   True   \n",
       "1                False                    True                   True   \n",
       "2                 True                    True                  False   \n",
       "3                False                    True                   True   \n",
       "4                 True                    True                  False   \n",
       "\n",
       "   ntia_processed  cyclonedx_res  sbom_utility_res pyspdxtools_res  ntia_res  \\\n",
       "0            True          False             False             NaN     False   \n",
       "1           False          False             False             NaN     False   \n",
       "2           False           True              True           False     False   \n",
       "3            True          False             False             NaN     False   \n",
       "4           False           True              True           False     False   \n",
       "\n",
       "     language  \n",
       "0           C  \n",
       "1       other  \n",
       "2       other  \n",
       "3       other  \n",
       "4  TypeScript  "
      ]
     },
     "execution_count": 6,
     "metadata": {},
     "output_type": "execute_result"
    }
   ],
   "source": [
    "df.head()"
   ]
  },
  {
   "cell_type": "markdown",
   "id": "0b1a83b0-6d07-4d5d-88cb-e0aeeeab1636",
   "metadata": {},
   "source": [
    "# Versions and formats"
   ]
  },
  {
   "cell_type": "code",
   "execution_count": 7,
   "id": "a0151086-a56b-44f2-9c6f-824ef4c3d449",
   "metadata": {},
   "outputs": [
    {
     "data": {
      "text/html": [
       "<div>\n",
       "<style scoped>\n",
       "    .dataframe tbody tr th:only-of-type {\n",
       "        vertical-align: middle;\n",
       "    }\n",
       "\n",
       "    .dataframe tbody tr th {\n",
       "        vertical-align: top;\n",
       "    }\n",
       "\n",
       "    .dataframe thead th {\n",
       "        text-align: right;\n",
       "    }\n",
       "</style>\n",
       "<table border=\"1\" class=\"dataframe\">\n",
       "  <thead>\n",
       "    <tr style=\"text-align: right;\">\n",
       "      <th></th>\n",
       "      <th>sbom_code</th>\n",
       "      <th>name</th>\n",
       "      <th>URL</th>\n",
       "      <th>path</th>\n",
       "      <th>dependencies</th>\n",
       "      <th>licenses</th>\n",
       "      <th>critical</th>\n",
       "      <th>high</th>\n",
       "      <th>medium</th>\n",
       "      <th>low</th>\n",
       "      <th>quality</th>\n",
       "      <th>version</th>\n",
       "      <th>successfully_processed</th>\n",
       "      <th>sbomqs_processed</th>\n",
       "      <th>osv_processed</th>\n",
       "      <th>cyclonedx_processed</th>\n",
       "      <th>sbom_utility_processed</th>\n",
       "      <th>pyspdxtools_processed</th>\n",
       "      <th>ntia_processed</th>\n",
       "      <th>cyclonedx_res</th>\n",
       "      <th>sbom_utility_res</th>\n",
       "      <th>pyspdxtools_res</th>\n",
       "      <th>ntia_res</th>\n",
       "      <th>language</th>\n",
       "    </tr>\n",
       "    <tr>\n",
       "      <th>format</th>\n",
       "      <th></th>\n",
       "      <th></th>\n",
       "      <th></th>\n",
       "      <th></th>\n",
       "      <th></th>\n",
       "      <th></th>\n",
       "      <th></th>\n",
       "      <th></th>\n",
       "      <th></th>\n",
       "      <th></th>\n",
       "      <th></th>\n",
       "      <th></th>\n",
       "      <th></th>\n",
       "      <th></th>\n",
       "      <th></th>\n",
       "      <th></th>\n",
       "      <th></th>\n",
       "      <th></th>\n",
       "      <th></th>\n",
       "      <th></th>\n",
       "      <th></th>\n",
       "      <th></th>\n",
       "      <th></th>\n",
       "      <th></th>\n",
       "    </tr>\n",
       "  </thead>\n",
       "  <tbody>\n",
       "    <tr>\n",
       "      <th>cyclonedx_json</th>\n",
       "      <td>261</td>\n",
       "      <td>261</td>\n",
       "      <td>261</td>\n",
       "      <td>261</td>\n",
       "      <td>261</td>\n",
       "      <td>261</td>\n",
       "      <td>261</td>\n",
       "      <td>261</td>\n",
       "      <td>261</td>\n",
       "      <td>261</td>\n",
       "      <td>261</td>\n",
       "      <td>261</td>\n",
       "      <td>261</td>\n",
       "      <td>261</td>\n",
       "      <td>261</td>\n",
       "      <td>261</td>\n",
       "      <td>261</td>\n",
       "      <td>261</td>\n",
       "      <td>261</td>\n",
       "      <td>261</td>\n",
       "      <td>261</td>\n",
       "      <td>261</td>\n",
       "      <td>261</td>\n",
       "      <td>261</td>\n",
       "    </tr>\n",
       "    <tr>\n",
       "      <th>cyclonedx_xml</th>\n",
       "      <td>23</td>\n",
       "      <td>23</td>\n",
       "      <td>23</td>\n",
       "      <td>23</td>\n",
       "      <td>23</td>\n",
       "      <td>23</td>\n",
       "      <td>23</td>\n",
       "      <td>23</td>\n",
       "      <td>23</td>\n",
       "      <td>23</td>\n",
       "      <td>23</td>\n",
       "      <td>23</td>\n",
       "      <td>23</td>\n",
       "      <td>23</td>\n",
       "      <td>23</td>\n",
       "      <td>23</td>\n",
       "      <td>23</td>\n",
       "      <td>23</td>\n",
       "      <td>23</td>\n",
       "      <td>23</td>\n",
       "      <td>23</td>\n",
       "      <td>23</td>\n",
       "      <td>23</td>\n",
       "      <td>23</td>\n",
       "    </tr>\n",
       "    <tr>\n",
       "      <th>spdx_json</th>\n",
       "      <td>281</td>\n",
       "      <td>281</td>\n",
       "      <td>281</td>\n",
       "      <td>281</td>\n",
       "      <td>281</td>\n",
       "      <td>281</td>\n",
       "      <td>281</td>\n",
       "      <td>281</td>\n",
       "      <td>281</td>\n",
       "      <td>281</td>\n",
       "      <td>281</td>\n",
       "      <td>281</td>\n",
       "      <td>281</td>\n",
       "      <td>281</td>\n",
       "      <td>281</td>\n",
       "      <td>281</td>\n",
       "      <td>281</td>\n",
       "      <td>281</td>\n",
       "      <td>281</td>\n",
       "      <td>281</td>\n",
       "      <td>281</td>\n",
       "      <td>0</td>\n",
       "      <td>281</td>\n",
       "      <td>281</td>\n",
       "    </tr>\n",
       "    <tr>\n",
       "      <th>spdx_spdx</th>\n",
       "      <td>53</td>\n",
       "      <td>53</td>\n",
       "      <td>53</td>\n",
       "      <td>53</td>\n",
       "      <td>53</td>\n",
       "      <td>53</td>\n",
       "      <td>53</td>\n",
       "      <td>53</td>\n",
       "      <td>53</td>\n",
       "      <td>53</td>\n",
       "      <td>53</td>\n",
       "      <td>53</td>\n",
       "      <td>53</td>\n",
       "      <td>53</td>\n",
       "      <td>53</td>\n",
       "      <td>53</td>\n",
       "      <td>53</td>\n",
       "      <td>53</td>\n",
       "      <td>53</td>\n",
       "      <td>53</td>\n",
       "      <td>53</td>\n",
       "      <td>0</td>\n",
       "      <td>53</td>\n",
       "      <td>53</td>\n",
       "    </tr>\n",
       "    <tr>\n",
       "      <th>spdx_yaml</th>\n",
       "      <td>2</td>\n",
       "      <td>2</td>\n",
       "      <td>2</td>\n",
       "      <td>2</td>\n",
       "      <td>2</td>\n",
       "      <td>2</td>\n",
       "      <td>2</td>\n",
       "      <td>2</td>\n",
       "      <td>2</td>\n",
       "      <td>2</td>\n",
       "      <td>2</td>\n",
       "      <td>2</td>\n",
       "      <td>2</td>\n",
       "      <td>2</td>\n",
       "      <td>2</td>\n",
       "      <td>2</td>\n",
       "      <td>2</td>\n",
       "      <td>2</td>\n",
       "      <td>2</td>\n",
       "      <td>2</td>\n",
       "      <td>2</td>\n",
       "      <td>0</td>\n",
       "      <td>2</td>\n",
       "      <td>2</td>\n",
       "    </tr>\n",
       "  </tbody>\n",
       "</table>\n",
       "</div>"
      ],
      "text/plain": [
       "                sbom_code  name  URL  path  dependencies  licenses  critical  \\\n",
       "format                                                                         \n",
       "cyclonedx_json        261   261  261   261           261       261       261   \n",
       "cyclonedx_xml          23    23   23    23            23        23        23   \n",
       "spdx_json             281   281  281   281           281       281       281   \n",
       "spdx_spdx              53    53   53    53            53        53        53   \n",
       "spdx_yaml               2     2    2     2             2         2         2   \n",
       "\n",
       "                high  medium  low  quality  version  successfully_processed  \\\n",
       "format                                                                        \n",
       "cyclonedx_json   261     261  261      261      261                     261   \n",
       "cyclonedx_xml     23      23   23       23       23                      23   \n",
       "spdx_json        281     281  281      281      281                     281   \n",
       "spdx_spdx         53      53   53       53       53                      53   \n",
       "spdx_yaml          2       2    2        2        2                       2   \n",
       "\n",
       "                sbomqs_processed  osv_processed  cyclonedx_processed  \\\n",
       "format                                                                 \n",
       "cyclonedx_json               261            261                  261   \n",
       "cyclonedx_xml                 23             23                   23   \n",
       "spdx_json                    281            281                  281   \n",
       "spdx_spdx                     53             53                   53   \n",
       "spdx_yaml                      2              2                    2   \n",
       "\n",
       "                sbom_utility_processed  pyspdxtools_processed  ntia_processed  \\\n",
       "format                                                                          \n",
       "cyclonedx_json                     261                    261             261   \n",
       "cyclonedx_xml                       23                     23              23   \n",
       "spdx_json                          281                    281             281   \n",
       "spdx_spdx                           53                     53              53   \n",
       "spdx_yaml                            2                      2               2   \n",
       "\n",
       "                cyclonedx_res  sbom_utility_res  pyspdxtools_res  ntia_res  \\\n",
       "format                                                                       \n",
       "cyclonedx_json            261               261              261       261   \n",
       "cyclonedx_xml              23                23               23        23   \n",
       "spdx_json                 281               281                0       281   \n",
       "spdx_spdx                  53                53                0        53   \n",
       "spdx_yaml                   2                 2                0         2   \n",
       "\n",
       "                language  \n",
       "format                    \n",
       "cyclonedx_json       261  \n",
       "cyclonedx_xml         23  \n",
       "spdx_json            281  \n",
       "spdx_spdx             53  \n",
       "spdx_yaml              2  "
      ]
     },
     "execution_count": 7,
     "metadata": {},
     "output_type": "execute_result"
    }
   ],
   "source": [
    "# The number of SPDX and CycloneDX repos\n",
    "df.groupby('format').count()"
   ]
  },
  {
   "cell_type": "code",
   "execution_count": 8,
   "id": "1741f105-d81f-4955-b271-6316089df707",
   "metadata": {
    "scrolled": true
   },
   "outputs": [
    {
     "data": {
      "text/html": [
       "<div>\n",
       "<style scoped>\n",
       "    .dataframe tbody tr th:only-of-type {\n",
       "        vertical-align: middle;\n",
       "    }\n",
       "\n",
       "    .dataframe tbody tr th {\n",
       "        vertical-align: top;\n",
       "    }\n",
       "\n",
       "    .dataframe thead th {\n",
       "        text-align: right;\n",
       "    }\n",
       "</style>\n",
       "<table border=\"1\" class=\"dataframe\">\n",
       "  <thead>\n",
       "    <tr style=\"text-align: right;\">\n",
       "      <th></th>\n",
       "      <th>version</th>\n",
       "      <th>format</th>\n",
       "      <th>count</th>\n",
       "    </tr>\n",
       "  </thead>\n",
       "  <tbody>\n",
       "    <tr>\n",
       "      <th>16</th>\n",
       "      <td>SPDX-2.3</td>\n",
       "      <td>spdx_json</td>\n",
       "      <td>260</td>\n",
       "    </tr>\n",
       "    <tr>\n",
       "      <th>9</th>\n",
       "      <td>1.6</td>\n",
       "      <td>cyclonedx_json</td>\n",
       "      <td>90</td>\n",
       "    </tr>\n",
       "    <tr>\n",
       "      <th>5</th>\n",
       "      <td>1.4</td>\n",
       "      <td>cyclonedx_json</td>\n",
       "      <td>67</td>\n",
       "    </tr>\n",
       "    <tr>\n",
       "      <th>3</th>\n",
       "      <td>1.3</td>\n",
       "      <td>cyclonedx_json</td>\n",
       "      <td>52</td>\n",
       "    </tr>\n",
       "    <tr>\n",
       "      <th>7</th>\n",
       "      <td>1.5</td>\n",
       "      <td>cyclonedx_json</td>\n",
       "      <td>48</td>\n",
       "    </tr>\n",
       "    <tr>\n",
       "      <th>13</th>\n",
       "      <td>SPDX-2.2</td>\n",
       "      <td>spdx_spdx</td>\n",
       "      <td>32</td>\n",
       "    </tr>\n",
       "    <tr>\n",
       "      <th>14</th>\n",
       "      <td>SPDX-2.2</td>\n",
       "      <td>spdx_json</td>\n",
       "      <td>20</td>\n",
       "    </tr>\n",
       "    <tr>\n",
       "      <th>17</th>\n",
       "      <td>SPDX-2.3</td>\n",
       "      <td>spdx_spdx</td>\n",
       "      <td>18</td>\n",
       "    </tr>\n",
       "    <tr>\n",
       "      <th>10</th>\n",
       "      <td>1.6</td>\n",
       "      <td>cyclonedx_xml</td>\n",
       "      <td>7</td>\n",
       "    </tr>\n",
       "    <tr>\n",
       "      <th>4</th>\n",
       "      <td>1.3</td>\n",
       "      <td>cyclonedx_xml</td>\n",
       "      <td>7</td>\n",
       "    </tr>\n",
       "    <tr>\n",
       "      <th>1</th>\n",
       "      <td>1.2</td>\n",
       "      <td>cyclonedx_json</td>\n",
       "      <td>4</td>\n",
       "    </tr>\n",
       "    <tr>\n",
       "      <th>6</th>\n",
       "      <td>1.4</td>\n",
       "      <td>cyclonedx_xml</td>\n",
       "      <td>4</td>\n",
       "    </tr>\n",
       "    <tr>\n",
       "      <th>8</th>\n",
       "      <td>1.5</td>\n",
       "      <td>cyclonedx_xml</td>\n",
       "      <td>3</td>\n",
       "    </tr>\n",
       "    <tr>\n",
       "      <th>11</th>\n",
       "      <td>SPDX-2.1</td>\n",
       "      <td>spdx_spdx</td>\n",
       "      <td>3</td>\n",
       "    </tr>\n",
       "    <tr>\n",
       "      <th>15</th>\n",
       "      <td>SPDX-2.2</td>\n",
       "      <td>spdx_yaml</td>\n",
       "      <td>2</td>\n",
       "    </tr>\n",
       "    <tr>\n",
       "      <th>12</th>\n",
       "      <td>SPDX-2.1</td>\n",
       "      <td>spdx_json</td>\n",
       "      <td>1</td>\n",
       "    </tr>\n",
       "    <tr>\n",
       "      <th>2</th>\n",
       "      <td>1.2</td>\n",
       "      <td>cyclonedx_xml</td>\n",
       "      <td>1</td>\n",
       "    </tr>\n",
       "    <tr>\n",
       "      <th>0</th>\n",
       "      <td>1.0</td>\n",
       "      <td>cyclonedx_xml</td>\n",
       "      <td>1</td>\n",
       "    </tr>\n",
       "  </tbody>\n",
       "</table>\n",
       "</div>"
      ],
      "text/plain": [
       "     version          format  count\n",
       "16  SPDX-2.3       spdx_json    260\n",
       "9        1.6  cyclonedx_json     90\n",
       "5        1.4  cyclonedx_json     67\n",
       "3        1.3  cyclonedx_json     52\n",
       "7        1.5  cyclonedx_json     48\n",
       "13  SPDX-2.2       spdx_spdx     32\n",
       "14  SPDX-2.2       spdx_json     20\n",
       "17  SPDX-2.3       spdx_spdx     18\n",
       "10       1.6   cyclonedx_xml      7\n",
       "4        1.3   cyclonedx_xml      7\n",
       "1        1.2  cyclonedx_json      4\n",
       "6        1.4   cyclonedx_xml      4\n",
       "8        1.5   cyclonedx_xml      3\n",
       "11  SPDX-2.1       spdx_spdx      3\n",
       "15  SPDX-2.2       spdx_yaml      2\n",
       "12  SPDX-2.1       spdx_json      1\n",
       "2        1.2   cyclonedx_xml      1\n",
       "0        1.0   cyclonedx_xml      1"
      ]
     },
     "execution_count": 8,
     "metadata": {},
     "output_type": "execute_result"
    }
   ],
   "source": [
    "# Most common versions for each format\n",
    "df.groupby('version').format.value_counts().reset_index().sort_values('count', ascending=False)"
   ]
  },
  {
   "cell_type": "markdown",
   "id": "4dddf95b-0395-429b-8b82-ca3b53e18e45",
   "metadata": {},
   "source": [
    "# Dependencies"
   ]
  },
  {
   "cell_type": "code",
   "execution_count": 9,
   "id": "104434d2-0387-4ffa-aa4a-f6cd3d11aeb3",
   "metadata": {},
   "outputs": [
    {
     "data": {
      "text/plain": [
       "count      620.000000\n",
       "mean       291.869355\n",
       "std       1131.237613\n",
       "min          1.000000\n",
       "25%         45.000000\n",
       "50%         93.000000\n",
       "75%        217.000000\n",
       "max      17825.000000\n",
       "Name: dependencies, dtype: float64"
      ]
     },
     "execution_count": 9,
     "metadata": {},
     "output_type": "execute_result"
    }
   ],
   "source": [
    "# Dependencies stats\n",
    "df[df.dependencies !=0].dependencies.describe()"
   ]
  },
  {
   "cell_type": "code",
   "execution_count": 10,
   "id": "9f255b27-59dd-4b72-be0a-475751c9165d",
   "metadata": {},
   "outputs": [
    {
     "data": {
      "text/html": [
       "<div>\n",
       "<style scoped>\n",
       "    .dataframe tbody tr th:only-of-type {\n",
       "        vertical-align: middle;\n",
       "    }\n",
       "\n",
       "    .dataframe tbody tr th {\n",
       "        vertical-align: top;\n",
       "    }\n",
       "\n",
       "    .dataframe thead th {\n",
       "        text-align: right;\n",
       "    }\n",
       "</style>\n",
       "<table border=\"1\" class=\"dataframe\">\n",
       "  <thead>\n",
       "    <tr style=\"text-align: right;\">\n",
       "      <th></th>\n",
       "      <th>count</th>\n",
       "      <th>mean</th>\n",
       "      <th>std</th>\n",
       "      <th>min</th>\n",
       "      <th>25%</th>\n",
       "      <th>50%</th>\n",
       "      <th>75%</th>\n",
       "      <th>max</th>\n",
       "    </tr>\n",
       "    <tr>\n",
       "      <th>format</th>\n",
       "      <th></th>\n",
       "      <th></th>\n",
       "      <th></th>\n",
       "      <th></th>\n",
       "      <th></th>\n",
       "      <th></th>\n",
       "      <th></th>\n",
       "      <th></th>\n",
       "    </tr>\n",
       "  </thead>\n",
       "  <tbody>\n",
       "    <tr>\n",
       "      <th>spdx_json</th>\n",
       "      <td>281.0</td>\n",
       "      <td>241.199288</td>\n",
       "      <td>1083.797429</td>\n",
       "      <td>1.0</td>\n",
       "      <td>55.00</td>\n",
       "      <td>97.0</td>\n",
       "      <td>248.00</td>\n",
       "      <td>17825.0</td>\n",
       "    </tr>\n",
       "    <tr>\n",
       "      <th>cyclonedx_json</th>\n",
       "      <td>261.0</td>\n",
       "      <td>261.536398</td>\n",
       "      <td>915.464176</td>\n",
       "      <td>1.0</td>\n",
       "      <td>43.00</td>\n",
       "      <td>93.0</td>\n",
       "      <td>167.00</td>\n",
       "      <td>12675.0</td>\n",
       "    </tr>\n",
       "    <tr>\n",
       "      <th>spdx_spdx</th>\n",
       "      <td>53.0</td>\n",
       "      <td>339.603774</td>\n",
       "      <td>1116.219863</td>\n",
       "      <td>1.0</td>\n",
       "      <td>1.00</td>\n",
       "      <td>31.0</td>\n",
       "      <td>162.00</td>\n",
       "      <td>6491.0</td>\n",
       "    </tr>\n",
       "    <tr>\n",
       "      <th>cyclonedx_xml</th>\n",
       "      <td>23.0</td>\n",
       "      <td>1169.608696</td>\n",
       "      <td>2710.178705</td>\n",
       "      <td>6.0</td>\n",
       "      <td>106.00</td>\n",
       "      <td>199.0</td>\n",
       "      <td>631.00</td>\n",
       "      <td>12675.0</td>\n",
       "    </tr>\n",
       "    <tr>\n",
       "      <th>spdx_yaml</th>\n",
       "      <td>2.0</td>\n",
       "      <td>10.500000</td>\n",
       "      <td>3.535534</td>\n",
       "      <td>8.0</td>\n",
       "      <td>9.25</td>\n",
       "      <td>10.5</td>\n",
       "      <td>11.75</td>\n",
       "      <td>13.0</td>\n",
       "    </tr>\n",
       "  </tbody>\n",
       "</table>\n",
       "</div>"
      ],
      "text/plain": [
       "                count         mean          std  min     25%    50%     75%  \\\n",
       "format                                                                        \n",
       "spdx_json       281.0   241.199288  1083.797429  1.0   55.00   97.0  248.00   \n",
       "cyclonedx_json  261.0   261.536398   915.464176  1.0   43.00   93.0  167.00   \n",
       "spdx_spdx        53.0   339.603774  1116.219863  1.0    1.00   31.0  162.00   \n",
       "cyclonedx_xml    23.0  1169.608696  2710.178705  6.0  106.00  199.0  631.00   \n",
       "spdx_yaml         2.0    10.500000     3.535534  8.0    9.25   10.5   11.75   \n",
       "\n",
       "                    max  \n",
       "format                   \n",
       "spdx_json       17825.0  \n",
       "cyclonedx_json  12675.0  \n",
       "spdx_spdx        6491.0  \n",
       "cyclonedx_xml   12675.0  \n",
       "spdx_yaml          13.0  "
      ]
     },
     "execution_count": 10,
     "metadata": {},
     "output_type": "execute_result"
    }
   ],
   "source": [
    "# Dependencies stats per format\n",
    "df.groupby('format').dependencies.describe().sort_values('count', ascending=False)"
   ]
  },
  {
   "cell_type": "code",
   "execution_count": 11,
   "id": "3d8f21af-be1e-419c-a28b-aa2c0151f23b",
   "metadata": {
    "scrolled": true
   },
   "outputs": [
    {
     "data": {
      "image/png": "[encoded data removed]",
      "text/plain": [
       "<Figure size 1000x600 with 1 Axes>"
      ]
     },
     "metadata": {},
     "output_type": "display_data"
    }
   ],
   "source": [
    "# Stats on deps per project\n",
    "plt.figure(figsize=(10, 6))\n",
    "sns.histplot(df.dependencies, kde=False)\n",
    "plt.xlabel('Number of dependecies')\n",
    "plt.ylabel('Count (log)')\n",
    "plt.yscale('log')\n",
    "plt.tight_layout()\n",
    "# Show the plot"
   ]
  },
  {
   "cell_type": "code",
   "execution_count": 12,
   "id": "bdaadf9c-6753-44d4-97e1-7b0512e74c48",
   "metadata": {},
   "outputs": [
    {
     "name": "stdout",
     "output_type": "stream",
     "text": [
      "17825\n",
      "1\n"
     ]
    },
    {
     "data": {
      "text/plain": [
       "332    jaeger\n",
       "Name: name, dtype: object"
      ]
     },
     "execution_count": 12,
     "metadata": {},
     "output_type": "execute_result"
    }
   ],
   "source": [
    "# Project with max number of deps\n",
    "maxdeps = df.dependencies.max()\n",
    "print(maxdeps)\n",
    "print(df.dependencies.min())\n",
    "df[df.dependencies == maxdeps].name"
   ]
  },
  {
   "cell_type": "code",
   "execution_count": 13,
   "id": "99b5d1fd-33f5-43f1-aee3-c17b847cbbd3",
   "metadata": {},
   "outputs": [
    {
     "data": {
      "text/plain": [
       "0"
      ]
     },
     "execution_count": 13,
     "metadata": {},
     "output_type": "execute_result"
    }
   ],
   "source": [
    "# Number of projects with no dependencies (it may be good to check why, for example, SBOM declares only License)\n",
    "len(pd.unique(df[df.dependencies == 0].name))"
   ]
  },
  {
   "cell_type": "code",
   "execution_count": 14,
   "id": "851bba58-4b77-47d8-8c80-599871f1d9a9",
   "metadata": {},
   "outputs": [
    {
     "data": {
      "text/plain": [
       "Series([], dtype: int64)"
      ]
     },
     "execution_count": 14,
     "metadata": {},
     "output_type": "execute_result"
    }
   ],
   "source": [
    "# Empty dependencies for each format. Maybe the fact that there are no deps has something to do with the format rules\n",
    "df[df.dependencies == 0].groupby('format').size()"
   ]
  },
  {
   "cell_type": "code",
   "execution_count": 15,
   "id": "12e76618-af1b-41a2-b1b1-99d998777787",
   "metadata": {},
   "outputs": [
    {
     "data": {
      "text/plain": [
       "180959"
      ]
     },
     "execution_count": 15,
     "metadata": {},
     "output_type": "execute_result"
    }
   ],
   "source": [
    "# Total dependencies\n",
    "len(df_detail)"
   ]
  },
  {
   "cell_type": "code",
   "execution_count": 16,
   "id": "3d393542-6004-45de-80d3-cf88baa08c65",
   "metadata": {},
   "outputs": [
    {
     "data": {
      "text/plain": [
       "25236"
      ]
     },
     "execution_count": 16,
     "metadata": {},
     "output_type": "execute_result"
    }
   ],
   "source": [
    "# Unique dependencies\n",
    "df_detail.name_y.nunique()"
   ]
  },
  {
   "cell_type": "code",
   "execution_count": 17,
   "id": "07162933-031e-4f9a-b181-559c0b74a4e5",
   "metadata": {
    "scrolled": true
   },
   "outputs": [
    {
     "data": {
      "text/html": [
       "<div>\n",
       "<style scoped>\n",
       "    .dataframe tbody tr th:only-of-type {\n",
       "        vertical-align: middle;\n",
       "    }\n",
       "\n",
       "    .dataframe tbody tr th {\n",
       "        vertical-align: top;\n",
       "    }\n",
       "\n",
       "    .dataframe thead th {\n",
       "        text-align: right;\n",
       "    }\n",
       "</style>\n",
       "<table border=\"1\" class=\"dataframe\">\n",
       "  <thead>\n",
       "    <tr style=\"text-align: right;\">\n",
       "      <th></th>\n",
       "      <th>name_y</th>\n",
       "      <th>count</th>\n",
       "    </tr>\n",
       "  </thead>\n",
       "  <tbody>\n",
       "    <tr>\n",
       "      <th>10122</th>\n",
       "      <td>go.opentelemetry.io/otel/exporters</td>\n",
       "      <td>958</td>\n",
       "    </tr>\n",
       "    <tr>\n",
       "      <th>6919</th>\n",
       "      <td>github.com/aws/aws-sdk-go-v2</td>\n",
       "      <td>847</td>\n",
       "    </tr>\n",
       "    <tr>\n",
       "      <th>10083</th>\n",
       "      <td>go.opentelemetry.io/collector/config</td>\n",
       "      <td>836</td>\n",
       "    </tr>\n",
       "    <tr>\n",
       "      <th>10233</th>\n",
       "      <td>golang.org/x/sys</td>\n",
       "      <td>690</td>\n",
       "    </tr>\n",
       "    <tr>\n",
       "      <th>10239</th>\n",
       "      <td>golang.org/x/text</td>\n",
       "      <td>649</td>\n",
       "    </tr>\n",
       "    <tr>\n",
       "      <th>...</th>\n",
       "      <td>...</td>\n",
       "      <td>...</td>\n",
       "    </tr>\n",
       "    <tr>\n",
       "      <th>9378</th>\n",
       "      <td>github.com/pierrec/lz4</td>\n",
       "      <td>209</td>\n",
       "    </tr>\n",
       "    <tr>\n",
       "      <th>7227</th>\n",
       "      <td>github.com/cespare/xxhash</td>\n",
       "      <td>197</td>\n",
       "    </tr>\n",
       "    <tr>\n",
       "      <th>9126</th>\n",
       "      <td>github.com/mitchellh/mapstructure</td>\n",
       "      <td>195</td>\n",
       "    </tr>\n",
       "    <tr>\n",
       "      <th>9049</th>\n",
       "      <td>github.com/mattn/go-colorable</td>\n",
       "      <td>194</td>\n",
       "    </tr>\n",
       "    <tr>\n",
       "      <th>6696</th>\n",
       "      <td>github.com/Azure/go-autorest</td>\n",
       "      <td>192</td>\n",
       "    </tr>\n",
       "  </tbody>\n",
       "</table>\n",
       "<p>100 rows × 2 columns</p>\n",
       "</div>"
      ],
      "text/plain": [
       "                                     name_y  count\n",
       "10122    go.opentelemetry.io/otel/exporters    958\n",
       "6919           github.com/aws/aws-sdk-go-v2    847\n",
       "10083  go.opentelemetry.io/collector/config    836\n",
       "10233                      golang.org/x/sys    690\n",
       "10239                     golang.org/x/text    649\n",
       "...                                     ...    ...\n",
       "9378                 github.com/pierrec/lz4    209\n",
       "7227              github.com/cespare/xxhash    197\n",
       "9126      github.com/mitchellh/mapstructure    195\n",
       "9049          github.com/mattn/go-colorable    194\n",
       "6696           github.com/Azure/go-autorest    192\n",
       "\n",
       "[100 rows x 2 columns]"
      ]
     },
     "execution_count": 17,
     "metadata": {},
     "output_type": "execute_result"
    }
   ],
   "source": [
    "# Most used depedencies\n",
    "df_detail.groupby(\"name_y\").size().reset_index(name=\"count\").sort_values(by=[\"count\"], ascending=False).head(100)"
   ]
  },
  {
   "cell_type": "code",
   "execution_count": 18,
   "id": "8aea9add-b52f-4367-ba1f-6d3986546d37",
   "metadata": {
    "scrolled": true
   },
   "outputs": [
    {
     "name": "stdout",
     "output_type": "stream",
     "text": [
      "0.0\n",
      "0.0\n"
     ]
    }
   ],
   "source": [
    "# Percentage of empty deps\n",
    "cdx = df[df.format.str.contains(\"spdx\")]\n",
    "spx = df[df.format.str.contains(\"cyclonedx\")]\n",
    "\n",
    "print((len(cdx[cdx.dependencies == 0]) / len(cdx)) * 100)\n",
    "print((len(spx[spx.dependencies == 0]) / len(spx)) * 100)"
   ]
  },
  {
   "cell_type": "code",
   "execution_count": 19,
   "id": "73832f62-9e71-402c-8f7a-03601d4fd2d9",
   "metadata": {
    "scrolled": true
   },
   "outputs": [
    {
     "data": {
      "text/plain": [
       "ecosystem\n",
       "golang                 80180\n",
       "maven                  32097\n",
       "npm                    17137\n",
       "deb                     8645\n",
       "cargo                   8545\n",
       "rpm                     4421\n",
       "pypi                    4317\n",
       "nuget                   2010\n",
       "apk                     1107\n",
       "gem                      945\n",
       "github                   878\n",
       "pub                      838\n",
       "composer                 205\n",
       "cocoapods                 90\n",
       "ACTIONS                   84\n",
       "oci                       46\n",
       "otp                       42\n",
       "generic                   40\n",
       "githubactions             23\n",
       "swid                       9\n",
       "RUST                       5\n",
       "github.com                 3\n",
       "dotnet                     2\n",
       "google-code-archive        2\n",
       "sourceware                 2\n",
       "Name: count, dtype: int64"
      ]
     },
     "execution_count": 19,
     "metadata": {},
     "output_type": "execute_result"
    }
   ],
   "source": [
    "# Number of dependencies ecosystems\n",
    "df_detail[\"ecosystem\"] = df_detail.location.str.extract(r':([^/]+)/')\n",
    "df_detail.ecosystem.dropna().value_counts()"
   ]
  },
  {
   "cell_type": "code",
   "execution_count": 20,
   "id": "ef62ea34",
   "metadata": {},
   "outputs": [
    {
     "data": {
      "text/plain": [
       "sbom_code\n",
       "ARM-software_CMSIS-FreeRTOS_adfcb9a6ba3892bf4d39daa212a8f37d36c2f9f9_viu0w1f5_sbom.spdx                  0\n",
       "BonexGoo_Boss2D_ee34d813bda65f8a03eec2477abb9ce8f2a6978d_lgr3ggu1_sbom.spdx.json                         1\n",
       "CactuseSecurity_firewall-orchestrator_747d9d8278f97aae11560005b152efc89d74ad40_8xb3gwj0_fwo-sbom.json    1\n",
       "Checkmarx_kics_59f46f7b229f2c24ac2afa9757869bc21095c12c_rf2fimkj_kics.spdx.json                          2\n",
       "DataDog_datadog-ci_264bdb639349be25cb3783b279ceb8dd427f9e89_t4vm86zg_sbom.json                           1\n",
       "                                                                                                        ..\n",
       "volution_z-run_a6274842ebcefd547d0ba84e345f42a6bb691916_q27mjwhc_cyclonedx.json                          1\n",
       "volution_z-tokens_2b53be865f92ed0594f0403c4fb4a9c6760bd722_nyhc5vg4_cyclonedx.json                       1\n",
       "zeux_pugixml_657c33ae34dbc1d43ae5a5336599bebc7c93688f_hego416x_sbom.cdx.json                             0\n",
       "zeux_pugixml_release_737o8ch9_sbom.cdx.json                                                              0\n",
       "zeux_pugixml_release_ue2vzia8_sbom.cdx.json                                                              0\n",
       "Name: ecosystem, Length: 620, dtype: int64"
      ]
     },
     "execution_count": 20,
     "metadata": {},
     "output_type": "execute_result"
    }
   ],
   "source": [
    "df_detail.groupby(\"sbom_code\")[\"ecosystem\"].nunique()"
   ]
  },
  {
   "cell_type": "code",
   "execution_count": 21,
   "id": "e12ec32a-ebcb-487a-bea1-f929bbc18624",
   "metadata": {},
   "outputs": [
    {
     "data": {
      "text/plain": [
       "count    20439.000000\n",
       "mean         1.008660\n",
       "std          0.101719\n",
       "min          1.000000\n",
       "25%          1.000000\n",
       "50%          1.000000\n",
       "75%          1.000000\n",
       "max          3.000000\n",
       "Name: ecosystem, dtype: float64"
      ]
     },
     "execution_count": 21,
     "metadata": {},
     "output_type": "execute_result"
    }
   ],
   "source": [
    "# Average number of ecosystem per project\n",
    "df_detail.dropna(subset=[\"ecosystem\"]).groupby(\"name_y\")['ecosystem'].nunique().describe()"
   ]
  },
  {
   "cell_type": "markdown",
   "id": "44f5464f-2780-442a-ae99-866d264a0c66",
   "metadata": {},
   "source": [
    "# SBOM quality"
   ]
  },
  {
   "cell_type": "code",
   "execution_count": 71,
   "id": "3c883285-faf4-49fd-8870-27c28181882e",
   "metadata": {},
   "outputs": [
    {
     "data": {
      "text/plain": [
       "count    613.000000\n",
       "mean       7.070245\n",
       "std        0.884311\n",
       "min        3.040000\n",
       "25%        6.480000\n",
       "50%        7.320000\n",
       "75%        7.390000\n",
       "max        9.420000\n",
       "Name: quality, dtype: float64"
      ]
     },
     "execution_count": 71,
     "metadata": {},
     "output_type": "execute_result"
    }
   ],
   "source": [
    "# SBOM quality stats\n",
    "df_clean_quality = df[df.quality!=0]\n",
    "df_clean_quality.quality.describe()"
   ]
  },
  {
   "cell_type": "code",
   "execution_count": 72,
   "id": "199e4e40-adf7-4b62-911d-306510598405",
   "metadata": {
    "scrolled": true
   },
   "outputs": [
    {
     "data": {
      "text/html": [
       "<div>\n",
       "<style scoped>\n",
       "    .dataframe tbody tr th:only-of-type {\n",
       "        vertical-align: middle;\n",
       "    }\n",
       "\n",
       "    .dataframe tbody tr th {\n",
       "        vertical-align: top;\n",
       "    }\n",
       "\n",
       "    .dataframe thead th {\n",
       "        text-align: right;\n",
       "    }\n",
       "</style>\n",
       "<table border=\"1\" class=\"dataframe\">\n",
       "  <thead>\n",
       "    <tr style=\"text-align: right;\">\n",
       "      <th></th>\n",
       "      <th>count</th>\n",
       "      <th>mean</th>\n",
       "      <th>std</th>\n",
       "      <th>min</th>\n",
       "      <th>25%</th>\n",
       "      <th>50%</th>\n",
       "      <th>75%</th>\n",
       "      <th>max</th>\n",
       "    </tr>\n",
       "    <tr>\n",
       "      <th>format</th>\n",
       "      <th></th>\n",
       "      <th></th>\n",
       "      <th></th>\n",
       "      <th></th>\n",
       "      <th></th>\n",
       "      <th></th>\n",
       "      <th></th>\n",
       "      <th></th>\n",
       "    </tr>\n",
       "  </thead>\n",
       "  <tbody>\n",
       "    <tr>\n",
       "      <th>cyclonedx_json</th>\n",
       "      <td>259.0</td>\n",
       "      <td>6.997915</td>\n",
       "      <td>0.960442</td>\n",
       "      <td>3.04</td>\n",
       "      <td>6.4000</td>\n",
       "      <td>6.95</td>\n",
       "      <td>7.39</td>\n",
       "      <td>9.38</td>\n",
       "    </tr>\n",
       "    <tr>\n",
       "      <th>cyclonedx_xml</th>\n",
       "      <td>23.0</td>\n",
       "      <td>7.615652</td>\n",
       "      <td>1.339626</td>\n",
       "      <td>4.35</td>\n",
       "      <td>6.9150</td>\n",
       "      <td>8.17</td>\n",
       "      <td>8.62</td>\n",
       "      <td>8.68</td>\n",
       "    </tr>\n",
       "    <tr>\n",
       "      <th>spdx_json</th>\n",
       "      <td>278.0</td>\n",
       "      <td>7.165504</td>\n",
       "      <td>0.546004</td>\n",
       "      <td>4.13</td>\n",
       "      <td>7.3025</td>\n",
       "      <td>7.36</td>\n",
       "      <td>7.39</td>\n",
       "      <td>8.18</td>\n",
       "    </tr>\n",
       "    <tr>\n",
       "      <th>spdx_spdx</th>\n",
       "      <td>52.0</td>\n",
       "      <td>6.658846</td>\n",
       "      <td>1.384830</td>\n",
       "      <td>4.35</td>\n",
       "      <td>6.0850</td>\n",
       "      <td>6.09</td>\n",
       "      <td>7.72</td>\n",
       "      <td>9.42</td>\n",
       "    </tr>\n",
       "    <tr>\n",
       "      <th>spdx_yaml</th>\n",
       "      <td>1.0</td>\n",
       "      <td>8.170000</td>\n",
       "      <td>NaN</td>\n",
       "      <td>8.17</td>\n",
       "      <td>8.1700</td>\n",
       "      <td>8.17</td>\n",
       "      <td>8.17</td>\n",
       "      <td>8.17</td>\n",
       "    </tr>\n",
       "  </tbody>\n",
       "</table>\n",
       "</div>"
      ],
      "text/plain": [
       "                count      mean       std   min     25%   50%   75%   max\n",
       "format                                                                   \n",
       "cyclonedx_json  259.0  6.997915  0.960442  3.04  6.4000  6.95  7.39  9.38\n",
       "cyclonedx_xml    23.0  7.615652  1.339626  4.35  6.9150  8.17  8.62  8.68\n",
       "spdx_json       278.0  7.165504  0.546004  4.13  7.3025  7.36  7.39  8.18\n",
       "spdx_spdx        52.0  6.658846  1.384830  4.35  6.0850  6.09  7.72  9.42\n",
       "spdx_yaml         1.0  8.170000       NaN  8.17  8.1700  8.17  8.17  8.17"
      ]
     },
     "execution_count": 72,
     "metadata": {},
     "output_type": "execute_result"
    }
   ],
   "source": [
    "df_clean_quality.groupby('format').quality.describe()"
   ]
  },
  {
   "cell_type": "code",
   "execution_count": 73,
   "id": "1f8768f2-74e4-433e-830d-1eed57370048",
   "metadata": {},
   "outputs": [
    {
     "name": "stderr",
     "output_type": "stream",
     "text": [
      "/var/folders/kj/6309bkpj25369522dyfd5dxh0000gn/T/ipykernel_49833/213809533.py:1: SettingWithCopyWarning: \n",
      "A value is trying to be set on a copy of a slice from a DataFrame.\n",
      "Try using .loc[row_indexer,col_indexer] = value instead\n",
      "\n",
      "See the caveats in the documentation: https://pandas.pydata.org/pandas-docs/stable/user_guide/indexing.html#returning-a-view-versus-a-copy\n",
      "  df_clean_quality['extension'] = df_clean_quality.format.apply(lambda x: x.split(\"_\")[1])\n"
     ]
    }
   ],
   "source": [
    "df_clean_quality['extension'] = df_clean_quality.format.apply(lambda x: x.split(\"_\")[1])"
   ]
  },
  {
   "cell_type": "code",
   "execution_count": 74,
   "id": "c177f669-09e4-49f1-8df9-157b630a9d6b",
   "metadata": {},
   "outputs": [
    {
     "name": "stderr",
     "output_type": "stream",
     "text": [
      "/var/folders/kj/6309bkpj25369522dyfd5dxh0000gn/T/ipykernel_49833/4285247223.py:1: SettingWithCopyWarning: \n",
      "A value is trying to be set on a copy of a slice from a DataFrame.\n",
      "Try using .loc[row_indexer,col_indexer] = value instead\n",
      "\n",
      "See the caveats in the documentation: https://pandas.pydata.org/pandas-docs/stable/user_guide/indexing.html#returning-a-view-versus-a-copy\n",
      "  df_clean_quality['real_format'] = df_clean_quality.format.apply(lambda x: x.split(\"_\")[0])\n"
     ]
    }
   ],
   "source": [
    "df_clean_quality['real_format'] = df_clean_quality.format.apply(lambda x: x.split(\"_\")[0])"
   ]
  },
  {
   "cell_type": "code",
   "execution_count": 75,
   "id": "69720dd1-8a82-4637-99fe-313cad1b1845",
   "metadata": {},
   "outputs": [
    {
     "data": {
      "text/html": [
       "<div>\n",
       "<style scoped>\n",
       "    .dataframe tbody tr th:only-of-type {\n",
       "        vertical-align: middle;\n",
       "    }\n",
       "\n",
       "    .dataframe tbody tr th {\n",
       "        vertical-align: top;\n",
       "    }\n",
       "\n",
       "    .dataframe thead th {\n",
       "        text-align: right;\n",
       "    }\n",
       "</style>\n",
       "<table border=\"1\" class=\"dataframe\">\n",
       "  <thead>\n",
       "    <tr style=\"text-align: right;\">\n",
       "      <th></th>\n",
       "      <th>count</th>\n",
       "      <th>mean</th>\n",
       "      <th>std</th>\n",
       "      <th>min</th>\n",
       "      <th>25%</th>\n",
       "      <th>50%</th>\n",
       "      <th>75%</th>\n",
       "      <th>max</th>\n",
       "    </tr>\n",
       "    <tr>\n",
       "      <th>real_format</th>\n",
       "      <th></th>\n",
       "      <th></th>\n",
       "      <th></th>\n",
       "      <th></th>\n",
       "      <th></th>\n",
       "      <th></th>\n",
       "      <th></th>\n",
       "      <th></th>\n",
       "    </tr>\n",
       "  </thead>\n",
       "  <tbody>\n",
       "    <tr>\n",
       "      <th>cyclonedx</th>\n",
       "      <td>282.0</td>\n",
       "      <td>7.048298</td>\n",
       "      <td>1.008035</td>\n",
       "      <td>3.04</td>\n",
       "      <td>6.40</td>\n",
       "      <td>6.95</td>\n",
       "      <td>7.80</td>\n",
       "      <td>9.38</td>\n",
       "    </tr>\n",
       "    <tr>\n",
       "      <th>spdx</th>\n",
       "      <td>331.0</td>\n",
       "      <td>7.088943</td>\n",
       "      <td>0.764362</td>\n",
       "      <td>4.13</td>\n",
       "      <td>6.52</td>\n",
       "      <td>7.36</td>\n",
       "      <td>7.39</td>\n",
       "      <td>9.42</td>\n",
       "    </tr>\n",
       "  </tbody>\n",
       "</table>\n",
       "</div>"
      ],
      "text/plain": [
       "             count      mean       std   min   25%   50%   75%   max\n",
       "real_format                                                         \n",
       "cyclonedx    282.0  7.048298  1.008035  3.04  6.40  6.95  7.80  9.38\n",
       "spdx         331.0  7.088943  0.764362  4.13  6.52  7.36  7.39  9.42"
      ]
     },
     "execution_count": 75,
     "metadata": {},
     "output_type": "execute_result"
    }
   ],
   "source": [
    "df_clean_quality.groupby('real_format').quality.describe()"
   ]
  },
  {
   "cell_type": "code",
   "execution_count": 27,
   "id": "7d0c0736-da14-4bbe-9420-d913c7355a51",
   "metadata": {},
   "outputs": [
    {
     "data": {
      "text/html": [
       "<div>\n",
       "<style scoped>\n",
       "    .dataframe tbody tr th:only-of-type {\n",
       "        vertical-align: middle;\n",
       "    }\n",
       "\n",
       "    .dataframe tbody tr th {\n",
       "        vertical-align: top;\n",
       "    }\n",
       "\n",
       "    .dataframe thead th {\n",
       "        text-align: right;\n",
       "    }\n",
       "</style>\n",
       "<table border=\"1\" class=\"dataframe\">\n",
       "  <thead>\n",
       "    <tr style=\"text-align: right;\">\n",
       "      <th></th>\n",
       "      <th>count</th>\n",
       "      <th>mean</th>\n",
       "      <th>std</th>\n",
       "      <th>min</th>\n",
       "      <th>25%</th>\n",
       "      <th>50%</th>\n",
       "      <th>75%</th>\n",
       "      <th>max</th>\n",
       "    </tr>\n",
       "    <tr>\n",
       "      <th>extension</th>\n",
       "      <th></th>\n",
       "      <th></th>\n",
       "      <th></th>\n",
       "      <th></th>\n",
       "      <th></th>\n",
       "      <th></th>\n",
       "      <th></th>\n",
       "      <th></th>\n",
       "    </tr>\n",
       "  </thead>\n",
       "  <tbody>\n",
       "    <tr>\n",
       "      <th>json</th>\n",
       "      <td>537.0</td>\n",
       "      <td>7.084674</td>\n",
       "      <td>0.777886</td>\n",
       "      <td>3.04</td>\n",
       "      <td>6.520</td>\n",
       "      <td>7.32</td>\n",
       "      <td>7.39</td>\n",
       "      <td>9.38</td>\n",
       "    </tr>\n",
       "    <tr>\n",
       "      <th>spdx</th>\n",
       "      <td>52.0</td>\n",
       "      <td>6.658846</td>\n",
       "      <td>1.384830</td>\n",
       "      <td>4.35</td>\n",
       "      <td>6.085</td>\n",
       "      <td>6.09</td>\n",
       "      <td>7.72</td>\n",
       "      <td>9.42</td>\n",
       "    </tr>\n",
       "    <tr>\n",
       "      <th>xml</th>\n",
       "      <td>23.0</td>\n",
       "      <td>7.615652</td>\n",
       "      <td>1.339626</td>\n",
       "      <td>4.35</td>\n",
       "      <td>6.915</td>\n",
       "      <td>8.17</td>\n",
       "      <td>8.62</td>\n",
       "      <td>8.68</td>\n",
       "    </tr>\n",
       "    <tr>\n",
       "      <th>yaml</th>\n",
       "      <td>1.0</td>\n",
       "      <td>8.170000</td>\n",
       "      <td>NaN</td>\n",
       "      <td>8.17</td>\n",
       "      <td>8.170</td>\n",
       "      <td>8.17</td>\n",
       "      <td>8.17</td>\n",
       "      <td>8.17</td>\n",
       "    </tr>\n",
       "  </tbody>\n",
       "</table>\n",
       "</div>"
      ],
      "text/plain": [
       "           count      mean       std   min    25%   50%   75%   max\n",
       "extension                                                          \n",
       "json       537.0  7.084674  0.777886  3.04  6.520  7.32  7.39  9.38\n",
       "spdx        52.0  6.658846  1.384830  4.35  6.085  6.09  7.72  9.42\n",
       "xml         23.0  7.615652  1.339626  4.35  6.915  8.17  8.62  8.68\n",
       "yaml         1.0  8.170000       NaN  8.17  8.170  8.17  8.17  8.17"
      ]
     },
     "execution_count": 27,
     "metadata": {},
     "output_type": "execute_result"
    }
   ],
   "source": [
    "df_clean_quality.groupby('extension').quality.describe()"
   ]
  },
  {
   "cell_type": "code",
   "execution_count": null,
   "id": "81924fd4-e4f5-4b03-ba95-8d3eb83f836b",
   "metadata": {},
   "outputs": [
    {
     "data": {
      "text/plain": [
       "314    cve-bin-tool\n",
       "316    cve-bin-tool\n",
       "320    cve-bin-tool\n",
       "322    cve-bin-tool\n",
       "325    cve-bin-tool\n",
       "Name: name, dtype: object"
      ]
     },
     "execution_count": 28,
     "metadata": {},
     "output_type": "execute_result"
    }
   ],
   "source": [
    "# Project(s) with best quality\n",
    "max_quality = df_clean_quality.quality.max()\n",
    "df_clean_quality[df_clean_quality.quality == max_quality].name"
   ]
  },
  {
   "cell_type": "code",
   "execution_count": 76,
   "id": "5e0bc9fc-8a65-4b75-859f-d084186ad1a3",
   "metadata": {},
   "outputs": [
    {
     "data": {
      "text/plain": [
       "557    engine\n",
       "Name: name, dtype: object"
      ]
     },
     "execution_count": 76,
     "metadata": {},
     "output_type": "execute_result"
    }
   ],
   "source": [
    "# Project(s) with worst quality\n",
    "min_quality = df_clean_quality.quality.min()\n",
    "df_clean_quality[df_clean_quality.quality == min_quality].name"
   ]
  },
  {
   "cell_type": "markdown",
   "id": "7e342fb7-7902-49ac-a306-20619a324fef",
   "metadata": {},
   "source": [
    "# Licenses"
   ]
  },
  {
   "cell_type": "code",
   "execution_count": 30,
   "id": "e81c6723-eac4-47be-a432-206939209ee4",
   "metadata": {},
   "outputs": [
    {
     "data": {
      "text/plain": [
       "count     620.000000\n",
       "mean      107.946774\n",
       "std       370.995128\n",
       "min         0.000000\n",
       "25%         1.000000\n",
       "50%         1.000000\n",
       "75%        77.000000\n",
       "max      3757.000000\n",
       "Name: licenses, dtype: float64"
      ]
     },
     "execution_count": 30,
     "metadata": {},
     "output_type": "execute_result"
    }
   ],
   "source": [
    "# Licenses stats\n",
    "df.licenses.describe()"
   ]
  },
  {
   "cell_type": "code",
   "execution_count": 31,
   "id": "9c623670-4467-4e5e-aee9-6c77e3f9ab3e",
   "metadata": {},
   "outputs": [
    {
     "data": {
      "text/html": [
       "<div>\n",
       "<style scoped>\n",
       "    .dataframe tbody tr th:only-of-type {\n",
       "        vertical-align: middle;\n",
       "    }\n",
       "\n",
       "    .dataframe tbody tr th {\n",
       "        vertical-align: top;\n",
       "    }\n",
       "\n",
       "    .dataframe thead th {\n",
       "        text-align: right;\n",
       "    }\n",
       "</style>\n",
       "<table border=\"1\" class=\"dataframe\">\n",
       "  <thead>\n",
       "    <tr style=\"text-align: right;\">\n",
       "      <th></th>\n",
       "      <th>count</th>\n",
       "      <th>mean</th>\n",
       "      <th>std</th>\n",
       "      <th>min</th>\n",
       "      <th>25%</th>\n",
       "      <th>50%</th>\n",
       "      <th>75%</th>\n",
       "      <th>max</th>\n",
       "    </tr>\n",
       "  </thead>\n",
       "  <tbody>\n",
       "  </tbody>\n",
       "</table>\n",
       "</div>"
      ],
      "text/plain": [
       "Empty DataFrame\n",
       "Columns: [count, mean, std, min, 25%, 50%, 75%, max]\n",
       "Index: []"
      ]
     },
     "execution_count": 31,
     "metadata": {},
     "output_type": "execute_result"
    }
   ],
   "source": [
    "# Licenses per format\n",
    "df[df['dependencies']==0].groupby('format').licenses.describe()"
   ]
  },
  {
   "cell_type": "code",
   "execution_count": 32,
   "id": "a5a18526-a494-44bf-9047-2fba848ce16a",
   "metadata": {},
   "outputs": [
    {
     "name": "stdout",
     "output_type": "stream",
     "text": [
      "3757\n"
     ]
    },
    {
     "data": {
      "text/plain": [
       "66    camel-quarkus\n",
       "67    camel-quarkus\n",
       "Name: name, dtype: object"
      ]
     },
     "execution_count": 32,
     "metadata": {},
     "output_type": "execute_result"
    }
   ],
   "source": [
    "# SBOM with max Licenses\n",
    "max = df.licenses.max()\n",
    "print(max)\n",
    "df[df.licenses==max].name"
   ]
  },
  {
   "cell_type": "code",
   "execution_count": 33,
   "id": "04556412-128d-40bf-90be-df2acd0b43cf",
   "metadata": {},
   "outputs": [
    {
     "data": {
      "text/plain": [
       "139"
      ]
     },
     "execution_count": 33,
     "metadata": {},
     "output_type": "execute_result"
    }
   ],
   "source": [
    "# SBOM without licenses\n",
    "len(df[df.licenses==0])"
   ]
  },
  {
   "cell_type": "code",
   "execution_count": 34,
   "id": "c86682ed-3988-47be-a10d-0df5025ef9a2",
   "metadata": {},
   "outputs": [
    {
     "data": {
      "text/plain": [
       "format\n",
       "cyclonedx_json    79\n",
       "cyclonedx_xml      4\n",
       "spdx_json         45\n",
       "spdx_spdx         11\n",
       "dtype: int64"
      ]
     },
     "execution_count": 34,
     "metadata": {},
     "output_type": "execute_result"
    }
   ],
   "source": [
    "# Difference between formats for repo without licenses \n",
    "df[df.licenses==0].groupby('format').size()"
   ]
  },
  {
   "cell_type": "code",
   "execution_count": 35,
   "id": "d794d3d1-bf14-49ee-be50-952e8470d4a6",
   "metadata": {},
   "outputs": [
    {
     "name": "stdout",
     "output_type": "stream",
     "text": [
      "16.666666666666664\n",
      "29.225352112676056\n"
     ]
    }
   ],
   "source": [
    "# Percentage of no licenses by format\n",
    "print(len(cdx[cdx.licenses==0])/len(cdx) * 100)\n",
    "print(len(spx[spx.licenses==0])/len(spx) * 100)"
   ]
  },
  {
   "cell_type": "code",
   "execution_count": 36,
   "id": "5795f022-33de-4b02-a8ff-6e9d037be855",
   "metadata": {},
   "outputs": [],
   "source": [
    "clean_licenses = {\n",
    "    \"LicenseRef-http---www.apache.org-licenses-LICENSE-2.0.txt\": \"Apache-2.0\",\n",
    "    \"LicenseRef-http---www.apache.org-licenses-LICENSE-2.0.txt\": \"Apache-2.0\",\n",
    "    \"LicenseRef-https---www.apache.org-licenses-LICENSE-2.0.txt\": \"Apache-2.0\",\n",
    "    \"LicenseRef-https---www.apache.org-licenses-LICENSE-2.0.txt\": \"Apache-2.0\",\n",
    "    \"LicenseRef-https---www.apache.org-licenses-LICENSE-2.0\": \"Apache-2.0\",\n",
    "    \"https://www.apache.org/licenses/LICENSE-2.0.txt\" : \"Apache-2.0\",\n",
    "    '\"Apache-2.0\";link=\"https://www.apache.org/licenses/LICENSE-2.0.txt\"' : \"Apache-2.0\",\n",
    "    \"Apache License, 2.0\" : \"Apache-2.0\",\n",
    "    \"Apache License 2.0\" : \"Apache-2.0\",\n",
    "    \"Apache License 2\" : \"Apache-2.0\",\n",
    "    \"Apache License, Version 2.0\" : \"Apache-2.0\",\n",
    "    \"Apache License Version 2.0\" : \"Apache-2.0\",\n",
    "    \"Apache 2\" : \"Apache-2.0\",\n",
    "    \"Apache\" : \"Apache-2.0\",\n",
    "    \"Apache Software License\": \"Apache-2.0\",\n",
    "    \"Apache Software License, Version 2.0\": \"Apache-2.0\",\n",
    "    \"Apache-2,\" : \"Apache-2.0\",\n",
    "    'Apache-2.0\";link=\"https://www.apache.org/licenses/LICENSE-2.0.txt\",' : \"Apache-2.0\",\n",
    "    \"Apache Software License, Version 2.0\" : \"Apache-2.0\",\n",
    "    \"Apache 2.0\" : \"Apache-2.0\",\n",
    "    \"LicenseRef-254761b1c99a8b9e7be8f9685ae02656d4912af7bf14f6a9b0ac7102a7b893ea\" : \"\",\n",
    "    #\"LicenseRef-LGPLv2-\" : \"LGPL-2.0\",\n",
    "    \"GPL-2.0-only\" : \"GPL-2.0\",\n",
    "    \"GPL-2.0-or-later\": \"GPL-2.0\",\n",
    "    \"http://www.apache.org/licenses/LICENSE-2.0.txt\" : \"Apache-2.0\",\n",
    "    \"LicenseRef-https--www.apache.org-licenses-LICENSE-2.0\": \"Apache-2.0\",\n",
    "    \"...\" : '',\n",
    "    \"Standard 'no charge' license: https://gsap.com/standard-license. Club GSAP members get more: https://gsap.com/licensing/. Why GreenSock doesn't employ an MIT license: https://gsap.com/why-license/\" : \"GSAP\",\n",
    "    \"MIT (http://mootools.net/license.txt)\": \"MIT\",\n",
    "    \"http://www.eclipse.org/legal/epl-2.0, https://www.gnu.org/software/classpath/license.html\" : \"EPL-2.0\",\n",
    "    \"http://creativecommons.org/publicdomain/zero/1.0/, https://opensource.org/licenses/BSD-2-Clause\" : \"CC0\",\n",
    "    'Paul-Hsieh,': '',\n",
    "    'JPEG,': '',\n",
    "    'double-metaphone': '',\n",
    "    'and/or': '',\n",
    "    'license,': '',\n",
    "    'libpng,': '',\n",
    "    'copy,': '',\n",
    "    'config-h,': '',\n",
    "    'of': '',\n",
    "    'Autoconf,': '',\n",
    "    'person,': '',\n",
    "    '2-clause': '',\n",
    "    'exception,': '',\n",
    "    'Expat,': '',\n",
    "    'BSD-3,': '',\n",
    "    'granted': '',\n",
    "    'other': '',\n",
    "    'under': '',\n",
    "    '/': '',\n",
    "    'later': '',\n",
    "    'custom,': '',\n",
    "    '/usr/share/common-licenses/GPL-2.': '',\n",
    "    'BSD-2-clause-author,': '',\n",
    "    'configure': '',\n",
    "    'double-metaphone,': '',\n",
    "    'SEE LICENSE IN LICENSE.md': '',\n",
    "    'copying': '',\n",
    "    'TEXT-TABS,': '',\n",
    "    'use,': '',\n",
    "    'way': '',\n",
    "    'see': '',\n",
    "    'SunSoft': '',\n",
    "    'Unicode-DFS-2016': '',\n",
    "    'is': '',\n",
    "    'person': '',\n",
    "    'GPL-2.0-with-classpath-exception': '',\n",
    "    'hereby': '',\n",
    "    'This': '',\n",
    "    'obtaining,': '',\n",
    "    'font': '',\n",
    "    'any': '',\n",
    "    'licensed': '',\n",
    "    'for': '',\n",
    "    'The': '',\n",
    "    'and' : '',\n",
    "    'to': '',\n",
    "    'Lesser,':'',\n",
    "    'use':'',\n",
    "    'By': '',\n",
    "    'Podam runs under the MIT license': 'MIT',\n",
    "    'MIT License':'MIT',\n",
    "    'GNU LESSER GENERAL PUBLIC LICENSE 2.1' : 'GLGPL-2.1',\n",
    "    'AFL-2.1,' : 'AFL-2,1',\n",
    "    'Public-Domain,':'Public-Domain',\n",
    "    'http://www.eclipse.org/legal/epl-v10.html, http://www.gnu.org/licenses/old-licenses/lgpl-2.1.html' : \"EPL-1.0\",\n",
    "    'http://www.opensource.org/licenses/mit-license.php': \"MIT\",\n",
    "    'International Program License Agreement (IPLA)': 'IPLA',\n",
    "    'GNU LESSER GENERAL PUBLIC LICENSE, version 3 (LGPL-3.0)': 'GLGPL-3.0',\n",
    "    'GENERAL PUBLIC LICENSE, version 3 (GPL-3.0)': 'GPL-3.0'\n",
    "}\n",
    "\n",
    "def fix_license(text):\n",
    "    if (text != '' and text[-1] == \",\"):\n",
    "        text = text[:-1]\n",
    "    if text in clean_licenses:\n",
    "        return clean_licenses[text]\n",
    "    if \"LicenseRef-\" in text:\n",
    "        r = list(filter(None, \"LicenseRef-GPL-3---BISON-EXCEPTION-\".split('-')[1:]))\n",
    "        return \"-\".join(r)\n",
    "    return text"
   ]
  },
  {
   "cell_type": "code",
   "execution_count": 37,
   "id": "872307d6-dd41-4245-a3a1-c23e7fcaa3cd",
   "metadata": {
    "scrolled": true
   },
   "outputs": [
    {
     "data": {
      "text/plain": [
       "['LGPL-2.0',\n",
       " 'JDOM',\n",
       " 'LGPL-3.0',\n",
       " 'HPND',\n",
       " 'AGPL-V3',\n",
       " 'BSD-4-clause-California',\n",
       " 'BSD-2-Clause-FreeBSD',\n",
       " 'LGPL-2.1-only',\n",
       " 'GFDL-1.3+-no-invariant',\n",
       " 'XFree86-1.0',\n",
       " '(CC-BY-4.0 AND MIT)',\n",
       " '(Apache-2.0 OR EPL-2.0)',\n",
       " 'OpenLDAP-2.8',\n",
       " 'GFDL-1.3-only',\n",
       " 'BSD-2.2-clause',\n",
       " 'JCG',\n",
       " 'GFDL-1.2-only',\n",
       " 'X11',\n",
       " 'ALv2',\n",
       " 'GPL2 w/ CPE',\n",
       " 'BSD-3-clause-variant',\n",
       " 'HSIEH-BSD',\n",
       " 'TinySCHEME',\n",
       " 'WTFPL',\n",
       " 'BSD-3-Clause-Attribution',\n",
       " 'Eclipse Distribution License v. 1.0',\n",
       " 'PubNub Software Development Kit License',\n",
       " 'ISC-no-attribution',\n",
       " 'BSD-3-Clause-Google',\n",
       " 'Oracle Free Use Terms and Conditions (FUTC)',\n",
       " 'OFL-1.1',\n",
       " 'W3C',\n",
       " 'BSL-1.0',\n",
       " 'BSD-3-Clause',\n",
       " 'LGPL-2.1-or-later',\n",
       " 'The QuickFIX Software License, Version 1.0',\n",
       " 'Unknown License',\n",
       " 'BSD-style',\n",
       " 'FSFUL',\n",
       " 'LGPLv3',\n",
       " 'Unlicense',\n",
       " 'Unicode/ICU License',\n",
       " 'IBM-as-is',\n",
       " 'BSD-BY-LC-NE',\n",
       " 'ISC License',\n",
       " 'The BSD License',\n",
       " 'BSD',\n",
       " 'ASF 2.0',\n",
       " 'GNU Lesser GPL, Version 3',\n",
       " 'PSF-2.0',\n",
       " 'The (New) BSD License',\n",
       " 'GNU General Public License Version 2',\n",
       " 'OLDAP-2.8',\n",
       " 'Copyright (c) 2005-2024, NumPy Developers.\\n All rights reserved.\\n \\n Redistribution and use in source and binary forms, with or without\\n modification, are permitted provided that the following conditions are\\n met:\\n \\n * Redistributions of source code must retain the above copyright\\n notice, this list of conditions and the following disclaimer.\\n \\n * Redistributions in binary form must reproduce the above\\n copyright notice, this list of conditions and the following\\n disclaimer in the documentation and/or other materials provided\\n with the distribution.\\n \\n * Neither the name of the NumPy Developers nor the names of any\\n contributors may be used to endorse or promote products derived\\n from this software without specific prior written permission.\\n \\n THIS SOFTWARE IS PROVIDED BY THE COPYRIGHT HOLDERS AND CONTRIBUTORS\\n \"AS IS\" AND ANY EXPRESS OR IMPLIED WARRANTIES, INCLUDING, BUT NOT\\n LIMITED TO, THE IMPLIED WARRANTIES OF MERCHANTABILITY AND FITNESS FOR\\n A PARTICULAR PURPOSE ARE DISCLAIMED. IN NO EVENT SHALL THE COPYRIGHT\\n OWNER OR CONTRIBUTORS BE LIABLE FOR ANY DIRECT, INDIRECT, INCIDENTAL,\\n SPECIAL, EXEMPLARY, OR CONSEQUENTIAL DAMAGES (INCLUDING, BUT NOT\\n LIMITED TO, PROCUREMENT OF SUBSTITUTE GOODS OR SERVICES; LOSS OF USE,\\n DATA, OR PROFITS; OR BUSINESS INTERRUPTION) HOWEVER CAUSED AND ON ANY\\n THEORY OF LIABILITY, WHETHER IN CONTRACT, STRICT LIABILITY, OR TORT\\n (INCLUDING NEGLIGENCE OR OTHERWISE) ARISING IN ANY WAY OUT OF THE USE\\n OF THIS SOFTWARE, EVEN IF ADVISED OF THE POSSIBILITY OF SUCH DAMAGE.\\n \\n ----\\n \\n The NumPy repository and source distributions bundle several libraries that are\\n compatibly licensed.  We list these here.\\n \\n Name: lapack-lite\\n Files: numpy/linalg/lapack_lite/*\\n License: BSD-3-Clause\\n For details, see numpy/linalg/lapack_lite/LICENSE.txt\\n \\n Name: dragon4\\n Files: numpy/_core/src/multiarray/dragon4.c\\n License: MIT\\n For license text, see numpy/_core/src/multiarray/dragon4.c\\n \\n Name: libdivide\\n Files: numpy/_core/include/numpy/libdivide/*\\n License: Zlib\\n For license text, see numpy/_core/include/numpy/libdivide/LICENSE.txt\\n \\n \\n Note that the following files are vendored in the repository and sdist but not\\n installed in built numpy packages:\\n \\n Name: Meson\\n Files: vendored-meson/meson/*\\n License: Apache 2.0\\n For license text, see vendored-meson/meson/COPYING\\n \\n Name: spin\\n Files: .spin/cmds.py\\n License: BSD-3\\n For license text, see .spin/LICENSE\\n \\n Name: tempita\\n Files: numpy/_build_utils/tempita/*\\n License: MIT\\n For details, see numpy/_build_utils/tempita/LICENCE.txt\\n \\n ----\\n \\n This binary distribution of NumPy also bundles the following software:\\n \\n \\n Name: OpenBLAS\\n Files: numpy.libs/libscipy_openblas*.so\\n Description: bundled as a dynamically linked library\\n Availability: https://github.com/OpenMathLib/OpenBLAS/\\n License: BSD-3-Clause\\n Copyright (c) 2011-2014, The OpenBLAS Project\\n All rights reserved.\\n \\n Redistribution and use in source and binary forms, with or without\\n modification, are permitted provided that the following conditions are\\n met:\\n \\n 1. Redistributions of source code must retain the above copyright\\n notice, this list of conditions and the following disclaimer.\\n \\n 2. Redistributions in binary form must reproduce the above copyright\\n notice, this list of conditions and the following disclaimer in\\n the documentation and/or other materials provided with the\\n distribution.\\n 3. Neither the name of the OpenBLAS project nor the names of\\n its contributors may be used to endorse or promote products\\n derived from this software without specific prior written\\n permission.\\n \\n THIS SOFTWARE IS PROVIDED BY THE COPYRIGHT HOLDERS AND CONTRIBUTORS \"AS IS\"\\n AND ANY EXPRESS OR IMPLIED WARRANTIES, INCLUDING, BUT NOT LIMITED TO, THE\\n IMPLIED WARRANTIES OF MERCHANTABILITY AND FITNESS FOR A PARTICULAR PURPOSE\\n ARE DISCLAIMED. IN NO EVENT SHALL THE COPYRIGHT OWNER OR CONTRIBUTORS BE\\n LIABLE FOR ANY DIRECT, INDIRECT, INCIDENTAL, SPECIAL, EXEMPLARY, OR CONSEQUENTIAL\\n DAMAGES (INCLUDING, BUT NOT LIMITED TO, PROCUREMENT OF SUBSTITUTE GOODS OR\\n SERVICES; LOSS OF USE, DATA, OR PROFITS; OR BUSINESS INTERRUPTION) HOWEVER\\n CAUSED AND ON ANY THEORY OF LIABILITY, WHETHER IN CONTRACT, STRICT LIABILITY,\\n OR TORT (INCLUDING NEGLIGENCE OR OTHERWISE) ARISING IN ANY WAY OUT OF THE\\n USE OF THIS SOFTWARE, EVEN IF ADVISED OF THE POSSIBILITY OF SUCH DAMAGE.\\n \\n \\n Name: LAPACK\\n Files: numpy.libs/libscipy_openblas*.so\\n Description: bundled in OpenBLAS\\n Availability: https://github.com/OpenMathLib/OpenBLAS/\\n License: BSD-3-Clause-Attribution\\n Copyright (c) 1992-2013 The University of Tennessee and The University\\n of Tennessee Research Foundation.  All rights\\n reserved.\\n Copyright (c) 2000-2013 The University of California Berkeley. All\\n rights reserved.\\n Copyright (c) 2006-2013 The University of Colorado Denver.  All rights\\n reserved.\\n \\n $COPYRIGHT$\\n \\n Additional copyrights may follow\\n \\n $HEADER$\\n \\n Redistribution and use in source and binary forms, with or without\\n modification, are permitted provided that the following conditions are\\n met:\\n \\n - Redistributions of source code must retain the above copyright\\n notice, this list of conditions and the following disclaimer.\\n \\n - Redistributions in binary form must reproduce the above copyright\\n notice, this list of conditions and the following disclaimer listed\\n in this license in the documentation and/or other materials\\n provided with the distribution.\\n \\n - Neither the name of the copyright holders nor the names of its\\n contributors may be used to endorse or promote products derived from\\n this software without specific prior written permission.\\n \\n The copyright holders provide no reassurances that the source code\\n provided does not infringe any patent, copyright, or any other\\n intellectual property rights of third parties.  The copyright holders\\n disclaim any liability to any recipient for claims brought against\\n recipient by any third party for infringement of that parties\\n intellectual property rights.\\n \\n THIS SOFTWARE IS PROVIDED BY THE COPYRIGHT HOLDERS AND CONTRIBUTORS\\n \"AS IS\" AND ANY EXPRESS OR IMPLIED WARRANTIES, INCLUDING, BUT NOT\\n LIMITED TO, THE IMPLIED WARRANTIES OF MERCHANTABILITY AND FITNESS FOR\\n A PARTICULAR PURPOSE ARE DISCLAIMED. IN NO EVENT SHALL THE COPYRIGHT\\n OWNER OR CONTRIBUTORS BE LIABLE FOR ANY DIRECT, INDIRECT, INCIDENTAL,\\n SPECIAL, EXEMPLARY, OR CONSEQUENTIAL DAMAGES (INCLUDING, BUT NOT\\n LIMITED TO, PROCUREMENT OF SUBSTITUTE GOODS OR SERVICES; LOSS OF USE,\\n DATA, OR PROFITS; OR BUSINESS INTERRUPTION) HOWEVER CAUSED AND ON ANY\\n THEORY OF LIABILITY, WHETHER IN CONTRACT, STRICT LIABILITY, OR TORT\\n (INCLUDING NEGLIGENCE OR OTHERWISE) ARISING IN ANY WAY OUT OF THE USE\\n OF THIS SOFTWARE, EVEN IF ADVISED OF THE POSSIBILITY OF SUCH DAMAGE.\\n \\n \\n Name: GCC runtime library\\n Files: numpy.libs/libgfortran*.so\\n Description: dynamically linked to files compiled with gcc\\n Availability: https://gcc.gnu.org/git/?p=gcc.git;a=tree;f=libgfortran\\n License: GPL-3.0-with-GCC-exception\\n Copyright (C) 2002-2017 Free Software Foundation, Inc.\\n \\n Libgfortran is free software; you can redistribute it and/or modify\\n it under the terms of the GNU General Public License as published by\\n the Free Software Foundation; either version 3, or (at your option)\\n any later version.\\n \\n Libgfortran is distributed in the hope that it will be useful,\\n but WITHOUT ANY WARRANTY; without even the implied warranty of\\n MERCHANTABILITY or FITNESS FOR A PARTICULAR PURPOSE.  See the\\n GNU General Public License for more details.\\n \\n Under Section 7 of GPL version 3, you are granted additional\\n permissions described in the GCC Runtime Library Exception, version\\n 3.1, as published by the Free Software Foundation.\\n \\n You should have received a copy of the GNU General Public License and\\n a copy of the GCC Runtime Library Exception along with this program;\\n see the files COPYING3 and COPYING.RUNTIME respectively.  If not, see\\n <http://www.gnu.org/licenses/>.\\n \\n ----\\n \\n Full text of license texts referred to above follows (that they are\\n listed below does not necessarily imply the conditions apply to the\\n present binary release):\\n \\n ----\\n \\n GCC RUNTIME LIBRARY EXCEPTION\\n \\n Version 3.1, 31 March 2009\\n \\n Copyright (C) 2009 Free Software Foundation, Inc. <http://fsf.org/>\\n \\n Everyone is permitted to copy and distribute verbatim copies of this\\n license document, but changing it is not allowed.\\n \\n This GCC Runtime Library Exception (\"Exception\") is an additional\\n permission under section 7 of the GNU General Public License, version\\n 3 (\"GPLv3\"). It applies to a given file (the \"Runtime Library\") that\\n bears a notice placed by the copyright holder of the file stating that\\n the file is governed by GPLv3 along with this Exception.\\n \\n When you use GCC to compile a program, GCC may combine portions of\\n certain GCC header files and runtime libraries with the compiled\\n program. The purpose of this Exception is to allow compilation of\\n non-GPL (including proprietary) programs to use, in this way, the\\n header files and runtime libraries covered by this Exception.\\n \\n 0. Definitions.\\n \\n A file is an \"Independent Module\" if it either requires the Runtime\\n Library for execution after a Compilation Process, or makes use of an\\n interface provided by the Runtime Library, but is not otherwise based\\n on the Runtime Library.\\n \\n \"GCC\" means a version of the GNU Compiler Collection, with or without\\n modifications, governed by version 3 (or a specified later version) of\\n the GNU General Public License (GPL) with the option of using any\\n subsequent versions published by the FSF.\\n \\n \"GPL-compatible Software\" is software whose conditions of propagation,\\n modification and use would permit combination with GCC in accord with\\n the license of GCC.\\n \\n \"Target Code\" refers to output from any compiler for a real or virtual\\n target processor architecture, in executable form or suitable for\\n input to an assembler, loader, linker and/or execution\\n phase. Notwithstanding that, Target Code does not include data in any\\n format that is used as a compiler intermediate representation, or used\\n for producing a compiler intermediate representation.\\n \\n The \"Compilation Process\" transforms code entirely represented in\\n non-intermediate languages designed for human-written code, and/or in\\n Java Virtual Machine byte code, into Target Code. Thus, for example,\\n use of source code generators and preprocessors need not be considered\\n part of the Compilation Process, since the Compilation Process can be\\n understood as starting with the output of the generators or\\n preprocessors.\\n \\n A Compilation Process is \"Eligible\" if it is done using GCC, alone or\\n with other GPL-compatible software, or if it is done without using any\\n work based on GCC. For example, using non-GPL-compatible Software to\\n optimize any GCC intermediate representations would not qualify as an\\n Eligible Compilation Process.\\n \\n 1. Grant of Additional Permission.\\n \\n You have permission to propagate a work of Target Code formed by\\n combining the Runtime Library with Independent Modules, even if such\\n propagation would otherwise violate the terms of GPLv3, provided that\\n all Target Code was generated by Eligible Compilation Processes. You\\n may then convey such a combination under terms of your choice,\\n consistent with the licensing of the Independent Modules.\\n \\n 2. No Weakening of GCC Copyleft.\\n \\n The availability of this Exception does not imply any general\\n presumption that third-party software is unaffected by the copyleft\\n requirements of the license of GCC.\\n \\n ----\\n \\n GNU GENERAL PUBLIC LICENSE\\n Version 3, 29 June 2007\\n \\n Copyright (C) 2007 Free Software Foundation, Inc. <http://fsf.org/>\\n Everyone is permitted to copy and distribute verbatim copies\\n of this license document, but changing it is not allowed.\\n \\n Preamble\\n \\n The GNU General Public License is a free, copyleft license for\\n software and other kinds of works.\\n \\n The licenses for most software and other practical works are designed\\n to take away your freedom to share and change the works.  By contrast,\\n the GNU General Public License is intended to guarantee your freedom to\\n share and change all versions of a program--to make sure it remains free\\n software for all its users.  We, the Free Software Foundation, use the\\n GNU General Public License for most of our software; it applies also to\\n any other work released this way by its authors.  You can apply it to\\n your programs, too.\\n \\n When we speak of free software, we are referring to freedom, not\\n price.  Our General Public Licenses are designed to make sure that you\\n have the freedom to distribute copies of free software (and charge for\\n them if you wish), that you receive source code or can get it if you\\n want it, that you can change the software or use pieces of it in new\\n free programs, and that you know you can do these things.\\n \\n To protect your rights, we need to prevent others from denying you\\n these rights or asking you to surrender the rights.  Therefore, you have\\n certain responsibilities if you distribute copies of the software, or if\\n you modify it: responsibilities to respect the freedom of others.\\n \\n For example, if you distribute copies of such a program, whether\\n gratis or for a fee, you must pass on to the recipients the same\\n freedoms that you received.  You must make sure that they, too, receive\\n or can get the source code.  And you must show them these terms so they\\n know their rights.\\n \\n Developers that use the GNU GPL protect your rights with two steps:\\n (1) assert copyright on the software, and (2) offer you this License\\n giving you legal permission to copy, distribute and/or modify it.\\n \\n For the developers\\' and authors\\' protection, the GPL clearly explains\\n that there is no warranty for this free software.  For both users\\' and\\n authors\\' sake, the GPL requires that modified versions be marked as\\n changed, so that their problems will not be attributed erroneously to\\n authors of previous versions.\\n \\n Some devices are designed to deny users access to install or run\\n modified versions of the software inside them, although the manufacturer\\n can do so.  This is fundamentally incompatible with the aim of\\n protecting users\\' freedom to change the software.  The systematic\\n pattern of such abuse occurs in the area of products for individuals to\\n use, which is precisely where it is most unacceptable.  Therefore, we\\n have designed this version of the GPL to prohibit the practice for those\\n products.  If such problems arise substantially in other domains, we\\n stand ready to extend this provision to those domains in future versions\\n of the GPL, as needed to protect the freedom of users.\\n \\n Finally, every program is threatened constantly by software patents.\\n States should not allow patents to restrict development and use of\\n software on general-purpose computers, but in those that do, we wish to\\n avoid the special danger that patents applied to a free program could\\n make it effectively proprietary.  To prevent this, the GPL assures that\\n patents cannot be used to render the program non-free.\\n \\n The precise terms and conditions for copying, distribution and\\n modification follow.\\n \\n TERMS AND CONDITIONS\\n \\n 0. Definitions.\\n \\n \"This License\" refers to version 3 of the GNU General Public License.\\n \\n \"Copyright\" also means copyright-like laws that apply to other kinds of\\n works, such as semiconductor masks.\\n \\n \"The Program\" refers to any copyrightable work licensed under this\\n License.  Each licensee is addressed as \"you\".  \"Licensees\" and\\n \"recipients\" may be individuals or organizations.\\n \\n To \"modify\" a work means to copy from or adapt all or part of the work\\n in a fashion requiring copyright permission, other than the making of an\\n exact copy.  The resulting work is called a \"modified version\" of the\\n earlier work or a work \"based on\" the earlier work.\\n \\n A \"covered work\" means either the unmodified Program or a work based\\n on the Program.\\n \\n To \"propagate\" a work means to do anything with it that, without\\n permission, would make you directly or secondarily liable for\\n infringement under applicable copyright law, except executing it on a\\n computer or modifying a private copy.  Propagation includes copying,\\n distribution (with or without modification), making available to the\\n public, and in some countries other activities as well.\\n \\n To \"convey\" a work means any kind of propagation that enables other\\n parties to make or receive copies.  Mere interaction with a user through\\n a computer network, with no transfer of a copy, is not conveying.\\n \\n An interactive user interface displays \"Appropriate Legal Notices\"\\n to the extent that it includes a convenient and prominently visible\\n feature that (1) displays an appropriate copyright notice, and (2)\\n tells the user that there is no warranty for the work (except to the\\n extent that warranties are provided), that licensees may convey the\\n work under this License, and how to view a copy of this License.  If\\n the interface presents a list of user commands or options, such as a\\n menu, a prominent item in the list meets this criterion.\\n \\n 1. Source Code.\\n \\n The \"source code\" for a work means the preferred form of the work\\n for making modifications to it.  \"Object code\" means any non-source\\n form of a work.\\n \\n A \"Standard Interface\" means an interface that either is an official\\n standard defined by a recognized standards body, or, in the case of\\n interfaces specified for a particular programming language, one that\\n is widely used among developers working in that language.\\n \\n The \"System Libraries\" of an executable work include anything, other\\n than the work as a whole, that (a) is included in the normal form of\\n packaging a Major Component, but which is not part of that Major\\n Component, and (b) serves only to enable use of the work with that\\n Major Component, or to implement a Standard Interface for which an\\n implementation is available to the public in source code form.  A\\n \"Major Component\", in this context, means a major essential component\\n (kernel, window system, and so on) of the specific operating system\\n (if any) on which the executable work runs, or a compiler used to\\n produce the work, or an object code interpreter used to run it.\\n \\n The \"Corresponding Source\" for a work in object code form means all\\n the source code needed to generate, install, and (for an executable\\n work) run the object code and to modify the work, including scripts to\\n control those activities.  However, it does not include the work\\'s\\n System Libraries, or general-purpose tools or generally available free\\n programs which are used unmodified in performing those activities but\\n which are not part of the work.  For example, Corresponding Source\\n includes interface definition files associated with source files for\\n the work, and the source code for shared libraries and dynamically\\n linked subprograms that the work is specifically designed to require,\\n such as by intimate data communication or control flow between those\\n subprograms and other parts of the work.\\n \\n The Corresponding Source need not include anything that users\\n can regenerate automatically from other parts of the Corresponding\\n Source.\\n \\n The Corresponding Source for a work in source code form is that\\n same work.\\n \\n 2. Basic Permissions.\\n \\n All rights granted under this License are granted for the term of\\n copyright on the Program, and are irrevocable provided the stated\\n conditions are met.  This License explicitly affirms your unlimited\\n permission to run the unmodified Program.  The output from running a\\n covered work is covered by this License only if the output, given its\\n content, constitutes a covered work.  This License acknowledges your\\n rights of fair use or other equivalent, as provided by copyright law.\\n \\n You may make, run and propagate covered works that you do not\\n convey, without conditions so long as your license otherwise remains\\n in force.  You may convey covered works to others for the sole purpose\\n of having them make modifications exclusively for you, or provide you\\n with facilities for running those works, provided that you comply with\\n the terms of this License in conveying all material for which you do\\n not control copyright.  Those thus making or running the covered works\\n for you must do so exclusively on your behalf, under your direction\\n and control, on terms that prohibit them from making any copies of\\n your copyrighted material outside their relationship with you.\\n \\n Conveying under any other circumstances is permitted solely under\\n the conditions stated below.  Sublicensing is not allowed; section 10\\n makes it unnecessary.\\n \\n 3. Protecting Users\\' Legal Rights From Anti-Circumvention Law.\\n \\n No covered work shall be deemed part of an effective technological\\n measure under any applicable law fulfilling obligations under article\\n 11 of the WIPO copyright treaty adopted on 20 December 1996, or\\n similar laws prohibiting or restricting circumvention of such\\n measures.\\n \\n When you convey a covered work, you waive any legal power to forbid\\n circumvention of technological measures to the extent such circumvention\\n is effected by exercising rights under this License with respect to\\n the covered work, and you disclaim any intention to limit operation or\\n modification of the work as a means of enforcing, against the work\\'s\\n users, your or third parties\\' legal rights to forbid circumvention of\\n technological measures.\\n \\n 4. Conveying Verbatim Copies.\\n \\n You may convey verbatim copies of the Program\\'s source code as you\\n receive it, in any medium, provided that you conspicuously and\\n appropriately publish on each copy an appropriate copyright notice;\\n keep intact all notices stating that this License and any\\n non-permissive terms added in accord with section 7 apply to the code;\\n keep intact all notices of the absence of any warranty; and give all\\n recipients a copy of this License along with the Program.\\n \\n You may charge any price or no price for each copy that you convey,\\n and you may offer support or warranty protection for a fee.\\n \\n 5. Conveying Modified Source Versions.\\n \\n You may convey a work based on the Program, or the modifications to\\n produce it from the Program, in the form of source code under the\\n terms of section 4, provided that you also meet all of these conditions:\\n \\n a) The work must carry prominent notices stating that you modified\\n it, and giving a relevant date.\\n \\n b) The work must carry prominent notices stating that it is\\n released under this License and any conditions added under section\\n 7.  This requirement modifies the requirement in section 4 to\\n \"keep intact all notices\".\\n \\n c) You must license the entire work, as a whole, under this\\n License to anyone who comes into possession of a copy.  This\\n License will therefore apply, along with any applicable section 7\\n additional terms, to the whole of the work, and all its parts,\\n regardless of how they are packaged.  This License gives no\\n permission to license the work in any other way, but it does not\\n invalidate such permission if you have separately received it.\\n \\n d) If the work has interactive user interfaces, each must display\\n Appropriate Legal Notices; however, if the Program has interactive\\n interfaces that do not display Appropriate Legal Notices, your\\n work need not make them do so.\\n \\n A compilation of a covered work with other separate and independent\\n works, which are not by their nature extensions of the covered work,\\n and which are not combined with it such as to form a larger program,\\n in or on a volume of a storage or distribution medium, is called an\\n \"aggregate\" if the compilation and its resulting copyright are not\\n used to limit the access or legal rights of the compilation\\'s users\\n beyond what the individual works permit.  Inclusion of a covered work\\n in an aggregate does not cause this License to apply to the other\\n parts of the aggregate.\\n \\n 6. Conveying Non-Source Forms.\\n \\n You may convey a covered work in object code form under the terms\\n of sections 4 and 5, provided that you also convey the\\n machine-readable Corresponding Source under the terms of this License,\\n in one of these ways:\\n \\n a) Convey the object code in, or embodied in, a physical product\\n (including a physical distribution medium), accompanied by the\\n Corresponding Source fixed on a durable physical medium\\n customarily used for software interchange.\\n \\n b) Convey the object code in, or embodied in, a physical product\\n (including a physical distribution medium), accompanied by a\\n written offer, valid for at least three years and valid for as\\n long as you offer spare parts or customer support for that product\\n model, to give anyone who possesses the object code either (1) a\\n copy of the Corresponding Source for all the software in the\\n product that is covered by this License, on a durable physical\\n medium customarily used for software interchange, for a price no\\n more than your reasonable cost of physically performing this\\n conveying of source, or (2) access to copy the\\n Corresponding Source from a network server at no charge.\\n \\n c) Convey individual copies of the object code with a copy of the\\n written offer to provide the Corresponding Source.  This\\n alternative is allowed only occasionally and noncommercially, and\\n only if you received the object code with such an offer, in accord\\n with subsection 6b.\\n \\n d) Convey the object code by offering access from a designated\\n place (gratis or for a charge), and offer equivalent access to the\\n Corresponding Source in the same way through the same place at no\\n further charge.  You need not require recipients to copy the\\n Corresponding Source along with the object code.  If the place to\\n copy the object code is a network server, the Corresponding Source\\n may be on a different server (operated by you or a third party)\\n that supports equivalent copying facilities, provided you maintain\\n clear directions next to the object code saying where to find the\\n Corresponding Source.  Regardless of what server hosts the\\n Corresponding Source, you remain obligated to ensure that it is\\n available for as long as needed to satisfy these requirements.\\n \\n e) Convey the object code using peer-to-peer transmission, provided\\n you inform other peers where the object code and Corresponding\\n Source of the work are being offered to the general public at no\\n charge under subsection 6d.\\n \\n A separable portion of the object code, whose source code is excluded\\n from the Corresponding Source as a System Library, need not be\\n included in conveying the object code work.\\n \\n A \"User Product\" is either (1) a \"consumer product\", which means any\\n tangible personal property which is normally used for personal, family,\\n or household purposes, or (2) anything designed or sold for incorporation\\n into a dwelling.  In determining whether a product is a consumer product,\\n doubtful cases shall be resolved in favor of coverage.  For a particular\\n product received by a particular user, \"normally used\" refers to a\\n typical or common use of that class of product, regardless of the status\\n of the particular user or of the way in which the particular user\\n actually uses, or expects or is expected to use, the product.  A product\\n is a consumer product regardless of whether the product has substantial\\n commercial, industrial or non-consumer uses, unless such uses represent\\n the only significant mode of use of the product.\\n \\n \"Installation Information\" for a User Product means any methods,\\n procedures, authorization keys, or other information required to install\\n and execute modified versions of a covered work in that User Product from\\n a modified version of its Corresponding Source.  The information must\\n suffice to ensure that the continued functioning of the modified object\\n code is in no case prevented or interfered with solely because\\n modification has been made.\\n \\n If you convey an object code work under this section in, or with, or\\n specifically for use in, a User Product, and the conveying occurs as\\n part of a transaction in which the right of possession and use of the\\n User Product is transferred to the recipient in perpetuity or for a\\n fixed term (regardless of how the transaction is characterized), the\\n Corresponding Source conveyed under this section must be accompanied\\n by the Installation Information.  But this requirement does not apply\\n if neither you nor any third party retains the ability to install\\n modified object code on the User Product (for example, the work has\\n been installed in ROM).\\n \\n The requirement to provide Installation Information does not include a\\n requirement to continue to provide support service, warranty, or updates\\n for a work that has been modified or installed by the recipient, or for\\n the User Product in which it has been modified or installed.  Access to a\\n network may be denied when the modification itself materially and\\n adversely affects the operation of the network or violates the rules and\\n protocols for communication across the network.\\n \\n Corresponding Source conveyed, and Installation Information provided,\\n in accord with this section must be in a format that is publicly\\n documented (and with an implementation available to the public in\\n source code form), and must require no special password or key for\\n unpacking, reading or copying.\\n \\n 7. Additional Terms.\\n \\n \"Additional permissions\" are terms that supplement the terms of this\\n License by making exceptions from one or more of its conditions.\\n Additional permissions that are applicable to the entire Program shall\\n be treated as though they were included in this License, to the extent\\n that they are valid under applicable law.  If additional permissions\\n apply only to part of the Program, that part may be used separately\\n under those permissions, but the entire Program remains governed by\\n this License without regard to the additional permissions.\\n \\n When you convey a copy of a covered work, you may at your option\\n remove any additional permissions from that copy, or from any part of\\n it.  (Additional permissions may be written to require their own\\n removal in certain cases when you modify the work.)  You may place\\n additional permissions on material, added by you to a covered work,\\n for which you have or can give appropriate copyright permission.\\n \\n Notwithstanding any other provision of this License, for material you\\n add to a covered work, you may (if authorized by the copyright holders of\\n that material) supplement the terms of this License with terms:\\n \\n a) Disclaiming warranty or limiting liability differently from the\\n terms of sections 15 and 16 of this License; or\\n \\n b) Requiring preservation of specified reasonable legal notices or\\n author attributions in that material or in the Appropriate Legal\\n Notices displayed by works containing it; or\\n \\n c) Prohibiting misrepresentation of the origin of that material, or\\n requiring that modified versions of such material be marked in\\n reasonable ways as different from the original version; or\\n \\n d) Limiting the use for publicity purposes of names of licensors or\\n authors of the material; or\\n \\n e) Declining to grant rights under trademark law for use of some\\n trade names, trademarks, or service marks; or\\n \\n f) Requiring indemnification of licensors and authors of that\\n material by anyone who conveys the material (or modified versions of\\n it) with contractual assumptions of liability to the recipient, for\\n any liability that these contractual assumptions directly impose on\\n those licensors and authors.\\n \\n All other non-permissive additional terms are considered \"further\\n restrictions\" within the meaning of section 10.  If the Program as you\\n received it, or any part of it, contains a notice stating that it is\\n governed by this License along with a term that is a further\\n restriction, you may remove that term.  If a license document contains\\n a further restriction but permits relicensing or conveying under this\\n License, you may add to a covered work material governed by the terms\\n of that license document, provided that the further restriction does\\n not survive such relicensing or conveying.\\n \\n If you add terms to a covered work in accord with this section, you\\n must place, in the relevant source files, a statement of the\\n additional terms that apply to those files, or a notice indicating\\n where to find the applicable terms.\\n \\n Additional terms, permissive or non-permissive, may be stated in the\\n form of a separately written license, or stated as exceptions;\\n the above requirements apply either way.\\n \\n 8. Termination.\\n \\n You may not propagate or modify a covered work except as expressly\\n provided under this License.  Any attempt otherwise to propagate or\\n modify it is void, and will automatically terminate your rights under\\n this License (including any patent licenses granted under the third\\n paragraph of section 11).\\n \\n However, if you cease all violation of this License, then your\\n license from a particular copyright holder is reinstated (a)\\n provisionally, unless and until the copyright holder explicitly and\\n finally terminates your license, and (b) permanently, if the copyright\\n holder fails to notify you of the violation by some reasonable means\\n prior to 60 days after the cessation.\\n \\n Moreover, your license from a particular copyright holder is\\n reinstated permanently if the copyright holder notifies you of the\\n violation by some reasonable means, this is the first time you have\\n received notice of violation of this License (for any work) from that\\n copyright holder, and you cure the violation prior to 30 days after\\n your receipt of the notice.\\n \\n Termination of your rights under this section does not terminate the\\n licenses of parties who have received copies or rights from you under\\n this License.  If your rights have been terminated and not permanently\\n reinstated, you do not qualify to receive new licenses for the same\\n material under section 10.\\n \\n 9. Acceptance Not Required for Having Copies.\\n \\n You are not required to accept this License in order to receive or\\n run a copy of the Program.  Ancillary propagation of a covered work\\n occurring solely as a consequence of using peer-to-peer transmission\\n to receive a copy likewise does not require acceptance.  However,\\n nothing other than this License grants you permission to propagate or\\n modify any covered work.  These actions infringe copyright if you do\\n not accept this License.  Therefore, by modifying or propagating a\\n covered work, you indicate your acceptance of this License to do so.\\n \\n 10. Automatic Licensing of Downstream Recipients.\\n \\n Each time you convey a covered work, the recipient automatically\\n receives a license from the original licensors, to run, modify and\\n propagate that work, subject to this License.  You are not responsible\\n for enforcing compliance by third parties with this License.\\n \\n An \"entity transaction\" is a transaction transferring control of an\\n organization, or substantially all assets of one, or subdividing an\\n organization, or merging organizations.  If propagation of a covered\\n work results from an entity transaction, each party to that\\n transaction who receives a copy of the work also receives whatever\\n licenses to the work the party\\'s predecessor in interest had or could\\n give under the previous paragraph, plus a right to possession of the\\n Corresponding Source of the work from the predecessor in interest, if\\n the predecessor has it or can get it with reasonable efforts.\\n \\n You may not impose any further restrictions on the exercise of the\\n rights granted or affirmed under this License.  For example, you may\\n not impose a license fee, royalty, or other charge for exercise of\\n rights granted under this License, and you may not initiate litigation\\n (including a cross-claim or counterclaim in a lawsuit) alleging that\\n any patent claim is infringed by making, using, selling, offering for\\n sale, or importing the Program or any portion of it.\\n \\n 11. Patents.\\n \\n A \"contributor\" is a copyright holder who authorizes use under this\\n License of the Program or a work on which the Program is based.  The\\n work thus licensed is called the contributor\\'s \"contributor version\".\\n \\n A contributor\\'s \"essential patent claims\" are all patent claims\\n owned or controlled by the contributor, whether already acquired or\\n hereafter acquired, that would be infringed by some manner, permitted\\n by this License, of making, using, or selling its contributor version,\\n but do not include claims that would be infringed only as a\\n consequence of further modification of the contributor version.  For\\n purposes of this definition, \"control\" includes the right to grant\\n patent sublicenses in a manner consistent with the requirements of\\n this License.\\n \\n Each contributor grants you a non-exclusive, worldwide, royalty-free\\n patent license under the contributor\\'s essential patent claims, to\\n make, use, sell, offer for sale, import and otherwise run, modify and\\n propagate the contents of its contributor version.\\n \\n In the following three paragraphs, a \"patent license\" is any express\\n agreement or commitment, however denominated, not to enforce a patent\\n (such as an express permission to practice a patent or covenant not to\\n sue for patent infringement).  To \"grant\" such a patent license to a\\n party means to make such an agreement or commitment not to enforce a\\n patent against the party.\\n \\n If you convey a covered work, knowingly relying on a patent license,\\n and the Corresponding Source of the work is not available for anyone\\n to copy, free of charge and under the terms of this License, through a\\n publicly available network server or other readily accessible means,\\n then you must either (1) cause the Corresponding Source to be so\\n available, or (2) arrange to deprive yourself of the benefit of the\\n patent license for this particular work, or (3) arrange, in a manner\\n consistent with the requirements of this License, to extend the patent\\n license to downstream recipients.  \"Knowingly relying\" means you have\\n actual knowledge that, but for the patent license, your conveying the\\n covered work in a country, or your recipient\\'s use of the covered work\\n in a country, would infringe one or more identifiable patents in that\\n country that you have reason to believe are valid.\\n \\n If, pursuant to or in connection with a single transaction or\\n arrangement, you convey, or propagate by procuring conveyance of, a\\n covered work, and grant a patent license to some of the parties\\n receiving the covered work authorizing them to use, propagate, modify\\n or convey a specific copy of the covered work, then the patent license\\n you grant is automatically extended to all recipients of the covered\\n work and works based on it.\\n \\n A patent license is \"discriminatory\" if it does not include within\\n the scope of its coverage, prohibits the exercise of, or is\\n conditioned on the non-exercise of one or more of the rights that are\\n specifically granted under this License.  You may not convey a covered\\n work if you are a party to an arrangement with a third party that is\\n in the business of distributing software, under which you make payment\\n to the third party based on the extent of your activity of conveying\\n the work, and under which the third party grants, to any of the\\n parties who would receive the covered work from you, a discriminatory\\n patent license (a) in connection with copies of the covered work\\n conveyed by you (or copies made from those copies), or (b) primarily\\n for and in connection with specific products or compilations that\\n contain the covered work, unless you entered into that arrangement,\\n or that patent license was granted, prior to 28 March 2007.\\n \\n Nothing in this License shall be construed as excluding or limiting\\n any implied license or other defenses to infringement that may\\n otherwise be available to you under applicable patent law.\\n \\n 12. No Surrender of Others\\' Freedom.\\n \\n If conditions are imposed on you (whether by court order, agreement or\\n otherwise) that contradict the conditions of this License, they do not\\n excuse you from the conditions of this License.  If you cannot convey a\\n covered work so as to satisfy simultaneously your obligations under this\\n License and any other pertinent obligations, then as a consequence you may\\n not convey it at all.  For example, if you agree to terms that obligate you\\n to collect a royalty for further conveying from those to whom you convey\\n the Program, the only way you could satisfy both those terms and this\\n License would be to refrain entirely from conveying the Program.\\n \\n 13. Use with the GNU Affero General Public License.\\n \\n Notwithstanding any other provision of this License, you have\\n permission to link or combine any covered work with a work licensed\\n under version 3 of the GNU Affero General Public License into a single\\n combined work, and to convey the resulting work.  The terms of this\\n License will continue to apply to the part which is the covered work,\\n but the special requirements of the GNU Affero General Public License,\\n section 13, concerning interaction through a network will apply to the\\n combination as such.\\n \\n 14. Revised Versions of this License.\\n \\n The Free Software Foundation may publish revised and/or new versions of\\n the GNU General Public License from time to time.  Such new versions will\\n be similar in spirit to the present version, but may differ in detail to\\n address new problems or concerns.\\n \\n Each version is given a distinguishing version number.  If the\\n Program specifies that a certain numbered version of the GNU General\\n Public License \"or any later version\" applies to it, you have the\\n option of following the terms and conditions either of that numbered\\n version or of any later version published by the Free Software\\n Foundation.  If the Program does not specify a version number of the\\n GNU General Public License, you may choose any version ever published\\n by the Free Software Foundation.\\n \\n If the Program specifies that a proxy can decide which future\\n versions of the GNU General Public License can be used, that proxy\\'s\\n public statement of acceptance of a version permanently authorizes you\\n to choose that version for the Program.\\n \\n Later license versions may give you additional or different\\n permissions.  However, no additional obligations are imposed on any\\n author or copyright holder as a result of your choosing to follow a\\n later version.\\n \\n 15. Disclaimer of Warranty.\\n \\n THERE IS NO WARRANTY FOR THE PROGRAM, TO THE EXTENT PERMITTED BY\\n APPLICABLE LAW.  EXCEPT WHEN OTHERWISE STATED IN WRITING THE COPYRIGHT\\n HOLDERS AND/OR OTHER PARTIES PROVIDE THE PROGRAM \"AS IS\" WITHOUT WARRANTY\\n OF ANY KIND, EITHER EXPRESSED OR IMPLIED, INCLUDING, BUT NOT LIMITED TO,\\n THE IMPLIED WARRANTIES OF MERCHANTABILITY AND FITNESS FOR A PARTICULAR\\n PURPOSE.  THE ENTIRE RISK AS TO THE QUALITY AND PERFORMANCE OF THE PROGRAM\\n IS WITH YOU.  SHOULD THE PROGRAM PROVE DEFECTIVE, YOU ASSUME THE COST OF\\n ALL NECESSARY SERVICING, REPAIR OR CORRECTION.\\n \\n 16. Limitation of Liability.\\n \\n IN NO EVENT UNLESS REQUIRED BY APPLICABLE LAW OR AGREED TO IN WRITING\\n WILL ANY COPYRIGHT HOLDER, OR ANY OTHER PARTY WHO MODIFIES AND/OR CONVEYS\\n THE PROGRAM AS PERMITTED ABOVE, BE LIABLE TO YOU FOR DAMAGES, INCLUDING ANY\\n GENERAL, SPECIAL, INCIDENTAL OR CONSEQUENTIAL DAMAGES ARISING OUT OF THE\\n USE OR INABILITY TO USE THE PROGRAM (INCLUDING BUT NOT LIMITED TO LOSS OF\\n DATA OR DATA BEING RENDERED INACCURATE OR LOSSES SUSTAINED BY YOU OR THIRD\\n PARTIES OR A FAILURE OF THE PROGRAM TO OPERATE WITH ANY OTHER PROGRAMS),\\n EVEN IF SUCH HOLDER OR OTHER PARTY HAS BEEN ADVISED OF THE POSSIBILITY OF\\n SUCH DAMAGES.\\n \\n 17. Interpretation of Sections 15 and 16.\\n \\n If the disclaimer of warranty and limitation of liability provided\\n above cannot be given local legal effect according to their terms,\\n reviewing courts shall apply local law that most closely approximates\\n an absolute waiver of all civil liability in connection with the\\n Program, unless a warranty or assumption of liability accompanies a\\n copy of the Program in return for a fee.\\n \\n END OF TERMS AND CONDITIONS\\n \\n How to Apply These Terms to Your New Programs\\n \\n If you develop a new program, and you want it to be of the greatest\\n possible use to the public, the best way to achieve this is to make it\\n free software which everyone can redistribute and change under these terms.\\n \\n To do so, attach the following notices to the program.  It is safest\\n to attach them to the start of each source file to most effectively\\n state the exclusion of warranty; and each file should have at least\\n the \"copyright\" line and a pointer to where the full notice is found.\\n \\n <one line to give the program\\'s name and a brief idea of what it does.>\\n Copyright (C) <year>  <name of author>\\n \\n This program is free software: you can redistribute it and/or modify\\n it under the terms of the GNU General Public License as published by\\n the Free Software Foundation, either version 3 of the License, or\\n (at your option) any later version.\\n \\n This program is distributed in the hope that it will be useful,\\n but WITHOUT ANY WARRANTY; without even the implied warranty of\\n MERCHANTABILITY or FITNESS FOR A PARTICULAR PURPOSE.  See the\\n GNU General Public License for more details.\\n \\n You should have received a copy of the GNU General Public License\\n along with this program.  If not, see <http://www.gnu.org/licenses/>.\\n \\n Also add information on how to contact you by electronic and paper mail.\\n \\n If the program does terminal interaction, make it output a short\\n notice like this when it starts in an interactive mode:\\n \\n <program>  Copyright (C) <year>  <name of author>\\n This program comes with ABSOLUTELY NO WARRANTY; for details type `show w\\'.\\n This is free software, and you are welcome to redistribute it\\n under certain conditions; type `show c\\' for details.\\n \\n The hypothetical commands `show w\\' and `show c\\' should show the appropriate\\n parts of the General Public License.  Of course, your program\\'s commands\\n might be different; for a GUI interface, you would use an \"about box\".\\n \\n You should also get your employer (if you work as a programmer) or school,\\n if any, to sign a \"copyright disclaimer\" for the program, if necessary.\\n For more information on this, and how to apply and follow the GNU GPL, see\\n <http://www.gnu.org/licenses/>.\\n \\n The GNU General Public License does not permit incorporating your program\\n into proprietary programs.  If your program is a subroutine library, you\\n may consider it more useful to permit linking proprietary applications with\\n the library.  If this is what you want to do, use the GNU Lesser General\\n Public License instead of this License.  But first, please read\\n <http://www.gnu.org/philosophy/why-not-lgpl.html>.\\n \\n Name: libquadmath\\n Files: numpy.libs/libquadmath*.so\\n Description: dynamically linked to files compiled with gcc\\n Availability: https://gcc.gnu.org/git/?p=gcc.git;a=tree;f=libquadmath\\n License: LGPL-2.1-or-later\\n \\n GCC Quad-Precision Math Library\\n Copyright (C) 2010-2019 Free Software Foundation, Inc.\\n Written by Francois-Xavier Coudert  <fxcoudert@gcc.gnu.org>\\n \\n This file is part of the libquadmath library.\\n Libquadmath is free software; you can redistribute it and/or\\n modify it under the terms of the GNU Library General Public\\n License as published by the Free Software Foundation; either\\n version 2.1 of the License, or (at your option) any later version.\\n \\n Libquadmath is distributed in the hope that it will be useful,\\n but WITHOUT ANY WARRANTY; without even the implied warranty of\\n MERCHANTABILITY or FITNESS FOR A PARTICULAR PURPOSE.  See the GNU\\n Lesser General Public License for more details.\\n https://www.gnu.org/licenses/old-licenses/lgpl-2.1.html\\n ',\n",
       " 'public-domain',\n",
       " 'Apache-1.1',\n",
       " 'LGPL-3.0-or-later',\n",
       " 'Apache Software License 2.0',\n",
       " 'The Go license',\n",
       " 'Public-Domain',\n",
       " 'The GNU General Public License (GPL), Version 2, With Classpath Exception',\n",
       " 'RSA-MD',\n",
       " 'version',\n",
       " 'BSD-3-Clause,Apache-2.0',\n",
       " 'AL 2.0',\n",
       " 'ISC',\n",
       " 'UNKNOWN',\n",
       " 'public-domain-sha1',\n",
       " 'EPL 2.0',\n",
       " 'Beerware',\n",
       " 'FSFAP',\n",
       " 'LGPLv3+_or_GPLv2+',\n",
       " 'nagaysau-ishii',\n",
       " 'BSD-3-Clause-Hiroshima-University',\n",
       " 'BSD style',\n",
       " 'GPL-3.0-or-later WITH GCC-exception-3.1',\n",
       " 'Mozilla Public License Version 1.1',\n",
       " 'SSH-OpenSSH',\n",
       " 'BlueOak-1.0.0',\n",
       " 'config-h',\n",
       " 'BSD 3-clause License w/nuclear disclaimer',\n",
       " 'All-permissive',\n",
       " 'LGPLv2.1+',\n",
       " 'BSD-Attribution-HPND-disclaimer',\n",
       " 'BSD-Source-Code',\n",
       " 'BSD-3-clause-JANET',\n",
       " 'CPL',\n",
       " 'SDBM-PUBLIC-DOMAIN',\n",
       " 'GNU General Public License, version 2',\n",
       " 'Modified BSD',\n",
       " 'OR',\n",
       " 'COMMON DEVELOPMENT AND DISTRIBUTION LICENSE (CDDL) Version 1.0',\n",
       " 'GNU General Public License, version 2 with the GNU Classpath Exception',\n",
       " 'W3C license',\n",
       " 'LGPL-2.1+',\n",
       " 'Ruby',\n",
       " 'Latex2e',\n",
       " 'GNU General Public License, Version 2 with the Classpath Exception',\n",
       " 'Indiana University Extreme! Lab Software License 1.1.1',\n",
       " 'MIT-old',\n",
       " 'CC-PDDC',\n",
       " '0BSD',\n",
       " 'Apache Software Licenses',\n",
       " 'PD-debian',\n",
       " 'Suspected MIT',\n",
       " 'APACHEv2',\n",
       " '(MIT AND Zlib)',\n",
       " 'GAP',\n",
       " 'MIT-Export',\n",
       " 'Public Domain',\n",
       " 'license',\n",
       " 'GNU General Public License, version 2 (GPL2), with the classpath exception',\n",
       " 'Eclipse Public License - v 2.0',\n",
       " 'BSD-tcp_wrappers',\n",
       " 'OTHER',\n",
       " 'BSD-3-clause-California',\n",
       " 'pcre',\n",
       " 'lgpl_v2_1',\n",
       " 'BSD-2-Clause',\n",
       " 'MIT AND BSD-3-Clause',\n",
       " 'BSD-3',\n",
       " 'MIT/X',\n",
       " 'NTP',\n",
       " 'GLGPL-3.0',\n",
       " 'PSFL',\n",
       " 'Public domain, Sun Microsoystems',\n",
       " 'ANTLR-PD',\n",
       " 'installsh',\n",
       " 'LGPL-3.0+',\n",
       " 'gpl',\n",
       " 'RRA-KEEP-THIS-NOTICE',\n",
       " 'CDDL-1.1',\n",
       " 'declared license file: AUTHORS.txt',\n",
       " 'BZIP',\n",
       " 'ISC license',\n",
       " 'permissive-fsf',\n",
       " 'NOASSERTION',\n",
       " 'Jython Software License',\n",
       " 'TMate',\n",
       " 'NCSA',\n",
       " 'GPL-2.0+',\n",
       " 'Unicode-3.0',\n",
       " 'BSD-4-Clause-UC',\n",
       " 'MIT-XC',\n",
       " 'Common Public License Version 1.0',\n",
       " 'JSON',\n",
       " 'ISC+IBM',\n",
       " 'Unlicense/MIT',\n",
       " 'MIT/Apache-2.0',\n",
       " 'Apache-1.0',\n",
       " 'Autoconf',\n",
       " 'JSR-000107 JCACHE 2.9 Public Review - Updated Specification\\n                License',\n",
       " 'GNU LESSER GENERAL PUBLIC LICENSE, Version 3',\n",
       " 'declared license file: LICENSE.APACHE',\n",
       " 'Bouncy Castle Licence',\n",
       " 'Similar to Apache License but with the acknowledgment clause removed',\n",
       " 'GPL-3.0-or-later',\n",
       " 'MIT',\n",
       " 'Indiana University Extreme! Lab Software License',\n",
       " 'TCL',\n",
       " 'Apache2',\n",
       " 'BSD-2-Clause-Chemeris',\n",
       " 'GPL-2+-libtool-exception',\n",
       " 'EDL 1.0',\n",
       " 'GPL-3.0-only',\n",
       " 'permissive-like-automake-output',\n",
       " 'GFDL-3',\n",
       " 'http://www.apache.org/licenses/LICENSE-2.0',\n",
       " 'LGPL 2.1',\n",
       " 'GPL v2',\n",
       " 'OFL-1.1-RFN',\n",
       " 'Python-2.0',\n",
       " 'Unicode',\n",
       " 'as-is',\n",
       " 'CC-BY-3.0',\n",
       " 'Public',\n",
       " 'Day Specification License addendum',\n",
       " 'SSLeay',\n",
       " 'BSD-3-clause-with-weird-numbering',\n",
       " 'Apache-2.0/MIT',\n",
       " 'DONT-CHANGE-THE-GPL',\n",
       " 'curl',\n",
       " 'Andreas Stolcke License',\n",
       " 'Xmlproc License',\n",
       " 'F5',\n",
       " 'Unknown',\n",
       " 'Unknown - See URL',\n",
       " 'CDDL',\n",
       " 'EUPL-1.1',\n",
       " 'GPL-2+-autoconf-exception',\n",
       " 'HAPI is dual licensed (MPL, GPL)',\n",
       " 'GNU Lesser General Public License, Version 2.1',\n",
       " '(EDL-1.0 OR EPL-1.0)',\n",
       " 'Expat-ISC',\n",
       " 'GNU Lesser General Public License Version 2.1',\n",
       " \"declared license of 'numpy'\",\n",
       " 'SEE LICENSE IN LICENSE',\n",
       " 'CDDL 1.1',\n",
       " 'PostgreSQL',\n",
       " 'Server Side Public License',\n",
       " 'declared license file: LICENSE',\n",
       " 'The GNU General Public License, v2 with FOSS exception',\n",
       " 'Apache-2.0',\n",
       " 'openssl',\n",
       " 'probably-PD',\n",
       " 'all-permissive',\n",
       " 'Proprietary',\n",
       " 'lgpl',\n",
       " 'declared license file: LICENSE.BSD',\n",
       " 'GPLv2+',\n",
       " 'GPL-3.0',\n",
       " 'SAX-PD',\n",
       " 'LGPL-2.0-or-later',\n",
       " 'GFDL-NIV-1.3+',\n",
       " 'MIT-0',\n",
       " 'LGPL v3',\n",
       " 'MIT-CMU',\n",
       " 'permissive-autoconf-m4-no-warranty',\n",
       " 'IBM Public License Version 1.0',\n",
       " 'License :: OSI Approved :: BSD License',\n",
       " 'BSD-4-Clause',\n",
       " 'Weaviate B.V. License',\n",
       " 'jQuery license',\n",
       " 'or',\n",
       " 'BSD-3-clause-Aaron-D-Gifford',\n",
       " 'FSF-unlimited',\n",
       " 'Arcmutate Licence',\n",
       " '(MIT OR GPL-3.0)',\n",
       " 'Go License',\n",
       " 'Expat',\n",
       " '(MIT OR Apache-2.0)',\n",
       " 'BSD-3-clause-GENERIC',\n",
       " 'GNU General Public License',\n",
       " 'Day Specification License',\n",
       " 'g10-permissive',\n",
       " 'IBM International Program License Agreement',\n",
       " 'Custom-Unicode',\n",
       " 'public-domain-md5',\n",
       " 'BSD3',\n",
       " 'GNU Lesser General Public License',\n",
       " 'Custom-regex',\n",
       " '2.0',\n",
       " 'LGPL-2.1',\n",
       " 'GPL-2.0',\n",
       " 'GPL-1.0-only',\n",
       " 'NONE',\n",
       " 'CC-BY-4.0',\n",
       " 'BSD-1-Clause',\n",
       " 'CDDL + GPLv2 with classpath exception',\n",
       " 'GNU General Public Library',\n",
       " 'GFDL-1.2-or-later',\n",
       " 'BSD-3-clause-fjord',\n",
       " 'BSD-4-clause-POWERDOG',\n",
       " 'AFL-2.1',\n",
       " 'The W3C Software License',\n",
       " 'GLGPL-2.1',\n",
       " 'public-domain-md4',\n",
       " 'OpenSSL',\n",
       " 'GPL-3.0-with-GCC-exception',\n",
       " 'Artistic',\n",
       " 'Custom-pg_dump',\n",
       " 'the Apache License, ASL Version 2.0',\n",
       " 'AGPL-3.0',\n",
       " 'MPL 2.0 or EPL 1.0',\n",
       " 'CDDL+GPL',\n",
       " 'LGPL-2.0-only',\n",
       " 'FreeSoftware',\n",
       " 'LGPL with exceptions',\n",
       " 'BSD licence',\n",
       " 'Lesser General Public License, version 3 or greater',\n",
       " 'MIT-1',\n",
       " 'GPL-3-BISON-EXCEPTION',\n",
       " 'same-as-rest-of-p11kit',\n",
       " 'EPL 1.0',\n",
       " 'UMich',\n",
       " 'IPLA',\n",
       " 'permissive-autoconf-m4',\n",
       " 'custom',\n",
       " 'GNU LGPL 3',\n",
       " 'BSD License',\n",
       " 'BSD-like',\n",
       " 'BSD-2-Clause-Views',\n",
       " 'FSF-manpages',\n",
       " 'BSLA',\n",
       " 'FreeBSD',\n",
       " 'Artistic-2.0',\n",
       " 'AGPL-3',\n",
       " 'MPL-1.1',\n",
       " 'Artistic-dist',\n",
       " 'FSFULLR',\n",
       " 'MPL-2.0 OR Apache-2.0',\n",
       " 'NeoSoft-permissive',\n",
       " 'GPL-1.0-or-later',\n",
       " 'BSD 3-clause New License',\n",
       " 'MIT v2 with Ad Clause License',\n",
       " 'GPLv2',\n",
       " 'BSD-3-clause-Cambridge',\n",
       " 'CC0-1.0',\n",
       " 'MIT/X11',\n",
       " 'Common Public License - v 1.0',\n",
       " 'Redistribution',\n",
       " 'public-domain-s-s-d',\n",
       " 'Eclipse Distribution License - Version 1.0',\n",
       " 'AGPL-3.0-only',\n",
       " 'MPL-2.0-no-copyleft-exception',\n",
       " 'WAGMIT',\n",
       " 'GPL-3+-autoconf-exception',\n",
       " 'MS-PL',\n",
       " 'CC-BY-SA-4.0',\n",
       " 'MIT License\\n \\n Copyright (c) 2020 Gabriel de Marmiesse de Lussan\\n \\n Permission is hereby granted, free of charge, to any person obtaining a copy\\n of this software and associated documentation files (the \"Software\"), to deal\\n in the Software without restriction, including without limitation the rights\\n to use, copy, modify, merge, publish, distribute, sublicense, and/or sell\\n copies of the Software, and to permit persons to whom the Software is\\n furnished to do so, subject to the following conditions:\\n \\n The above copyright notice and this permission notice shall be included in all\\n copies or substantial portions of the Software.\\n \\n THE SOFTWARE IS PROVIDED \"AS IS\", WITHOUT WARRANTY OF ANY KIND, EXPRESS OR\\n IMPLIED, INCLUDING BUT NOT LIMITED TO THE WARRANTIES OF MERCHANTABILITY,\\n FITNESS FOR A PARTICULAR PURPOSE AND NONINFRINGEMENT. IN NO EVENT SHALL THE\\n AUTHORS OR COPYRIGHT HOLDERS BE LIABLE FOR ANY CLAIM, DAMAGES OR OTHER\\n LIABILITY, WHETHER IN AN ACTION OF CONTRACT, TORT OR OTHERWISE, ARISING FROM,\\n OUT OF OR IN CONNECTION WITH THE SOFTWARE OR THE USE OR OTHER DEALINGS IN THE\\n SOFTWARE.\\n ',\n",
       " '(0BSD OR MIT)',\n",
       " 'CDDL-1.0',\n",
       " 'MPL 1.1',\n",
       " 'Elastic-2.0',\n",
       " 'Sleepycat',\n",
       " 'permissive',\n",
       " 'GNU Lesser General Public Licence',\n",
       " '(EPL-2.0 OR Apache-2.0)',\n",
       " 'GPL-3+-WITH-BISON-EXCEPTION',\n",
       " 'permissive-nowarranty',\n",
       " 'The Apache License, Version 2.0',\n",
       " 'asl',\n",
       " 'CC0',\n",
       " 'JSR-000107 JCACHE 2.9 Public Review - Updated Specification License',\n",
       " 'Domain',\n",
       " 'noderivs',\n",
       " 'ASL, version 2',\n",
       " 'LGPL',\n",
       " 'GNU Lesser General Public License (LGPL), Version 2.1',\n",
       " 'The Apache Software License, Version 2.0',\n",
       " 'MIT-like',\n",
       " 'Kazlib',\n",
       " 'OpenLDAP',\n",
       " 'BSD New',\n",
       " 'Apache-2.0 WITH LLVM-exception',\n",
       " 'GPL-2.0-only WITH Classpath-exception-2.0',\n",
       " 'permissive-makefile-in',\n",
       " 'ZPL',\n",
       " 'EPL-2.0',\n",
       " 'The W3C License',\n",
       " 'BDS-3-Clause',\n",
       " 'GNU Lesser Public License',\n",
       " 'The GNU General Public License, v2 with Universal FOSS Exception, v1.0',\n",
       " 'permissive-configure',\n",
       " 'MPL-2.0',\n",
       " 'GPLv3+',\n",
       " 'ZPL 2.1',\n",
       " 'BSD License 2.0',\n",
       " 'TCL-like',\n",
       " 'Expat-UNM',\n",
       " 'GFDL-NIV-1.3',\n",
       " 'LGPLv3+',\n",
       " 'GPL',\n",
       " 'PD',\n",
       " 'The MIT License',\n",
       " 'Apache License, Version 2.0 and Common Development And Distribution License (CDDL) Version 1.0',\n",
       " 'LGPL-3.0-only',\n",
       " 'EPL-1.0',\n",
       " 'Indiana University Extreme! Lab Software License, vesion 1.1.1',\n",
       " 'UPL-1.0',\n",
       " 'declared license file: LICENSE.txt',\n",
       " 'Chromium',\n",
       " 'BSD-4-clause-KTH',\n",
       " 'HSIEH-DERIVATIVE',\n",
       " 'Permission',\n",
       " 'ASL2.0',\n",
       " 'GFDL',\n",
       " 'LGPL, version 2.1',\n",
       " 'Zlib',\n",
       " 'RFC-Reference',\n",
       " 'Unicode-TOU',\n",
       " 'BSD-3-clause-PADL',\n",
       " 'Eclipse Distribution License - v 1.0',\n",
       " 'REGCOMP',\n",
       " 'TEXT-TABS',\n",
       " 'Dual License',\n",
       " 'Common Development and Distribution License (CDDL) v1.0',\n",
       " 'Common Development and Distribution License',\n",
       " 'LLVM-exception',\n",
       " 'MIT-OpenVision',\n",
       " 'Bouncy Castle License',\n",
       " 'SMAIL-GPL',\n",
       " 'BSD-variant',\n",
       " 'gnulib',\n",
       " 'AGPL-3.0-or-later']"
      ]
     },
     "execution_count": 37,
     "metadata": {},
     "output_type": "execute_result"
    }
   ],
   "source": [
    "# Most common license\n",
    "licenses = df_detail.licenses_y.dropna().str.split(\"|\")\n",
    "all_licenses = [l for sublist in licenses for l in sublist]\n",
    "\n",
    "all_licenses = [fix_license(l) for l in all_licenses]\n",
    "\n",
    "list(filter(None,list(set(all_licenses))))"
   ]
  },
  {
   "cell_type": "code",
   "execution_count": 38,
   "id": "0e54bba8-4ea4-4ddc-92c7-375da6b1a3a3",
   "metadata": {
    "scrolled": true
   },
   "outputs": [
    {
     "data": {
      "text/plain": [
       "array(['Apache-2.0', 'MIT', 'GPL-3-BISON-EXCEPTION', 'BSD-3-Clause',\n",
       "       'GPL-2.0', 'ISC', 'BSD-2-Clause', 'EPL-2.0', 'EPL-1.0', 'MPL-2.0',\n",
       "       'BSD-Source-Code', 'LGPL-2.1-only', 'LGPL-2.1-or-later',\n",
       "       'BSD-4-Clause', 'GNU LGPL 3', 'MIT/Apache-2.0', 'GPL-3.0-only',\n",
       "       'Public Domain', 'Ruby', 'LGPL-3.0-or-later', 'GPL-3.0-or-later',\n",
       "       'LGPL-3.0-only', 'BSD-style', '0BSD', 'Unicode-3.0', 'CC0-1.0',\n",
       "       'Bouncy Castle Licence', 'LGPL-2.0-only',\n",
       "       'Apache Software License 2.0', 'Zlib', 'LGPL-2.0-or-later',\n",
       "       'Modified BSD', 'CDDL-1.1', 'Unlicense', 'jQuery license',\n",
       "       'W3C license',\n",
       "       'GNU General Public License, version 2 with the GNU Classpath Exception',\n",
       "       'LGPL-2.1', 'MPL-1.1', 'GPL', 'public-domain', 'UPL-1.0', 'X11',\n",
       "       'Apache-2.0/MIT', 'CC-BY-SA-4.0', 'LGPL-3.0', 'LGPL', 'GPLv2',\n",
       "       'GNU Lesser General Public License',\n",
       "       'PubNub Software Development Kit License',\n",
       "       'GNU LESSER GENERAL PUBLIC LICENSE, Version 3',\n",
       "       'GPL-3.0-with-GCC-exception', 'BSD-2-Clause-FreeBSD',\n",
       "       'BlueOak-1.0.0', 'Eclipse Distribution License - Version 1.0',\n",
       "       'PSF-2.0', 'Expat', 'GFDL-1.3-only', 'GPL-1.0-only', 'WTFPL',\n",
       "       'HAPI is dual licensed (MPL, GPL)', 'GNU General Public License',\n",
       "       'LGPL-2.1+', 'Unlicense/MIT',\n",
       "       'The GNU General Public License (GPL), Version 2, With Classpath Exception',\n",
       "       'CDDL-1.0', 'MIT-0', 'Elastic-2.0', 'OLDAP-2.8', 'LLVM-exception',\n",
       "       'GPL-2.0+', 'GFDL-1.2-only', 'BSL-1.0', 'MIT/X11', 'CC-BY-3.0',\n",
       "       'The Apache Software License, Version 2.0', 'Artistic', 'BSD',\n",
       "       'GNU Lesser General Public License Version 2.1',\n",
       "       'GNU General Public License Version 2', 'AFL-2.1', 'SAX-PD',\n",
       "       'Server Side Public License', 'The W3C License',\n",
       "       'LGPL, version 2.1', 'FSFULLR', 'Latex2e', 'Unicode/ICU License',\n",
       "       'curl', 'GPL-3.0', 'Jython Software License',\n",
       "       'The QuickFIX Software License, Version 1.0',\n",
       "       'Oracle Free Use Terms and Conditions (FUTC)', 'GPL-1.0-or-later',\n",
       "       'Beerware', 'Kazlib', 'BSD-4-Clause-UC', 'Python-2.0',\n",
       "       'Artistic-2.0', 'NOASSERTION', 'BSLA',\n",
       "       'MPL-2.0-no-copyleft-exception', 'BSD-1-Clause', 'BSD licence',\n",
       "       'UNKNOWN', 'Go License', 'custom', 'CC-BY-4.0',\n",
       "       'GNU General Public License, version 2 (GPL2), with the classpath exception',\n",
       "       'BSD License', 'Eclipse Distribution License - v 1.0', 'AL 2.0',\n",
       "       'SEE LICENSE IN LICENSE', 'GPL v2', 'lgpl', 'permissive-fsf',\n",
       "       'GNU Lesser General Public License (LGPL), Version 2.1',\n",
       "       'BSD 3-clause License w/nuclear disclaimer', 'CPL',\n",
       "       'MPL 2.0 or EPL 1.0', 'Unknown', 'GFDL-NIV-1.3+', 'XFree86-1.0',\n",
       "       'GPL-2.0-only WITH Classpath-exception-2.0', 'Unknown - See URL',\n",
       "       'MS-PL', 'IBM Public License Version 1.0', 'Apache-1.1',\n",
       "       'The Go license', 'GNU General Public License, version 2',\n",
       "       'Eclipse Distribution License v. 1.0', 'Permission',\n",
       "       'Redistribution',\n",
       "       'Indiana University Extreme! Lab Software License, vesion 1.1.1',\n",
       "       'Indiana University Extreme! Lab Software License',\n",
       "       'Similar to Apache License but with the acknowledgment clause removed',\n",
       "       'CC0', 'GLGPL-3.0', 'Mozilla Public License Version 1.1',\n",
       "       'BSD License 2.0', 'Public domain, Sun Microsoystems',\n",
       "       'Day Specification License', 'Day Specification License addendum',\n",
       "       'GPL-3.0-or-later WITH GCC-exception-3.1', 'as-is',\n",
       "       'Unknown License', 'OpenSSL',\n",
       "       'Common Development and Distribution License', 'GFDL-1.2-or-later',\n",
       "       'GFDL', 'CDDL',\n",
       "       'GNU General Public License, Version 2 with the Classpath Exception',\n",
       "       'ASL, version 2', 'EUPL-1.1', 'REGCOMP', 'BSD New', 'ISC License',\n",
       "       'permissive-configure', 'permissive-autoconf-m4-no-warranty',\n",
       "       'GNU Lesser Public License', 'lgpl_v2_1',\n",
       "       'GNU Lesser General Public License, Version 2.1',\n",
       "       'Lesser General Public License, version 3 or greater',\n",
       "       'ISC-no-attribution', 'config-h', 'PD-debian', 'PD', 'Autoconf',\n",
       "       'Unicode', 'GAP', 'BSD-3', 'BSD-variant', 'OR',\n",
       "       'Weaviate B.V. License', 'noderivs', 'Bouncy Castle License',\n",
       "       'TMate', 'GPL-2+-libtool-exception', 'The (New) BSD License',\n",
       "       'BSD-like', 'OTHER', 'permissive-autoconf-m4',\n",
       "       'GPL-3+-autoconf-exception', 'permissive-makefile-in', 'Sleepycat',\n",
       "       'The GNU General Public License, v2 with Universal FOSS Exception, v1.0',\n",
       "       'FSFAP', 'declared license file: LICENSE',\n",
       "       'GPL-2+-autoconf-exception', 'BSD-tcp_wrappers', 'probably-PD',\n",
       "       'GNU Lesser GPL, Version 3', 'permissive-nowarranty', 'GPLv3+',\n",
       "       'CC-PDDC', 'IBM-as-is', 'MIT-Export', 'permissive',\n",
       "       'BSD-3-clause-fjord', 'Unicode-TOU', 'FSFUL', 'LGPL-3.0+',\n",
       "       'MIT-OpenVision', 'BSD-3-clause-JANET', 'BSD-4-clause-KTH',\n",
       "       'RSA-MD', 'OFL-1.1', 'ASL2.0', 'SSH-OpenSSH', 'LGPLv3', 'Apache2',\n",
       "       'EDL 1.0', 'SSLeay', 'The BSD License', 'OpenLDAP',\n",
       "       'Common Development and Distribution License (CDDL) v1.0',\n",
       "       'BSD-3-clause-PADL', 'MIT-CMU', 'GFDL-NIV-1.3', 'ALv2',\n",
       "       'Public-Domain', 'JSON',\n",
       "       'COMMON DEVELOPMENT AND DISTRIBUTION LICENSE (CDDL) Version 1.0',\n",
       "       'BSD-2.2-clause', 'Dual License', 'LGPL with exceptions',\n",
       "       'TCL-like', 'MIT-old', 'BSD-Attribution-HPND-disclaimer',\n",
       "       'LGPLv3+', 'BSD-2-Clause-Views', 'MIT v2 with Ad Clause License',\n",
       "       'WAGMIT', 'JCG', 'Xmlproc License', 'NeoSoft-permissive', 'F5',\n",
       "       'Expat-UNM', 'Expat-ISC', 'BSD-4-clause-California',\n",
       "       'BSD-3-clause-variant', 'BSD-3-clause-California', 'MIT-XC',\n",
       "       'OpenLDAP-2.8', 'Andreas Stolcke License', 'UMich',\n",
       "       'MIT License\\n \\n Copyright (c) 2020 Gabriel de Marmiesse de Lussan\\n \\n Permission is hereby granted, free of charge, to any person obtaining a copy\\n of this software and associated documentation files (the \"Software\"), to deal\\n in the Software without restriction, including without limitation the rights\\n to use, copy, modify, merge, publish, distribute, sublicense, and/or sell\\n copies of the Software, and to permit persons to whom the Software is\\n furnished to do so, subject to the following conditions:\\n \\n The above copyright notice and this permission notice shall be included in all\\n copies or substantial portions of the Software.\\n \\n THE SOFTWARE IS PROVIDED \"AS IS\", WITHOUT WARRANTY OF ANY KIND, EXPRESS OR\\n IMPLIED, INCLUDING BUT NOT LIMITED TO THE WARRANTIES OF MERCHANTABILITY,\\n FITNESS FOR A PARTICULAR PURPOSE AND NONINFRINGEMENT. IN NO EVENT SHALL THE\\n AUTHORS OR COPYRIGHT HOLDERS BE LIABLE FOR ANY CLAIM, DAMAGES OR OTHER\\n LIABILITY, WHETHER IN AN ACTION OF CONTRACT, TORT OR OTHERWISE, ARISING FROM,\\n OUT OF OR IN CONNECTION WITH THE SOFTWARE OR THE USE OR OTHER DEALINGS IN THE\\n SOFTWARE.\\n ',\n",
       "       'ISC license', 'FSF-unlimited',\n",
       "       'License :: OSI Approved :: BSD License', '(EDL-1.0 OR EPL-1.0)',\n",
       "       'OFL-1.1-RFN', 'license', 'GNU Lesser General Public Licence',\n",
       "       'openssl', 'Artistic-dist', 'RFC-Reference', 'TinySCHEME',\n",
       "       'FSF-manpages', 'GFDL-1.3+-no-invariant', 'GFDL-3', 'CDDL+GPL',\n",
       "       'LGPLv3+_or_GPLv2+', 'g10-permissive', 'ISC+IBM',\n",
       "       'permissive-like-automake-output', 'same-as-rest-of-p11kit',\n",
       "       'FreeSoftware', 'BSD-3-clause-GENERIC', 'Apache Software Licenses',\n",
       "       '(MIT AND Zlib)', 'BSD-3-clause-with-weird-numbering',\n",
       "       'BSD-4-clause-POWERDOG', 'BZIP', 'DONT-CHANGE-THE-GPL',\n",
       "       'GPL-3+-WITH-BISON-EXCEPTION', 'GPL2 w/ CPE', 'HSIEH-BSD',\n",
       "       'HSIEH-DERIVATIVE', 'RRA-KEEP-THIS-NOTICE', 'SDBM-PUBLIC-DOMAIN',\n",
       "       'TEXT-TABS',\n",
       "       'Apache License, Version 2.0 and Common Development And Distribution License (CDDL) Version 1.0',\n",
       "       'LGPLv2.1+', 'IBM International Program License Agreement',\n",
       "       '(CC-BY-4.0 AND MIT)', 'GPLv2+', 'or', 'Domain',\n",
       "       'public-domain-s-s-d', 'IPLA', 'EPL 1.0', 'Apache-1.0',\n",
       "       'Arcmutate Licence', '(Apache-2.0 OR EPL-2.0)',\n",
       "       '(EPL-2.0 OR Apache-2.0)', 'GLGPL-2.1', 'ASF 2.0',\n",
       "       'public-domain-md5', 'Common Public License Version 1.0',\n",
       "       'Common Public License - v 1.0', 'BSD style', 'pcre', 'JDOM',\n",
       "       'Proprietary', 'AGPL-3.0', 'HPND', 'BSD3', 'FreeBSD',\n",
       "       'AGPL-3.0-or-later', 'MIT-1', 'installsh', 'All-permissive',\n",
       "       'http://www.apache.org/licenses/LICENSE-2.0', 'MIT/X',\n",
       "       'Copyright (c) 2005-2024, NumPy Developers.\\n All rights reserved.\\n \\n Redistribution and use in source and binary forms, with or without\\n modification, are permitted provided that the following conditions are\\n met:\\n \\n * Redistributions of source code must retain the above copyright\\n notice, this list of conditions and the following disclaimer.\\n \\n * Redistributions in binary form must reproduce the above\\n copyright notice, this list of conditions and the following\\n disclaimer in the documentation and/or other materials provided\\n with the distribution.\\n \\n * Neither the name of the NumPy Developers nor the names of any\\n contributors may be used to endorse or promote products derived\\n from this software without specific prior written permission.\\n \\n THIS SOFTWARE IS PROVIDED BY THE COPYRIGHT HOLDERS AND CONTRIBUTORS\\n \"AS IS\" AND ANY EXPRESS OR IMPLIED WARRANTIES, INCLUDING, BUT NOT\\n LIMITED TO, THE IMPLIED WARRANTIES OF MERCHANTABILITY AND FITNESS FOR\\n A PARTICULAR PURPOSE ARE DISCLAIMED. IN NO EVENT SHALL THE COPYRIGHT\\n OWNER OR CONTRIBUTORS BE LIABLE FOR ANY DIRECT, INDIRECT, INCIDENTAL,\\n SPECIAL, EXEMPLARY, OR CONSEQUENTIAL DAMAGES (INCLUDING, BUT NOT\\n LIMITED TO, PROCUREMENT OF SUBSTITUTE GOODS OR SERVICES; LOSS OF USE,\\n DATA, OR PROFITS; OR BUSINESS INTERRUPTION) HOWEVER CAUSED AND ON ANY\\n THEORY OF LIABILITY, WHETHER IN CONTRACT, STRICT LIABILITY, OR TORT\\n (INCLUDING NEGLIGENCE OR OTHERWISE) ARISING IN ANY WAY OUT OF THE USE\\n OF THIS SOFTWARE, EVEN IF ADVISED OF THE POSSIBILITY OF SUCH DAMAGE.\\n \\n ----\\n \\n The NumPy repository and source distributions bundle several libraries that are\\n compatibly licensed.  We list these here.\\n \\n Name: lapack-lite\\n Files: numpy/linalg/lapack_lite/*\\n License: BSD-3-Clause\\n For details, see numpy/linalg/lapack_lite/LICENSE.txt\\n \\n Name: dragon4\\n Files: numpy/_core/src/multiarray/dragon4.c\\n License: MIT\\n For license text, see numpy/_core/src/multiarray/dragon4.c\\n \\n Name: libdivide\\n Files: numpy/_core/include/numpy/libdivide/*\\n License: Zlib\\n For license text, see numpy/_core/include/numpy/libdivide/LICENSE.txt\\n \\n \\n Note that the following files are vendored in the repository and sdist but not\\n installed in built numpy packages:\\n \\n Name: Meson\\n Files: vendored-meson/meson/*\\n License: Apache 2.0\\n For license text, see vendored-meson/meson/COPYING\\n \\n Name: spin\\n Files: .spin/cmds.py\\n License: BSD-3\\n For license text, see .spin/LICENSE\\n \\n Name: tempita\\n Files: numpy/_build_utils/tempita/*\\n License: MIT\\n For details, see numpy/_build_utils/tempita/LICENCE.txt\\n \\n ----\\n \\n This binary distribution of NumPy also bundles the following software:\\n \\n \\n Name: OpenBLAS\\n Files: numpy.libs/libscipy_openblas*.so\\n Description: bundled as a dynamically linked library\\n Availability: https://github.com/OpenMathLib/OpenBLAS/\\n License: BSD-3-Clause\\n Copyright (c) 2011-2014, The OpenBLAS Project\\n All rights reserved.\\n \\n Redistribution and use in source and binary forms, with or without\\n modification, are permitted provided that the following conditions are\\n met:\\n \\n 1. Redistributions of source code must retain the above copyright\\n notice, this list of conditions and the following disclaimer.\\n \\n 2. Redistributions in binary form must reproduce the above copyright\\n notice, this list of conditions and the following disclaimer in\\n the documentation and/or other materials provided with the\\n distribution.\\n 3. Neither the name of the OpenBLAS project nor the names of\\n its contributors may be used to endorse or promote products\\n derived from this software without specific prior written\\n permission.\\n \\n THIS SOFTWARE IS PROVIDED BY THE COPYRIGHT HOLDERS AND CONTRIBUTORS \"AS IS\"\\n AND ANY EXPRESS OR IMPLIED WARRANTIES, INCLUDING, BUT NOT LIMITED TO, THE\\n IMPLIED WARRANTIES OF MERCHANTABILITY AND FITNESS FOR A PARTICULAR PURPOSE\\n ARE DISCLAIMED. IN NO EVENT SHALL THE COPYRIGHT OWNER OR CONTRIBUTORS BE\\n LIABLE FOR ANY DIRECT, INDIRECT, INCIDENTAL, SPECIAL, EXEMPLARY, OR CONSEQUENTIAL\\n DAMAGES (INCLUDING, BUT NOT LIMITED TO, PROCUREMENT OF SUBSTITUTE GOODS OR\\n SERVICES; LOSS OF USE, DATA, OR PROFITS; OR BUSINESS INTERRUPTION) HOWEVER\\n CAUSED AND ON ANY THEORY OF LIABILITY, WHETHER IN CONTRACT, STRICT LIABILITY,\\n OR TORT (INCLUDING NEGLIGENCE OR OTHERWISE) ARISING IN ANY WAY OUT OF THE\\n USE OF THIS SOFTWARE, EVEN IF ADVISED OF THE POSSIBILITY OF SUCH DAMAGE.\\n \\n \\n Name: LAPACK\\n Files: numpy.libs/libscipy_openblas*.so\\n Description: bundled in OpenBLAS\\n Availability: https://github.com/OpenMathLib/OpenBLAS/\\n License: BSD-3-Clause-Attribution\\n Copyright (c) 1992-2013 The University of Tennessee and The University\\n of Tennessee Research Foundation.  All rights\\n reserved.\\n Copyright (c) 2000-2013 The University of California Berkeley. All\\n rights reserved.\\n Copyright (c) 2006-2013 The University of Colorado Denver.  All rights\\n reserved.\\n \\n $COPYRIGHT$\\n \\n Additional copyrights may follow\\n \\n $HEADER$\\n \\n Redistribution and use in source and binary forms, with or without\\n modification, are permitted provided that the following conditions are\\n met:\\n \\n - Redistributions of source code must retain the above copyright\\n notice, this list of conditions and the following disclaimer.\\n \\n - Redistributions in binary form must reproduce the above copyright\\n notice, this list of conditions and the following disclaimer listed\\n in this license in the documentation and/or other materials\\n provided with the distribution.\\n \\n - Neither the name of the copyright holders nor the names of its\\n contributors may be used to endorse or promote products derived from\\n this software without specific prior written permission.\\n \\n The copyright holders provide no reassurances that the source code\\n provided does not infringe any patent, copyright, or any other\\n intellectual property rights of third parties.  The copyright holders\\n disclaim any liability to any recipient for claims brought against\\n recipient by any third party for infringement of that parties\\n intellectual property rights.\\n \\n THIS SOFTWARE IS PROVIDED BY THE COPYRIGHT HOLDERS AND CONTRIBUTORS\\n \"AS IS\" AND ANY EXPRESS OR IMPLIED WARRANTIES, INCLUDING, BUT NOT\\n LIMITED TO, THE IMPLIED WARRANTIES OF MERCHANTABILITY AND FITNESS FOR\\n A PARTICULAR PURPOSE ARE DISCLAIMED. IN NO EVENT SHALL THE COPYRIGHT\\n OWNER OR CONTRIBUTORS BE LIABLE FOR ANY DIRECT, INDIRECT, INCIDENTAL,\\n SPECIAL, EXEMPLARY, OR CONSEQUENTIAL DAMAGES (INCLUDING, BUT NOT\\n LIMITED TO, PROCUREMENT OF SUBSTITUTE GOODS OR SERVICES; LOSS OF USE,\\n DATA, OR PROFITS; OR BUSINESS INTERRUPTION) HOWEVER CAUSED AND ON ANY\\n THEORY OF LIABILITY, WHETHER IN CONTRACT, STRICT LIABILITY, OR TORT\\n (INCLUDING NEGLIGENCE OR OTHERWISE) ARISING IN ANY WAY OUT OF THE USE\\n OF THIS SOFTWARE, EVEN IF ADVISED OF THE POSSIBILITY OF SUCH DAMAGE.\\n \\n \\n Name: GCC runtime library\\n Files: numpy.libs/libgfortran*.so\\n Description: dynamically linked to files compiled with gcc\\n Availability: https://gcc.gnu.org/git/?p=gcc.git;a=tree;f=libgfortran\\n License: GPL-3.0-with-GCC-exception\\n Copyright (C) 2002-2017 Free Software Foundation, Inc.\\n \\n Libgfortran is free software; you can redistribute it and/or modify\\n it under the terms of the GNU General Public License as published by\\n the Free Software Foundation; either version 3, or (at your option)\\n any later version.\\n \\n Libgfortran is distributed in the hope that it will be useful,\\n but WITHOUT ANY WARRANTY; without even the implied warranty of\\n MERCHANTABILITY or FITNESS FOR A PARTICULAR PURPOSE.  See the\\n GNU General Public License for more details.\\n \\n Under Section 7 of GPL version 3, you are granted additional\\n permissions described in the GCC Runtime Library Exception, version\\n 3.1, as published by the Free Software Foundation.\\n \\n You should have received a copy of the GNU General Public License and\\n a copy of the GCC Runtime Library Exception along with this program;\\n see the files COPYING3 and COPYING.RUNTIME respectively.  If not, see\\n <http://www.gnu.org/licenses/>.\\n \\n ----\\n \\n Full text of license texts referred to above follows (that they are\\n listed below does not necessarily imply the conditions apply to the\\n present binary release):\\n \\n ----\\n \\n GCC RUNTIME LIBRARY EXCEPTION\\n \\n Version 3.1, 31 March 2009\\n \\n Copyright (C) 2009 Free Software Foundation, Inc. <http://fsf.org/>\\n \\n Everyone is permitted to copy and distribute verbatim copies of this\\n license document, but changing it is not allowed.\\n \\n This GCC Runtime Library Exception (\"Exception\") is an additional\\n permission under section 7 of the GNU General Public License, version\\n 3 (\"GPLv3\"). It applies to a given file (the \"Runtime Library\") that\\n bears a notice placed by the copyright holder of the file stating that\\n the file is governed by GPLv3 along with this Exception.\\n \\n When you use GCC to compile a program, GCC may combine portions of\\n certain GCC header files and runtime libraries with the compiled\\n program. The purpose of this Exception is to allow compilation of\\n non-GPL (including proprietary) programs to use, in this way, the\\n header files and runtime libraries covered by this Exception.\\n \\n 0. Definitions.\\n \\n A file is an \"Independent Module\" if it either requires the Runtime\\n Library for execution after a Compilation Process, or makes use of an\\n interface provided by the Runtime Library, but is not otherwise based\\n on the Runtime Library.\\n \\n \"GCC\" means a version of the GNU Compiler Collection, with or without\\n modifications, governed by version 3 (or a specified later version) of\\n the GNU General Public License (GPL) with the option of using any\\n subsequent versions published by the FSF.\\n \\n \"GPL-compatible Software\" is software whose conditions of propagation,\\n modification and use would permit combination with GCC in accord with\\n the license of GCC.\\n \\n \"Target Code\" refers to output from any compiler for a real or virtual\\n target processor architecture, in executable form or suitable for\\n input to an assembler, loader, linker and/or execution\\n phase. Notwithstanding that, Target Code does not include data in any\\n format that is used as a compiler intermediate representation, or used\\n for producing a compiler intermediate representation.\\n \\n The \"Compilation Process\" transforms code entirely represented in\\n non-intermediate languages designed for human-written code, and/or in\\n Java Virtual Machine byte code, into Target Code. Thus, for example,\\n use of source code generators and preprocessors need not be considered\\n part of the Compilation Process, since the Compilation Process can be\\n understood as starting with the output of the generators or\\n preprocessors.\\n \\n A Compilation Process is \"Eligible\" if it is done using GCC, alone or\\n with other GPL-compatible software, or if it is done without using any\\n work based on GCC. For example, using non-GPL-compatible Software to\\n optimize any GCC intermediate representations would not qualify as an\\n Eligible Compilation Process.\\n \\n 1. Grant of Additional Permission.\\n \\n You have permission to propagate a work of Target Code formed by\\n combining the Runtime Library with Independent Modules, even if such\\n propagation would otherwise violate the terms of GPLv3, provided that\\n all Target Code was generated by Eligible Compilation Processes. You\\n may then convey such a combination under terms of your choice,\\n consistent with the licensing of the Independent Modules.\\n \\n 2. No Weakening of GCC Copyleft.\\n \\n The availability of this Exception does not imply any general\\n presumption that third-party software is unaffected by the copyleft\\n requirements of the license of GCC.\\n \\n ----\\n \\n GNU GENERAL PUBLIC LICENSE\\n Version 3, 29 June 2007\\n \\n Copyright (C) 2007 Free Software Foundation, Inc. <http://fsf.org/>\\n Everyone is permitted to copy and distribute verbatim copies\\n of this license document, but changing it is not allowed.\\n \\n Preamble\\n \\n The GNU General Public License is a free, copyleft license for\\n software and other kinds of works.\\n \\n The licenses for most software and other practical works are designed\\n to take away your freedom to share and change the works.  By contrast,\\n the GNU General Public License is intended to guarantee your freedom to\\n share and change all versions of a program--to make sure it remains free\\n software for all its users.  We, the Free Software Foundation, use the\\n GNU General Public License for most of our software; it applies also to\\n any other work released this way by its authors.  You can apply it to\\n your programs, too.\\n \\n When we speak of free software, we are referring to freedom, not\\n price.  Our General Public Licenses are designed to make sure that you\\n have the freedom to distribute copies of free software (and charge for\\n them if you wish), that you receive source code or can get it if you\\n want it, that you can change the software or use pieces of it in new\\n free programs, and that you know you can do these things.\\n \\n To protect your rights, we need to prevent others from denying you\\n these rights or asking you to surrender the rights.  Therefore, you have\\n certain responsibilities if you distribute copies of the software, or if\\n you modify it: responsibilities to respect the freedom of others.\\n \\n For example, if you distribute copies of such a program, whether\\n gratis or for a fee, you must pass on to the recipients the same\\n freedoms that you received.  You must make sure that they, too, receive\\n or can get the source code.  And you must show them these terms so they\\n know their rights.\\n \\n Developers that use the GNU GPL protect your rights with two steps:\\n (1) assert copyright on the software, and (2) offer you this License\\n giving you legal permission to copy, distribute and/or modify it.\\n \\n For the developers\\' and authors\\' protection, the GPL clearly explains\\n that there is no warranty for this free software.  For both users\\' and\\n authors\\' sake, the GPL requires that modified versions be marked as\\n changed, so that their problems will not be attributed erroneously to\\n authors of previous versions.\\n \\n Some devices are designed to deny users access to install or run\\n modified versions of the software inside them, although the manufacturer\\n can do so.  This is fundamentally incompatible with the aim of\\n protecting users\\' freedom to change the software.  The systematic\\n pattern of such abuse occurs in the area of products for individuals to\\n use, which is precisely where it is most unacceptable.  Therefore, we\\n have designed this version of the GPL to prohibit the practice for those\\n products.  If such problems arise substantially in other domains, we\\n stand ready to extend this provision to those domains in future versions\\n of the GPL, as needed to protect the freedom of users.\\n \\n Finally, every program is threatened constantly by software patents.\\n States should not allow patents to restrict development and use of\\n software on general-purpose computers, but in those that do, we wish to\\n avoid the special danger that patents applied to a free program could\\n make it effectively proprietary.  To prevent this, the GPL assures that\\n patents cannot be used to render the program non-free.\\n \\n The precise terms and conditions for copying, distribution and\\n modification follow.\\n \\n TERMS AND CONDITIONS\\n \\n 0. Definitions.\\n \\n \"This License\" refers to version 3 of the GNU General Public License.\\n \\n \"Copyright\" also means copyright-like laws that apply to other kinds of\\n works, such as semiconductor masks.\\n \\n \"The Program\" refers to any copyrightable work licensed under this\\n License.  Each licensee is addressed as \"you\".  \"Licensees\" and\\n \"recipients\" may be individuals or organizations.\\n \\n To \"modify\" a work means to copy from or adapt all or part of the work\\n in a fashion requiring copyright permission, other than the making of an\\n exact copy.  The resulting work is called a \"modified version\" of the\\n earlier work or a work \"based on\" the earlier work.\\n \\n A \"covered work\" means either the unmodified Program or a work based\\n on the Program.\\n \\n To \"propagate\" a work means to do anything with it that, without\\n permission, would make you directly or secondarily liable for\\n infringement under applicable copyright law, except executing it on a\\n computer or modifying a private copy.  Propagation includes copying,\\n distribution (with or without modification), making available to the\\n public, and in some countries other activities as well.\\n \\n To \"convey\" a work means any kind of propagation that enables other\\n parties to make or receive copies.  Mere interaction with a user through\\n a computer network, with no transfer of a copy, is not conveying.\\n \\n An interactive user interface displays \"Appropriate Legal Notices\"\\n to the extent that it includes a convenient and prominently visible\\n feature that (1) displays an appropriate copyright notice, and (2)\\n tells the user that there is no warranty for the work (except to the\\n extent that warranties are provided), that licensees may convey the\\n work under this License, and how to view a copy of this License.  If\\n the interface presents a list of user commands or options, such as a\\n menu, a prominent item in the list meets this criterion.\\n \\n 1. Source Code.\\n \\n The \"source code\" for a work means the preferred form of the work\\n for making modifications to it.  \"Object code\" means any non-source\\n form of a work.\\n \\n A \"Standard Interface\" means an interface that either is an official\\n standard defined by a recognized standards body, or, in the case of\\n interfaces specified for a particular programming language, one that\\n is widely used among developers working in that language.\\n \\n The \"System Libraries\" of an executable work include anything, other\\n than the work as a whole, that (a) is included in the normal form of\\n packaging a Major Component, but which is not part of that Major\\n Component, and (b) serves only to enable use of the work with that\\n Major Component, or to implement a Standard Interface for which an\\n implementation is available to the public in source code form.  A\\n \"Major Component\", in this context, means a major essential component\\n (kernel, window system, and so on) of the specific operating system\\n (if any) on which the executable work runs, or a compiler used to\\n produce the work, or an object code interpreter used to run it.\\n \\n The \"Corresponding Source\" for a work in object code form means all\\n the source code needed to generate, install, and (for an executable\\n work) run the object code and to modify the work, including scripts to\\n control those activities.  However, it does not include the work\\'s\\n System Libraries, or general-purpose tools or generally available free\\n programs which are used unmodified in performing those activities but\\n which are not part of the work.  For example, Corresponding Source\\n includes interface definition files associated with source files for\\n the work, and the source code for shared libraries and dynamically\\n linked subprograms that the work is specifically designed to require,\\n such as by intimate data communication or control flow between those\\n subprograms and other parts of the work.\\n \\n The Corresponding Source need not include anything that users\\n can regenerate automatically from other parts of the Corresponding\\n Source.\\n \\n The Corresponding Source for a work in source code form is that\\n same work.\\n \\n 2. Basic Permissions.\\n \\n All rights granted under this License are granted for the term of\\n copyright on the Program, and are irrevocable provided the stated\\n conditions are met.  This License explicitly affirms your unlimited\\n permission to run the unmodified Program.  The output from running a\\n covered work is covered by this License only if the output, given its\\n content, constitutes a covered work.  This License acknowledges your\\n rights of fair use or other equivalent, as provided by copyright law.\\n \\n You may make, run and propagate covered works that you do not\\n convey, without conditions so long as your license otherwise remains\\n in force.  You may convey covered works to others for the sole purpose\\n of having them make modifications exclusively for you, or provide you\\n with facilities for running those works, provided that you comply with\\n the terms of this License in conveying all material for which you do\\n not control copyright.  Those thus making or running the covered works\\n for you must do so exclusively on your behalf, under your direction\\n and control, on terms that prohibit them from making any copies of\\n your copyrighted material outside their relationship with you.\\n \\n Conveying under any other circumstances is permitted solely under\\n the conditions stated below.  Sublicensing is not allowed; section 10\\n makes it unnecessary.\\n \\n 3. Protecting Users\\' Legal Rights From Anti-Circumvention Law.\\n \\n No covered work shall be deemed part of an effective technological\\n measure under any applicable law fulfilling obligations under article\\n 11 of the WIPO copyright treaty adopted on 20 December 1996, or\\n similar laws prohibiting or restricting circumvention of such\\n measures.\\n \\n When you convey a covered work, you waive any legal power to forbid\\n circumvention of technological measures to the extent such circumvention\\n is effected by exercising rights under this License with respect to\\n the covered work, and you disclaim any intention to limit operation or\\n modification of the work as a means of enforcing, against the work\\'s\\n users, your or third parties\\' legal rights to forbid circumvention of\\n technological measures.\\n \\n 4. Conveying Verbatim Copies.\\n \\n You may convey verbatim copies of the Program\\'s source code as you\\n receive it, in any medium, provided that you conspicuously and\\n appropriately publish on each copy an appropriate copyright notice;\\n keep intact all notices stating that this License and any\\n non-permissive terms added in accord with section 7 apply to the code;\\n keep intact all notices of the absence of any warranty; and give all\\n recipients a copy of this License along with the Program.\\n \\n You may charge any price or no price for each copy that you convey,\\n and you may offer support or warranty protection for a fee.\\n \\n 5. Conveying Modified Source Versions.\\n \\n You may convey a work based on the Program, or the modifications to\\n produce it from the Program, in the form of source code under the\\n terms of section 4, provided that you also meet all of these conditions:\\n \\n a) The work must carry prominent notices stating that you modified\\n it, and giving a relevant date.\\n \\n b) The work must carry prominent notices stating that it is\\n released under this License and any conditions added under section\\n 7.  This requirement modifies the requirement in section 4 to\\n \"keep intact all notices\".\\n \\n c) You must license the entire work, as a whole, under this\\n License to anyone who comes into possession of a copy.  This\\n License will therefore apply, along with any applicable section 7\\n additional terms, to the whole of the work, and all its parts,\\n regardless of how they are packaged.  This License gives no\\n permission to license the work in any other way, but it does not\\n invalidate such permission if you have separately received it.\\n \\n d) If the work has interactive user interfaces, each must display\\n Appropriate Legal Notices; however, if the Program has interactive\\n interfaces that do not display Appropriate Legal Notices, your\\n work need not make them do so.\\n \\n A compilation of a covered work with other separate and independent\\n works, which are not by their nature extensions of the covered work,\\n and which are not combined with it such as to form a larger program,\\n in or on a volume of a storage or distribution medium, is called an\\n \"aggregate\" if the compilation and its resulting copyright are not\\n used to limit the access or legal rights of the compilation\\'s users\\n beyond what the individual works permit.  Inclusion of a covered work\\n in an aggregate does not cause this License to apply to the other\\n parts of the aggregate.\\n \\n 6. Conveying Non-Source Forms.\\n \\n You may convey a covered work in object code form under the terms\\n of sections 4 and 5, provided that you also convey the\\n machine-readable Corresponding Source under the terms of this License,\\n in one of these ways:\\n \\n a) Convey the object code in, or embodied in, a physical product\\n (including a physical distribution medium), accompanied by the\\n Corresponding Source fixed on a durable physical medium\\n customarily used for software interchange.\\n \\n b) Convey the object code in, or embodied in, a physical product\\n (including a physical distribution medium), accompanied by a\\n written offer, valid for at least three years and valid for as\\n long as you offer spare parts or customer support for that product\\n model, to give anyone who possesses the object code either (1) a\\n copy of the Corresponding Source for all the software in the\\n product that is covered by this License, on a durable physical\\n medium customarily used for software interchange, for a price no\\n more than your reasonable cost of physically performing this\\n conveying of source, or (2) access to copy the\\n Corresponding Source from a network server at no charge.\\n \\n c) Convey individual copies of the object code with a copy of the\\n written offer to provide the Corresponding Source.  This\\n alternative is allowed only occasionally and noncommercially, and\\n only if you received the object code with such an offer, in accord\\n with subsection 6b.\\n \\n d) Convey the object code by offering access from a designated\\n place (gratis or for a charge), and offer equivalent access to the\\n Corresponding Source in the same way through the same place at no\\n further charge.  You need not require recipients to copy the\\n Corresponding Source along with the object code.  If the place to\\n copy the object code is a network server, the Corresponding Source\\n may be on a different server (operated by you or a third party)\\n that supports equivalent copying facilities, provided you maintain\\n clear directions next to the object code saying where to find the\\n Corresponding Source.  Regardless of what server hosts the\\n Corresponding Source, you remain obligated to ensure that it is\\n available for as long as needed to satisfy these requirements.\\n \\n e) Convey the object code using peer-to-peer transmission, provided\\n you inform other peers where the object code and Corresponding\\n Source of the work are being offered to the general public at no\\n charge under subsection 6d.\\n \\n A separable portion of the object code, whose source code is excluded\\n from the Corresponding Source as a System Library, need not be\\n included in conveying the object code work.\\n \\n A \"User Product\" is either (1) a \"consumer product\", which means any\\n tangible personal property which is normally used for personal, family,\\n or household purposes, or (2) anything designed or sold for incorporation\\n into a dwelling.  In determining whether a product is a consumer product,\\n doubtful cases shall be resolved in favor of coverage.  For a particular\\n product received by a particular user, \"normally used\" refers to a\\n typical or common use of that class of product, regardless of the status\\n of the particular user or of the way in which the particular user\\n actually uses, or expects or is expected to use, the product.  A product\\n is a consumer product regardless of whether the product has substantial\\n commercial, industrial or non-consumer uses, unless such uses represent\\n the only significant mode of use of the product.\\n \\n \"Installation Information\" for a User Product means any methods,\\n procedures, authorization keys, or other information required to install\\n and execute modified versions of a covered work in that User Product from\\n a modified version of its Corresponding Source.  The information must\\n suffice to ensure that the continued functioning of the modified object\\n code is in no case prevented or interfered with solely because\\n modification has been made.\\n \\n If you convey an object code work under this section in, or with, or\\n specifically for use in, a User Product, and the conveying occurs as\\n part of a transaction in which the right of possession and use of the\\n User Product is transferred to the recipient in perpetuity or for a\\n fixed term (regardless of how the transaction is characterized), the\\n Corresponding Source conveyed under this section must be accompanied\\n by the Installation Information.  But this requirement does not apply\\n if neither you nor any third party retains the ability to install\\n modified object code on the User Product (for example, the work has\\n been installed in ROM).\\n \\n The requirement to provide Installation Information does not include a\\n requirement to continue to provide support service, warranty, or updates\\n for a work that has been modified or installed by the recipient, or for\\n the User Product in which it has been modified or installed.  Access to a\\n network may be denied when the modification itself materially and\\n adversely affects the operation of the network or violates the rules and\\n protocols for communication across the network.\\n \\n Corresponding Source conveyed, and Installation Information provided,\\n in accord with this section must be in a format that is publicly\\n documented (and with an implementation available to the public in\\n source code form), and must require no special password or key for\\n unpacking, reading or copying.\\n \\n 7. Additional Terms.\\n \\n \"Additional permissions\" are terms that supplement the terms of this\\n License by making exceptions from one or more of its conditions.\\n Additional permissions that are applicable to the entire Program shall\\n be treated as though they were included in this License, to the extent\\n that they are valid under applicable law.  If additional permissions\\n apply only to part of the Program, that part may be used separately\\n under those permissions, but the entire Program remains governed by\\n this License without regard to the additional permissions.\\n \\n When you convey a copy of a covered work, you may at your option\\n remove any additional permissions from that copy, or from any part of\\n it.  (Additional permissions may be written to require their own\\n removal in certain cases when you modify the work.)  You may place\\n additional permissions on material, added by you to a covered work,\\n for which you have or can give appropriate copyright permission.\\n \\n Notwithstanding any other provision of this License, for material you\\n add to a covered work, you may (if authorized by the copyright holders of\\n that material) supplement the terms of this License with terms:\\n \\n a) Disclaiming warranty or limiting liability differently from the\\n terms of sections 15 and 16 of this License; or\\n \\n b) Requiring preservation of specified reasonable legal notices or\\n author attributions in that material or in the Appropriate Legal\\n Notices displayed by works containing it; or\\n \\n c) Prohibiting misrepresentation of the origin of that material, or\\n requiring that modified versions of such material be marked in\\n reasonable ways as different from the original version; or\\n \\n d) Limiting the use for publicity purposes of names of licensors or\\n authors of the material; or\\n \\n e) Declining to grant rights under trademark law for use of some\\n trade names, trademarks, or service marks; or\\n \\n f) Requiring indemnification of licensors and authors of that\\n material by anyone who conveys the material (or modified versions of\\n it) with contractual assumptions of liability to the recipient, for\\n any liability that these contractual assumptions directly impose on\\n those licensors and authors.\\n \\n All other non-permissive additional terms are considered \"further\\n restrictions\" within the meaning of section 10.  If the Program as you\\n received it, or any part of it, contains a notice stating that it is\\n governed by this License along with a term that is a further\\n restriction, you may remove that term.  If a license document contains\\n a further restriction but permits relicensing or conveying under this\\n License, you may add to a covered work material governed by the terms\\n of that license document, provided that the further restriction does\\n not survive such relicensing or conveying.\\n \\n If you add terms to a covered work in accord with this section, you\\n must place, in the relevant source files, a statement of the\\n additional terms that apply to those files, or a notice indicating\\n where to find the applicable terms.\\n \\n Additional terms, permissive or non-permissive, may be stated in the\\n form of a separately written license, or stated as exceptions;\\n the above requirements apply either way.\\n \\n 8. Termination.\\n \\n You may not propagate or modify a covered work except as expressly\\n provided under this License.  Any attempt otherwise to propagate or\\n modify it is void, and will automatically terminate your rights under\\n this License (including any patent licenses granted under the third\\n paragraph of section 11).\\n \\n However, if you cease all violation of this License, then your\\n license from a particular copyright holder is reinstated (a)\\n provisionally, unless and until the copyright holder explicitly and\\n finally terminates your license, and (b) permanently, if the copyright\\n holder fails to notify you of the violation by some reasonable means\\n prior to 60 days after the cessation.\\n \\n Moreover, your license from a particular copyright holder is\\n reinstated permanently if the copyright holder notifies you of the\\n violation by some reasonable means, this is the first time you have\\n received notice of violation of this License (for any work) from that\\n copyright holder, and you cure the violation prior to 30 days after\\n your receipt of the notice.\\n \\n Termination of your rights under this section does not terminate the\\n licenses of parties who have received copies or rights from you under\\n this License.  If your rights have been terminated and not permanently\\n reinstated, you do not qualify to receive new licenses for the same\\n material under section 10.\\n \\n 9. Acceptance Not Required for Having Copies.\\n \\n You are not required to accept this License in order to receive or\\n run a copy of the Program.  Ancillary propagation of a covered work\\n occurring solely as a consequence of using peer-to-peer transmission\\n to receive a copy likewise does not require acceptance.  However,\\n nothing other than this License grants you permission to propagate or\\n modify any covered work.  These actions infringe copyright if you do\\n not accept this License.  Therefore, by modifying or propagating a\\n covered work, you indicate your acceptance of this License to do so.\\n \\n 10. Automatic Licensing of Downstream Recipients.\\n \\n Each time you convey a covered work, the recipient automatically\\n receives a license from the original licensors, to run, modify and\\n propagate that work, subject to this License.  You are not responsible\\n for enforcing compliance by third parties with this License.\\n \\n An \"entity transaction\" is a transaction transferring control of an\\n organization, or substantially all assets of one, or subdividing an\\n organization, or merging organizations.  If propagation of a covered\\n work results from an entity transaction, each party to that\\n transaction who receives a copy of the work also receives whatever\\n licenses to the work the party\\'s predecessor in interest had or could\\n give under the previous paragraph, plus a right to possession of the\\n Corresponding Source of the work from the predecessor in interest, if\\n the predecessor has it or can get it with reasonable efforts.\\n \\n You may not impose any further restrictions on the exercise of the\\n rights granted or affirmed under this License.  For example, you may\\n not impose a license fee, royalty, or other charge for exercise of\\n rights granted under this License, and you may not initiate litigation\\n (including a cross-claim or counterclaim in a lawsuit) alleging that\\n any patent claim is infringed by making, using, selling, offering for\\n sale, or importing the Program or any portion of it.\\n \\n 11. Patents.\\n \\n A \"contributor\" is a copyright holder who authorizes use under this\\n License of the Program or a work on which the Program is based.  The\\n work thus licensed is called the contributor\\'s \"contributor version\".\\n \\n A contributor\\'s \"essential patent claims\" are all patent claims\\n owned or controlled by the contributor, whether already acquired or\\n hereafter acquired, that would be infringed by some manner, permitted\\n by this License, of making, using, or selling its contributor version,\\n but do not include claims that would be infringed only as a\\n consequence of further modification of the contributor version.  For\\n purposes of this definition, \"control\" includes the right to grant\\n patent sublicenses in a manner consistent with the requirements of\\n this License.\\n \\n Each contributor grants you a non-exclusive, worldwide, royalty-free\\n patent license under the contributor\\'s essential patent claims, to\\n make, use, sell, offer for sale, import and otherwise run, modify and\\n propagate the contents of its contributor version.\\n \\n In the following three paragraphs, a \"patent license\" is any express\\n agreement or commitment, however denominated, not to enforce a patent\\n (such as an express permission to practice a patent or covenant not to\\n sue for patent infringement).  To \"grant\" such a patent license to a\\n party means to make such an agreement or commitment not to enforce a\\n patent against the party.\\n \\n If you convey a covered work, knowingly relying on a patent license,\\n and the Corresponding Source of the work is not available for anyone\\n to copy, free of charge and under the terms of this License, through a\\n publicly available network server or other readily accessible means,\\n then you must either (1) cause the Corresponding Source to be so\\n available, or (2) arrange to deprive yourself of the benefit of the\\n patent license for this particular work, or (3) arrange, in a manner\\n consistent with the requirements of this License, to extend the patent\\n license to downstream recipients.  \"Knowingly relying\" means you have\\n actual knowledge that, but for the patent license, your conveying the\\n covered work in a country, or your recipient\\'s use of the covered work\\n in a country, would infringe one or more identifiable patents in that\\n country that you have reason to believe are valid.\\n \\n If, pursuant to or in connection with a single transaction or\\n arrangement, you convey, or propagate by procuring conveyance of, a\\n covered work, and grant a patent license to some of the parties\\n receiving the covered work authorizing them to use, propagate, modify\\n or convey a specific copy of the covered work, then the patent license\\n you grant is automatically extended to all recipients of the covered\\n work and works based on it.\\n \\n A patent license is \"discriminatory\" if it does not include within\\n the scope of its coverage, prohibits the exercise of, or is\\n conditioned on the non-exercise of one or more of the rights that are\\n specifically granted under this License.  You may not convey a covered\\n work if you are a party to an arrangement with a third party that is\\n in the business of distributing software, under which you make payment\\n to the third party based on the extent of your activity of conveying\\n the work, and under which the third party grants, to any of the\\n parties who would receive the covered work from you, a discriminatory\\n patent license (a) in connection with copies of the covered work\\n conveyed by you (or copies made from those copies), or (b) primarily\\n for and in connection with specific products or compilations that\\n contain the covered work, unless you entered into that arrangement,\\n or that patent license was granted, prior to 28 March 2007.\\n \\n Nothing in this License shall be construed as excluding or limiting\\n any implied license or other defenses to infringement that may\\n otherwise be available to you under applicable patent law.\\n \\n 12. No Surrender of Others\\' Freedom.\\n \\n If conditions are imposed on you (whether by court order, agreement or\\n otherwise) that contradict the conditions of this License, they do not\\n excuse you from the conditions of this License.  If you cannot convey a\\n covered work so as to satisfy simultaneously your obligations under this\\n License and any other pertinent obligations, then as a consequence you may\\n not convey it at all.  For example, if you agree to terms that obligate you\\n to collect a royalty for further conveying from those to whom you convey\\n the Program, the only way you could satisfy both those terms and this\\n License would be to refrain entirely from conveying the Program.\\n \\n 13. Use with the GNU Affero General Public License.\\n \\n Notwithstanding any other provision of this License, you have\\n permission to link or combine any covered work with a work licensed\\n under version 3 of the GNU Affero General Public License into a single\\n combined work, and to convey the resulting work.  The terms of this\\n License will continue to apply to the part which is the covered work,\\n but the special requirements of the GNU Affero General Public License,\\n section 13, concerning interaction through a network will apply to the\\n combination as such.\\n \\n 14. Revised Versions of this License.\\n \\n The Free Software Foundation may publish revised and/or new versions of\\n the GNU General Public License from time to time.  Such new versions will\\n be similar in spirit to the present version, but may differ in detail to\\n address new problems or concerns.\\n \\n Each version is given a distinguishing version number.  If the\\n Program specifies that a certain numbered version of the GNU General\\n Public License \"or any later version\" applies to it, you have the\\n option of following the terms and conditions either of that numbered\\n version or of any later version published by the Free Software\\n Foundation.  If the Program does not specify a version number of the\\n GNU General Public License, you may choose any version ever published\\n by the Free Software Foundation.\\n \\n If the Program specifies that a proxy can decide which future\\n versions of the GNU General Public License can be used, that proxy\\'s\\n public statement of acceptance of a version permanently authorizes you\\n to choose that version for the Program.\\n \\n Later license versions may give you additional or different\\n permissions.  However, no additional obligations are imposed on any\\n author or copyright holder as a result of your choosing to follow a\\n later version.\\n \\n 15. Disclaimer of Warranty.\\n \\n THERE IS NO WARRANTY FOR THE PROGRAM, TO THE EXTENT PERMITTED BY\\n APPLICABLE LAW.  EXCEPT WHEN OTHERWISE STATED IN WRITING THE COPYRIGHT\\n HOLDERS AND/OR OTHER PARTIES PROVIDE THE PROGRAM \"AS IS\" WITHOUT WARRANTY\\n OF ANY KIND, EITHER EXPRESSED OR IMPLIED, INCLUDING, BUT NOT LIMITED TO,\\n THE IMPLIED WARRANTIES OF MERCHANTABILITY AND FITNESS FOR A PARTICULAR\\n PURPOSE.  THE ENTIRE RISK AS TO THE QUALITY AND PERFORMANCE OF THE PROGRAM\\n IS WITH YOU.  SHOULD THE PROGRAM PROVE DEFECTIVE, YOU ASSUME THE COST OF\\n ALL NECESSARY SERVICING, REPAIR OR CORRECTION.\\n \\n 16. Limitation of Liability.\\n \\n IN NO EVENT UNLESS REQUIRED BY APPLICABLE LAW OR AGREED TO IN WRITING\\n WILL ANY COPYRIGHT HOLDER, OR ANY OTHER PARTY WHO MODIFIES AND/OR CONVEYS\\n THE PROGRAM AS PERMITTED ABOVE, BE LIABLE TO YOU FOR DAMAGES, INCLUDING ANY\\n GENERAL, SPECIAL, INCIDENTAL OR CONSEQUENTIAL DAMAGES ARISING OUT OF THE\\n USE OR INABILITY TO USE THE PROGRAM (INCLUDING BUT NOT LIMITED TO LOSS OF\\n DATA OR DATA BEING RENDERED INACCURATE OR LOSSES SUSTAINED BY YOU OR THIRD\\n PARTIES OR A FAILURE OF THE PROGRAM TO OPERATE WITH ANY OTHER PROGRAMS),\\n EVEN IF SUCH HOLDER OR OTHER PARTY HAS BEEN ADVISED OF THE POSSIBILITY OF\\n SUCH DAMAGES.\\n \\n 17. Interpretation of Sections 15 and 16.\\n \\n If the disclaimer of warranty and limitation of liability provided\\n above cannot be given local legal effect according to their terms,\\n reviewing courts shall apply local law that most closely approximates\\n an absolute waiver of all civil liability in connection with the\\n Program, unless a warranty or assumption of liability accompanies a\\n copy of the Program in return for a fee.\\n \\n END OF TERMS AND CONDITIONS\\n \\n How to Apply These Terms to Your New Programs\\n \\n If you develop a new program, and you want it to be of the greatest\\n possible use to the public, the best way to achieve this is to make it\\n free software which everyone can redistribute and change under these terms.\\n \\n To do so, attach the following notices to the program.  It is safest\\n to attach them to the start of each source file to most effectively\\n state the exclusion of warranty; and each file should have at least\\n the \"copyright\" line and a pointer to where the full notice is found.\\n \\n <one line to give the program\\'s name and a brief idea of what it does.>\\n Copyright (C) <year>  <name of author>\\n \\n This program is free software: you can redistribute it and/or modify\\n it under the terms of the GNU General Public License as published by\\n the Free Software Foundation, either version 3 of the License, or\\n (at your option) any later version.\\n \\n This program is distributed in the hope that it will be useful,\\n but WITHOUT ANY WARRANTY; without even the implied warranty of\\n MERCHANTABILITY or FITNESS FOR A PARTICULAR PURPOSE.  See the\\n GNU General Public License for more details.\\n \\n You should have received a copy of the GNU General Public License\\n along with this program.  If not, see <http://www.gnu.org/licenses/>.\\n \\n Also add information on how to contact you by electronic and paper mail.\\n \\n If the program does terminal interaction, make it output a short\\n notice like this when it starts in an interactive mode:\\n \\n <program>  Copyright (C) <year>  <name of author>\\n This program comes with ABSOLUTELY NO WARRANTY; for details type `show w\\'.\\n This is free software, and you are welcome to redistribute it\\n under certain conditions; type `show c\\' for details.\\n \\n The hypothetical commands `show w\\' and `show c\\' should show the appropriate\\n parts of the General Public License.  Of course, your program\\'s commands\\n might be different; for a GUI interface, you would use an \"about box\".\\n \\n You should also get your employer (if you work as a programmer) or school,\\n if any, to sign a \"copyright disclaimer\" for the program, if necessary.\\n For more information on this, and how to apply and follow the GNU GPL, see\\n <http://www.gnu.org/licenses/>.\\n \\n The GNU General Public License does not permit incorporating your program\\n into proprietary programs.  If your program is a subroutine library, you\\n may consider it more useful to permit linking proprietary applications with\\n the library.  If this is what you want to do, use the GNU Lesser General\\n Public License instead of this License.  But first, please read\\n <http://www.gnu.org/philosophy/why-not-lgpl.html>.\\n \\n Name: libquadmath\\n Files: numpy.libs/libquadmath*.so\\n Description: dynamically linked to files compiled with gcc\\n Availability: https://gcc.gnu.org/git/?p=gcc.git;a=tree;f=libquadmath\\n License: LGPL-2.1-or-later\\n \\n GCC Quad-Precision Math Library\\n Copyright (C) 2010-2019 Free Software Foundation, Inc.\\n Written by Francois-Xavier Coudert  <fxcoudert@gcc.gnu.org>\\n \\n This file is part of the libquadmath library.\\n Libquadmath is free software; you can redistribute it and/or\\n modify it under the terms of the GNU Library General Public\\n License as published by the Free Software Foundation; either\\n version 2.1 of the License, or (at your option) any later version.\\n \\n Libquadmath is distributed in the hope that it will be useful,\\n but WITHOUT ANY WARRANTY; without even the implied warranty of\\n MERCHANTABILITY or FITNESS FOR A PARTICULAR PURPOSE.  See the GNU\\n Lesser General Public License for more details.\\n https://www.gnu.org/licenses/old-licenses/lgpl-2.1.html\\n ',\n",
       "       'ZPL 2.1', 'BDS-3-Clause', 'BSD-3-Clause,Apache-2.0',\n",
       "       'AGPL-3.0-only', 'declared license file: LICENSE.txt',\n",
       "       'BSD-3-Clause-Attribution', 'NCSA',\n",
       "       'declared license file: AUTHORS.txt',\n",
       "       \"declared license of 'numpy'\", 'Suspected MIT',\n",
       "       'declared license file: LICENSE.BSD',\n",
       "       'declared license file: LICENSE.APACHE', 'ANTLR-PD',\n",
       "       'Custom-pg_dump', 'W3C', 'asl', '(MIT OR Apache-2.0)',\n",
       "       'BSD-BY-LC-NE', 'NTP', 'BSD-3-Clause-Hiroshima-University',\n",
       "       'BSD-3-Clause-Google', 'BSD-2-Clause-Chemeris', 'LGPL v3', 'PSFL',\n",
       "       'SMAIL-GPL',\n",
       "       'Indiana University Extreme! Lab Software License 1.1.1',\n",
       "       'MIT-like', 'The W3C Software License', 'AGPL-V3',\n",
       "       'GNU General Public Library', 'BSD 3-clause New License', 'gpl',\n",
       "       'The GNU General Public License, v2 with FOSS exception',\n",
       "       'JSR-000107 JCACHE 2.9 Public Review - Updated Specification\\n                License',\n",
       "       'JSR-000107 JCACHE 2.9 Public Review - Updated Specification License',\n",
       "       'APACHEv2', 'version', '2.0', 'Public', 'LGPL-2.0',\n",
       "       '(0BSD OR MIT)', 'Apache-2.0 WITH LLVM-exception',\n",
       "       '(MIT OR GPL-3.0)', 'MPL-2.0 OR Apache-2.0', 'AGPL-3',\n",
       "       'the Apache License, ASL Version 2.0', 'MPL 1.1', 'gnulib',\n",
       "       'Chromium', 'nagaysau-ishii', 'Custom-regex', 'ZPL',\n",
       "       'Custom-Unicode', 'TCL', 'PostgreSQL', 'BSD-3-clause-Cambridge',\n",
       "       'LGPL 2.1', 'all-permissive', 'public-domain-sha1',\n",
       "       'public-domain-md4', 'BSD-3-clause-Aaron-D-Gifford', 'EPL 2.0',\n",
       "       'The MIT License', 'CDDL 1.1', 'Eclipse Public License - v 2.0',\n",
       "       'The Apache License, Version 2.0',\n",
       "       'CDDL + GPLv2 with classpath exception', 'MIT AND BSD-3-Clause'],\n",
       "      dtype=object)"
      ]
     },
     "execution_count": 38,
     "metadata": {},
     "output_type": "execute_result"
    }
   ],
   "source": [
    "all_licenses = [l for l in all_licenses if l and l != 'NONE']\n",
    "df_license_stats = pd.DataFrame(all_licenses, columns=['license'])\n",
    "df_license_stats['license'].apply(lambda x: fix_license(x))\n",
    "license_counts = df_license_stats['license'].value_counts().reset_index()\n",
    "license_counts.columns = ['license', 'count']\n",
    "license_counts['percentage'] = (license_counts['count'] / license_counts['count'].sum()) * 100\n",
    "license_counts.license.unique()"
   ]
  },
  {
   "cell_type": "code",
   "execution_count": 39,
   "id": "2e36b889-08d2-4f50-91ed-92c06d9e703b",
   "metadata": {
    "scrolled": true
   },
   "outputs": [
    {
     "data": {
      "text/plain": [
       "384"
      ]
     },
     "execution_count": 39,
     "metadata": {},
     "output_type": "execute_result"
    }
   ],
   "source": [
    "# Total different unique licenses\n",
    "len(license_counts)"
   ]
  },
  {
   "cell_type": "code",
   "execution_count": 40,
   "id": "a712aa19-2ece-4c3b-8c21-aa1637a9ecc0",
   "metadata": {},
   "outputs": [
    {
     "data": {
      "image/png": "[encoded data removed]",
      "text/plain": [
       "<Figure size 1000x600 with 1 Axes>"
      ]
     },
     "metadata": {},
     "output_type": "display_data"
    }
   ],
   "source": [
    "# Aggregate licenses with small percentages into 'other' category\n",
    "threshold = 1  # percentage threshold to consider as 'other'\n",
    "license_plotting = license_counts.copy()\n",
    "license_plotting.loc[license_plotting['percentage'] < threshold, 'license'] = 'other'\n",
    "\n",
    "# Recalculate the counts and percentages\n",
    "aggregated_counts = license_plotting.groupby('license').agg({'count': 'sum'}).reset_index()\n",
    "aggregated_counts['percentage'] = (aggregated_counts['count'] / aggregated_counts['count'].sum()) * 100\n",
    "aggregated_counts = aggregated_counts.sort_values(by='count', ascending=False)\n",
    "plt.figure(figsize=(10, 6))\n",
    "sns.barplot(x='license', y='percentage', data=aggregated_counts)\n",
    "#plt.title('License Percentages (with \"other\" category)')\n",
    "plt.xticks(rotation=45)\n",
    "plt.ylabel('Percentage (%)')\n",
    "plt.xlabel('License')\n",
    "plt.show()"
   ]
  },
  {
   "cell_type": "markdown",
   "id": "8f82e5df-7957-43cd-947b-a80b3a2267bc",
   "metadata": {},
   "source": [
    "# Vulnerabilities"
   ]
  },
  {
   "cell_type": "code",
   "execution_count": 77,
   "id": "1f3a87b4-1be4-4817-b50e-c7aa9a7d18cf",
   "metadata": {},
   "outputs": [],
   "source": [
    "# Fixing the -1 in the CVE columns\n",
    "cve_cols = [\"critical\", \"high\", \"medium\", \"low\"]\n",
    "df[cve_cols] = df[cve_cols].replace(-1, 0)"
   ]
  },
  {
   "cell_type": "code",
   "execution_count": 78,
   "id": "4e37f2c8-34c4-4346-b35c-648e5d1f2b78",
   "metadata": {},
   "outputs": [],
   "source": [
    "# Stats an all cve\n",
    "df[\"cves_count\"] = df[cve_cols].sum(axis=1)"
   ]
  },
  {
   "cell_type": "code",
   "execution_count": 79,
   "id": "7d9df3b3-c67f-4a38-8dfe-4e60ff46f2c1",
   "metadata": {},
   "outputs": [
    {
     "data": {
      "text/plain": [
       "count    620.000000\n",
       "mean       7.614516\n",
       "std       39.832340\n",
       "min        0.000000\n",
       "25%        0.000000\n",
       "50%        2.000000\n",
       "75%        5.000000\n",
       "max      564.000000\n",
       "Name: cves_count, dtype: float64"
      ]
     },
     "execution_count": 79,
     "metadata": {},
     "output_type": "execute_result"
    }
   ],
   "source": [
    "df.cves_count.describe()"
   ]
  },
  {
   "cell_type": "code",
   "execution_count": 80,
   "id": "5b8e8e69-558d-4ca2-a901-45719ac34e44",
   "metadata": {},
   "outputs": [
    {
     "data": {
      "text/html": [
       "<div>\n",
       "<style scoped>\n",
       "    .dataframe tbody tr th:only-of-type {\n",
       "        vertical-align: middle;\n",
       "    }\n",
       "\n",
       "    .dataframe tbody tr th {\n",
       "        vertical-align: top;\n",
       "    }\n",
       "\n",
       "    .dataframe thead th {\n",
       "        text-align: right;\n",
       "    }\n",
       "</style>\n",
       "<table border=\"1\" class=\"dataframe\">\n",
       "  <thead>\n",
       "    <tr style=\"text-align: right;\">\n",
       "      <th></th>\n",
       "      <th>count</th>\n",
       "      <th>mean</th>\n",
       "      <th>std</th>\n",
       "      <th>min</th>\n",
       "      <th>25%</th>\n",
       "      <th>50%</th>\n",
       "      <th>75%</th>\n",
       "      <th>max</th>\n",
       "    </tr>\n",
       "    <tr>\n",
       "      <th>format</th>\n",
       "      <th></th>\n",
       "      <th></th>\n",
       "      <th></th>\n",
       "      <th></th>\n",
       "      <th></th>\n",
       "      <th></th>\n",
       "      <th></th>\n",
       "      <th></th>\n",
       "    </tr>\n",
       "  </thead>\n",
       "  <tbody>\n",
       "    <tr>\n",
       "      <th>cyclonedx_json</th>\n",
       "      <td>261.0</td>\n",
       "      <td>8.954023</td>\n",
       "      <td>49.498386</td>\n",
       "      <td>0.0</td>\n",
       "      <td>0.0</td>\n",
       "      <td>1.0</td>\n",
       "      <td>5.0</td>\n",
       "      <td>564.0</td>\n",
       "    </tr>\n",
       "    <tr>\n",
       "      <th>cyclonedx_xml</th>\n",
       "      <td>23.0</td>\n",
       "      <td>44.434783</td>\n",
       "      <td>111.899235</td>\n",
       "      <td>0.0</td>\n",
       "      <td>0.5</td>\n",
       "      <td>8.0</td>\n",
       "      <td>19.5</td>\n",
       "      <td>525.0</td>\n",
       "    </tr>\n",
       "    <tr>\n",
       "      <th>spdx_json</th>\n",
       "      <td>281.0</td>\n",
       "      <td>4.576512</td>\n",
       "      <td>10.663456</td>\n",
       "      <td>0.0</td>\n",
       "      <td>1.0</td>\n",
       "      <td>2.0</td>\n",
       "      <td>5.0</td>\n",
       "      <td>122.0</td>\n",
       "    </tr>\n",
       "    <tr>\n",
       "      <th>spdx_spdx</th>\n",
       "      <td>53.0</td>\n",
       "      <td>1.433962</td>\n",
       "      <td>5.183218</td>\n",
       "      <td>0.0</td>\n",
       "      <td>0.0</td>\n",
       "      <td>0.0</td>\n",
       "      <td>0.0</td>\n",
       "      <td>32.0</td>\n",
       "    </tr>\n",
       "    <tr>\n",
       "      <th>spdx_yaml</th>\n",
       "      <td>2.0</td>\n",
       "      <td>0.000000</td>\n",
       "      <td>0.000000</td>\n",
       "      <td>0.0</td>\n",
       "      <td>0.0</td>\n",
       "      <td>0.0</td>\n",
       "      <td>0.0</td>\n",
       "      <td>0.0</td>\n",
       "    </tr>\n",
       "  </tbody>\n",
       "</table>\n",
       "</div>"
      ],
      "text/plain": [
       "                count       mean         std  min  25%  50%   75%    max\n",
       "format                                                                  \n",
       "cyclonedx_json  261.0   8.954023   49.498386  0.0  0.0  1.0   5.0  564.0\n",
       "cyclonedx_xml    23.0  44.434783  111.899235  0.0  0.5  8.0  19.5  525.0\n",
       "spdx_json       281.0   4.576512   10.663456  0.0  1.0  2.0   5.0  122.0\n",
       "spdx_spdx        53.0   1.433962    5.183218  0.0  0.0  0.0   0.0   32.0\n",
       "spdx_yaml         2.0   0.000000    0.000000  0.0  0.0  0.0   0.0    0.0"
      ]
     },
     "execution_count": 80,
     "metadata": {},
     "output_type": "execute_result"
    }
   ],
   "source": [
    "df.groupby('format').cves_count.describe()"
   ]
  },
  {
   "cell_type": "code",
   "execution_count": 82,
   "id": "5cbbd1ca-04ad-43b6-b3c1-2a0ca6c2686a",
   "metadata": {},
   "outputs": [
    {
     "data": {
      "text/plain": [
       "60    dejacode\n",
       "Name: name, dtype: object"
      ]
     },
     "execution_count": 82,
     "metadata": {},
     "output_type": "execute_result"
    }
   ],
   "source": [
    "# Project with max CVE\n",
    "max = df.cves_count.max()\n",
    "df[df.cves_count==max].name"
   ]
  },
  {
   "cell_type": "code",
   "execution_count": null,
   "id": "f21ad462-c3c9-49bc-b936-0ab7ffedf993",
   "metadata": {},
   "outputs": [
    {
     "data": {
      "text/plain": [
       "39.516129032258064"
      ]
     },
     "execution_count": 83,
     "metadata": {},
     "output_type": "execute_result"
    }
   ],
   "source": [
    "# Percentage without CVE\n",
    "len(df[df.cves_count==0])/len(df) * 100"
   ]
  },
  {
   "cell_type": "code",
   "execution_count": 84,
   "id": "51b2dd62-fcb0-41ef-bae8-129f1fcc3ea0",
   "metadata": {
    "scrolled": true
   },
   "outputs": [
    {
     "data": {
      "text/html": [
       "<div>\n",
       "<style scoped>\n",
       "    .dataframe tbody tr th:only-of-type {\n",
       "        vertical-align: middle;\n",
       "    }\n",
       "\n",
       "    .dataframe tbody tr th {\n",
       "        vertical-align: top;\n",
       "    }\n",
       "\n",
       "    .dataframe thead th {\n",
       "        text-align: right;\n",
       "    }\n",
       "</style>\n",
       "<table border=\"1\" class=\"dataframe\">\n",
       "  <thead>\n",
       "    <tr style=\"text-align: right;\">\n",
       "      <th></th>\n",
       "      <th>critical</th>\n",
       "      <th>high</th>\n",
       "      <th>medium</th>\n",
       "      <th>low</th>\n",
       "    </tr>\n",
       "  </thead>\n",
       "  <tbody>\n",
       "    <tr>\n",
       "      <th>count</th>\n",
       "      <td>620.000000</td>\n",
       "      <td>620.000000</td>\n",
       "      <td>620.000000</td>\n",
       "      <td>620.000000</td>\n",
       "    </tr>\n",
       "    <tr>\n",
       "      <th>mean</th>\n",
       "      <td>0.556452</td>\n",
       "      <td>2.645161</td>\n",
       "      <td>3.895161</td>\n",
       "      <td>0.517742</td>\n",
       "    </tr>\n",
       "    <tr>\n",
       "      <th>std</th>\n",
       "      <td>3.174267</td>\n",
       "      <td>14.643305</td>\n",
       "      <td>20.450902</td>\n",
       "      <td>2.343935</td>\n",
       "    </tr>\n",
       "    <tr>\n",
       "      <th>min</th>\n",
       "      <td>0.000000</td>\n",
       "      <td>0.000000</td>\n",
       "      <td>0.000000</td>\n",
       "      <td>0.000000</td>\n",
       "    </tr>\n",
       "    <tr>\n",
       "      <th>25%</th>\n",
       "      <td>0.000000</td>\n",
       "      <td>0.000000</td>\n",
       "      <td>0.000000</td>\n",
       "      <td>0.000000</td>\n",
       "    </tr>\n",
       "    <tr>\n",
       "      <th>50%</th>\n",
       "      <td>0.000000</td>\n",
       "      <td>0.000000</td>\n",
       "      <td>1.000000</td>\n",
       "      <td>0.000000</td>\n",
       "    </tr>\n",
       "    <tr>\n",
       "      <th>75%</th>\n",
       "      <td>0.000000</td>\n",
       "      <td>1.000000</td>\n",
       "      <td>2.000000</td>\n",
       "      <td>0.000000</td>\n",
       "    </tr>\n",
       "    <tr>\n",
       "      <th>max</th>\n",
       "      <td>56.000000</td>\n",
       "      <td>232.000000</td>\n",
       "      <td>296.000000</td>\n",
       "      <td>37.000000</td>\n",
       "    </tr>\n",
       "  </tbody>\n",
       "</table>\n",
       "</div>"
      ],
      "text/plain": [
       "         critical        high      medium         low\n",
       "count  620.000000  620.000000  620.000000  620.000000\n",
       "mean     0.556452    2.645161    3.895161    0.517742\n",
       "std      3.174267   14.643305   20.450902    2.343935\n",
       "min      0.000000    0.000000    0.000000    0.000000\n",
       "25%      0.000000    0.000000    0.000000    0.000000\n",
       "50%      0.000000    0.000000    1.000000    0.000000\n",
       "75%      0.000000    1.000000    2.000000    0.000000\n",
       "max     56.000000  232.000000  296.000000   37.000000"
      ]
     },
     "execution_count": 84,
     "metadata": {},
     "output_type": "execute_result"
    }
   ],
   "source": [
    "# CVE stats by severity\n",
    "df[cve_cols].describe()"
   ]
  },
  {
   "cell_type": "code",
   "execution_count": 85,
   "id": "f7b206c9-6626-4c9a-ba66-00f83ee42a66",
   "metadata": {},
   "outputs": [
    {
     "data": {
      "text/plain": [
       "2202"
      ]
     },
     "execution_count": 85,
     "metadata": {},
     "output_type": "execute_result"
    }
   ],
   "source": [
    "df_detail['CVEs'].dropna().str.split(\"|\", expand=True).stack().nunique()"
   ]
  },
  {
   "cell_type": "code",
   "execution_count": 86,
   "id": "845e4ab1-952c-46c7-aa7d-5f4faf93b326",
   "metadata": {},
   "outputs": [
    {
     "data": {
      "text/plain": [
       "19225"
      ]
     },
     "execution_count": 86,
     "metadata": {},
     "output_type": "execute_result"
    }
   ],
   "source": [
    "len(df_detail['CVEs'].dropna().str.split(\"|\", expand=True).stack())"
   ]
  },
  {
   "cell_type": "code",
   "execution_count": 87,
   "id": "7af87cce-3bdf-471c-abce-2f1f45daff3b",
   "metadata": {},
   "outputs": [
    {
     "data": {
      "text/plain": [
       "{'CRITICAL': ('CVE-2024-45337', 81),\n",
       " 'HIGH': ('CVE-2024-45337', 105),\n",
       " 'MEDIUM': ('CVE-2025-22870', 332),\n",
       " 'LOW': ('CVE-2024-51744', 25)}"
      ]
     },
     "execution_count": 87,
     "metadata": {},
     "output_type": "execute_result"
    }
   ],
   "source": [
    "from collections import Counter\n",
    "# Split CVEs and Severities\n",
    "df_severity = df_detail[['CVEs', 'severity']].dropna()\n",
    "df_severity['CVEs_c'] = df_detail['CVEs'].str.split('|')\n",
    "df_severity['severity_c'] = df_detail['severity'].str.split('|')\n",
    "\n",
    "# Initialize a dictionary to count CVEs by severity\n",
    "severity_counts = {'CRITICAL': Counter(), 'HIGH': Counter(), 'MEDIUM': Counter(), 'LOW': Counter()}\n",
    "\n",
    "# Iterate through the rows of the DataFrame\n",
    "for _, row in df_severity.iterrows():\n",
    "    for cve, severity in zip(row['CVEs_c'], row['severity_c']):\n",
    "        if severity in severity_counts:\n",
    "            severity_counts[severity][cve] += 1\n",
    "\n",
    "# Determine the most occurring CVE for each severity\n",
    "most_common_cves = {severity: counts.most_common(1)[0] for severity, counts in severity_counts.items() if counts}\n",
    "\n",
    "# Output the result\n",
    "most_common_cves"
   ]
  },
  {
   "cell_type": "code",
   "execution_count": 88,
   "id": "6c95c61b-a9b6-4d45-9010-98a70cb2f921",
   "metadata": {
    "scrolled": true
   },
   "outputs": [
    {
     "data": {
      "text/html": [
       "<div>\n",
       "<style scoped>\n",
       "    .dataframe tbody tr th:only-of-type {\n",
       "        vertical-align: middle;\n",
       "    }\n",
       "\n",
       "    .dataframe tbody tr th {\n",
       "        vertical-align: top;\n",
       "    }\n",
       "\n",
       "    .dataframe thead th {\n",
       "        text-align: right;\n",
       "    }\n",
       "</style>\n",
       "<table border=\"1\" class=\"dataframe\">\n",
       "  <thead>\n",
       "    <tr style=\"text-align: right;\">\n",
       "      <th></th>\n",
       "      <th>cves</th>\n",
       "      <th>count</th>\n",
       "      <th>percentage</th>\n",
       "    </tr>\n",
       "  </thead>\n",
       "  <tbody>\n",
       "    <tr>\n",
       "      <th>0</th>\n",
       "      <td>CVE-2025-22872</td>\n",
       "      <td>824</td>\n",
       "      <td>4.286086</td>\n",
       "    </tr>\n",
       "    <tr>\n",
       "      <th>1</th>\n",
       "      <td>CVE-2025-22870</td>\n",
       "      <td>766</td>\n",
       "      <td>3.984395</td>\n",
       "    </tr>\n",
       "    <tr>\n",
       "      <th>2</th>\n",
       "      <td>CVE-2025-22869</td>\n",
       "      <td>510</td>\n",
       "      <td>2.652796</td>\n",
       "    </tr>\n",
       "    <tr>\n",
       "      <th>3</th>\n",
       "      <td>CVE-2024-45337</td>\n",
       "      <td>370</td>\n",
       "      <td>1.924577</td>\n",
       "    </tr>\n",
       "    <tr>\n",
       "      <th>4</th>\n",
       "      <td>CVE-2025-22871</td>\n",
       "      <td>363</td>\n",
       "      <td>1.888166</td>\n",
       "    </tr>\n",
       "    <tr>\n",
       "      <th>5</th>\n",
       "      <td>CVE-2023-45288</td>\n",
       "      <td>320</td>\n",
       "      <td>1.664499</td>\n",
       "    </tr>\n",
       "    <tr>\n",
       "      <th>6</th>\n",
       "      <td>CVE-2025-22866</td>\n",
       "      <td>283</td>\n",
       "      <td>1.472042</td>\n",
       "    </tr>\n",
       "    <tr>\n",
       "      <th>7</th>\n",
       "      <td>CVE-2024-45336</td>\n",
       "      <td>282</td>\n",
       "      <td>1.466840</td>\n",
       "    </tr>\n",
       "    <tr>\n",
       "      <th>8</th>\n",
       "      <td>CVE-2024-45341</td>\n",
       "      <td>282</td>\n",
       "      <td>1.466840</td>\n",
       "    </tr>\n",
       "    <tr>\n",
       "      <th>9</th>\n",
       "      <td>CVE-2020-8559</td>\n",
       "      <td>270</td>\n",
       "      <td>1.404421</td>\n",
       "    </tr>\n",
       "  </tbody>\n",
       "</table>\n",
       "</div>"
      ],
      "text/plain": [
       "             cves  count  percentage\n",
       "0  CVE-2025-22872    824    4.286086\n",
       "1  CVE-2025-22870    766    3.984395\n",
       "2  CVE-2025-22869    510    2.652796\n",
       "3  CVE-2024-45337    370    1.924577\n",
       "4  CVE-2025-22871    363    1.888166\n",
       "5  CVE-2023-45288    320    1.664499\n",
       "6  CVE-2025-22866    283    1.472042\n",
       "7  CVE-2024-45336    282    1.466840\n",
       "8  CVE-2024-45341    282    1.466840\n",
       "9   CVE-2020-8559    270    1.404421"
      ]
     },
     "execution_count": 88,
     "metadata": {},
     "output_type": "execute_result"
    }
   ],
   "source": [
    "# Most common CVEs\n",
    "cves = df_detail['CVEs'].dropna().str.split(\"|\")\n",
    "all_cves = [c for sublist in cves for c in sublist]\n",
    "df_cves_stats = pd.DataFrame(all_cves, columns=['cves'])\n",
    "cves_counts = df_cves_stats['cves'].value_counts().reset_index()\n",
    "cves_counts.columns = ['cves', 'count']\n",
    "cves_counts['percentage'] = (cves_counts['count'] / cves_counts['count'].sum()) * 100\n",
    "#cves_counts[cves_counts.cves.str.contains('2011')]\n",
    "cves_counts.head(10)"
   ]
  },
  {
   "cell_type": "code",
   "execution_count": 52,
   "id": "b4d34a73-e5a8-4bad-8f64-85d2212d1dd5",
   "metadata": {},
   "outputs": [
    {
     "data": {
      "text/plain": [
       "0    2005\n",
       "dtype: object"
      ]
     },
     "execution_count": 52,
     "metadata": {},
     "output_type": "execute_result"
    }
   ],
   "source": [
    "# Oldest CVE year\n",
    "cves_counts.cves.str.extract(r'(\\d{4})').dropna().min()"
   ]
  },
  {
   "cell_type": "code",
   "execution_count": 53,
   "id": "7f1417c9-5d4d-4170-b8e8-c33e4fd0db29",
   "metadata": {
    "scrolled": true
   },
   "outputs": [
    {
     "data": {
      "text/html": [
       "<div>\n",
       "<style scoped>\n",
       "    .dataframe tbody tr th:only-of-type {\n",
       "        vertical-align: middle;\n",
       "    }\n",
       "\n",
       "    .dataframe tbody tr th {\n",
       "        vertical-align: top;\n",
       "    }\n",
       "\n",
       "    .dataframe thead th {\n",
       "        text-align: right;\n",
       "    }\n",
       "</style>\n",
       "<table border=\"1\" class=\"dataframe\">\n",
       "  <thead>\n",
       "    <tr style=\"text-align: right;\">\n",
       "      <th></th>\n",
       "      <th>cwes</th>\n",
       "      <th>count</th>\n",
       "      <th>percentage</th>\n",
       "    </tr>\n",
       "  </thead>\n",
       "  <tbody>\n",
       "    <tr>\n",
       "      <th>0</th>\n",
       "      <td>CWE-20</td>\n",
       "      <td>1105</td>\n",
       "      <td>12.663305</td>\n",
       "    </tr>\n",
       "    <tr>\n",
       "      <th>1</th>\n",
       "      <td>CWE-400</td>\n",
       "      <td>1000</td>\n",
       "      <td>11.460005</td>\n",
       "    </tr>\n",
       "    <tr>\n",
       "      <th>2</th>\n",
       "      <td>CWE-770</td>\n",
       "      <td>746</td>\n",
       "      <td>8.549163</td>\n",
       "    </tr>\n",
       "    <tr>\n",
       "      <th>3</th>\n",
       "      <td>CWE-79</td>\n",
       "      <td>609</td>\n",
       "      <td>6.979143</td>\n",
       "    </tr>\n",
       "    <tr>\n",
       "      <th>4</th>\n",
       "      <td>CWE-115</td>\n",
       "      <td>387</td>\n",
       "      <td>4.435022</td>\n",
       "    </tr>\n",
       "    <tr>\n",
       "      <th>5</th>\n",
       "      <td>CWE-532</td>\n",
       "      <td>271</td>\n",
       "      <td>3.105661</td>\n",
       "    </tr>\n",
       "    <tr>\n",
       "      <th>6</th>\n",
       "      <td>CWE-601</td>\n",
       "      <td>207</td>\n",
       "      <td>2.372221</td>\n",
       "    </tr>\n",
       "    <tr>\n",
       "      <th>7</th>\n",
       "      <td>CWE-285</td>\n",
       "      <td>192</td>\n",
       "      <td>2.200321</td>\n",
       "    </tr>\n",
       "    <tr>\n",
       "      <th>8</th>\n",
       "      <td>CWE-835</td>\n",
       "      <td>160</td>\n",
       "      <td>1.833601</td>\n",
       "    </tr>\n",
       "    <tr>\n",
       "      <th>9</th>\n",
       "      <td>CWE-776</td>\n",
       "      <td>151</td>\n",
       "      <td>1.730461</td>\n",
       "    </tr>\n",
       "  </tbody>\n",
       "</table>\n",
       "</div>"
      ],
      "text/plain": [
       "      cwes  count  percentage\n",
       "0   CWE-20   1105   12.663305\n",
       "1  CWE-400   1000   11.460005\n",
       "2  CWE-770    746    8.549163\n",
       "3   CWE-79    609    6.979143\n",
       "4  CWE-115    387    4.435022\n",
       "5  CWE-532    271    3.105661\n",
       "6  CWE-601    207    2.372221\n",
       "7  CWE-285    192    2.200321\n",
       "8  CWE-835    160    1.833601\n",
       "9  CWE-776    151    1.730461"
      ]
     },
     "execution_count": 53,
     "metadata": {},
     "output_type": "execute_result"
    }
   ],
   "source": [
    "# Top most occurring CWE\n",
    "cwes = df_detail['CWEs'].dropna().str.split(\"|\")\n",
    "all_cwes = [cw for sublist in cwes for cw in sublist]\n",
    "df_cwes_stats = pd.DataFrame(all_cwes, columns=['cwes'])\n",
    "cwes_counts = df_cwes_stats['cwes'].value_counts().reset_index()\n",
    "cwes_counts.columns = ['cwes', 'count']\n",
    "cwes_counts['percentage'] = (cwes_counts['count'] / cwes_counts['count'].sum()) * 100\n",
    "cwes_counts.head(10)"
   ]
  },
  {
   "cell_type": "code",
   "execution_count": 54,
   "id": "13b73dc6-4ba7-4bc9-8c05-0240f576e809",
   "metadata": {},
   "outputs": [
    {
     "data": {
      "text/plain": [
       "count    2893.000000\n",
       "mean        3.016246\n",
       "std         4.858162\n",
       "min         1.000000\n",
       "25%         1.000000\n",
       "50%         2.000000\n",
       "75%         3.000000\n",
       "max        56.000000\n",
       "Name: CWEs, dtype: float64"
      ]
     },
     "execution_count": 54,
     "metadata": {},
     "output_type": "execute_result"
    }
   ],
   "source": [
    "# Stats for CWEs associated to each depedendency\n",
    "cwes.apply(lambda x: len(x)).describe()"
   ]
  },
  {
   "cell_type": "code",
   "execution_count": 55,
   "id": "86ee8697-f839-4266-a533-522b116fb7ab",
   "metadata": {},
   "outputs": [
    {
     "name": "stdout",
     "output_type": "stream",
     "text": [
      "8726\n",
      "223\n"
     ]
    }
   ],
   "source": [
    "flattened_cwes = [item for sublist in cwes for item in sublist]\n",
    "print(len(flattened_cwes))\n",
    "print(len(list(set(flattened_cwes))))"
   ]
  },
  {
   "cell_type": "code",
   "execution_count": 56,
   "id": "d4444369-5f41-499e-a118-e86836b09008",
   "metadata": {},
   "outputs": [
    {
     "data": {
      "image/png": "[encoded data removed]",
      "text/plain": [
       "<Figure size 1000x600 with 1 Axes>"
      ]
     },
     "metadata": {},
     "output_type": "display_data"
    }
   ],
   "source": [
    "threshold = 1  # percentage threshold to consider as 'other'\n",
    "cwes_counts.loc[cwes_counts['percentage'] < threshold, 'cwes'] = 'other'\n",
    "aggregated_counts = cwes_counts.groupby('cwes').agg({'count': 'sum'}).reset_index()\n",
    "aggregated_counts['percentage'] = (aggregated_counts['count'] / aggregated_counts['count'].sum()) * 100\n",
    "aggregated_counts = aggregated_counts.sort_values(by='count', ascending=False)\n",
    "plt.figure(figsize=(10, 6))\n",
    "sns.barplot(x='cwes', y='percentage', data=aggregated_counts)\n",
    "#plt.title('License Percentages (with \"other\" category)')\n",
    "plt.xticks(rotation=45)\n",
    "plt.ylabel('Percentage (%)')\n",
    "plt.xlabel('CWE category')\n",
    "plt.show()"
   ]
  },
  {
   "cell_type": "code",
   "execution_count": 57,
   "id": "4c3a999e-5518-4883-aa9b-484987665461",
   "metadata": {},
   "outputs": [
    {
     "data": {
      "text/plain": [
       "NONE        2401\n",
       "MEDIUM      2354\n",
       "HIGH        1488\n",
       "CRITICAL     324\n",
       "LOW          284\n",
       "Name: count, dtype: int64"
      ]
     },
     "execution_count": 57,
     "metadata": {},
     "output_type": "execute_result"
    }
   ],
   "source": [
    "# CVSS severity occurrencies\n",
    "df_detail.severity.dropna().str.split(\"|\", expand=True).stack().value_counts()"
   ]
  },
  {
   "cell_type": "code",
   "execution_count": 58,
   "id": "1d6d9c90-2b9e-404f-92da-a2058b5eaa33",
   "metadata": {},
   "outputs": [
    {
     "data": {
      "text/plain": [
       "array(['3.1', '4.0', '3.0'], dtype=object)"
      ]
     },
     "execution_count": 58,
     "metadata": {},
     "output_type": "execute_result"
    }
   ],
   "source": [
    "# CVSS criticality\n",
    "df_detail.criticality.dropna().str.split(\"|\", expand=True).stack().str.extract(r'CVSS:(\\d\\.\\d)')[0].unique()"
   ]
  },
  {
   "cell_type": "markdown",
   "id": "27d01a93-9592-4136-a2f5-e81827cf9349",
   "metadata": {},
   "source": [
    "# Relationship types"
   ]
  },
  {
   "cell_type": "code",
   "execution_count": 59,
   "id": "88348e15-1113-4d15-8db8-115f825da52e",
   "metadata": {},
   "outputs": [
    {
     "data": {
      "text/plain": [
       "count    67245.000000\n",
       "mean         5.748621\n",
       "std        117.385092\n",
       "min          1.000000\n",
       "25%          1.000000\n",
       "50%          2.000000\n",
       "75%          2.000000\n",
       "max      17824.000000\n",
       "Name: relationship_types, dtype: float64"
      ]
     },
     "execution_count": 59,
     "metadata": {},
     "output_type": "execute_result"
    }
   ],
   "source": [
    "# Stats about relationship types for each dependency\n",
    "df_detail.relationship_types.dropna().str.split(\"|\").apply(lambda x: len(x)).describe()"
   ]
  },
  {
   "cell_type": "code",
   "execution_count": 60,
   "id": "b0e7d877-61df-4103-bc79-41a7ad8dc4fc",
   "metadata": {},
   "outputs": [],
   "source": [
    "# Most common relationship types (in %)\n",
    "relationships = df_detail.relationship_types.dropna().str.split(\"|\", expand=True).stack().str.replace(\"dependsOn\", \"DEPENDS_ON\").value_counts(normalize=True)*100"
   ]
  },
  {
   "cell_type": "code",
   "execution_count": 61,
   "id": "dcc4c3fe-5531-4c28-be6a-31a70aaea46c",
   "metadata": {},
   "outputs": [
    {
     "data": {
      "text/plain": [
       "CONTAINS                  65.647005\n",
       "OTHER                     16.235261\n",
       "DEPENDENCY_OF             10.205243\n",
       "DEPENDS_ON                 7.816000\n",
       "FILE_MODIFIED              0.056911\n",
       "BUILD_DEPENDENCY_OF        0.015004\n",
       "DYNAMIC_LINK               0.009313\n",
       "VARIANT_OF                 0.005174\n",
       "GENERATED_FROM             0.003104\n",
       "STATIC_LINK                0.002846\n",
       "BUILD_TOOL_OF              0.001552\n",
       "OPTIONAL_DEPENDENCY_OF     0.001035\n",
       "RUNTIME_DEPENDENCY_OF      0.000776\n",
       "PREREQUISITE_FOR           0.000776\n",
       "Name: proportion, dtype: float64"
      ]
     },
     "execution_count": 61,
     "metadata": {},
     "output_type": "execute_result"
    }
   ],
   "source": [
    "relationships"
   ]
  },
  {
   "cell_type": "code",
   "execution_count": 70,
   "id": "01865ee5-9472-4f30-ab76-0303d22030d7",
   "metadata": {},
   "outputs": [
    {
     "data": {
      "image/png": "[encoded data removed]",
      "text/plain": [
       "<Figure size 1000x600 with 1 Axes>"
      ]
     },
     "metadata": {},
     "output_type": "display_data"
    }
   ],
   "source": [
    "plt.figure(figsize=(10, 6))\n",
    "sns.barplot(relationships)\n",
    "plt.xticks(rotation=90)\n",
    "plt.yscale('log')\n",
    "plt.xlabel(\"Relationship type\")\n",
    "plt.ylabel(\"Percentage (log)\")\n",
    "plt.tight_layout()"
   ]
  },
  {
   "cell_type": "code",
   "execution_count": null,
   "id": "97d3e00a",
   "metadata": {},
   "outputs": [],
   "source": []
  }
 ],
 "metadata": {
  "kernelspec": {
   "display_name": "venv",
   "language": "python",
   "name": "python3"
  },
  "language_info": {
   "codemirror_mode": {
    "name": "ipython",
    "version": 3
   },
   "file_extension": ".py",
   "mimetype": "text/x-python",
   "name": "python",
   "nbconvert_exporter": "python",
   "pygments_lexer": "ipython3",
   "version": "3.9.19"
  }
 },
 "nbformat": 4,
 "nbformat_minor": 5
}
