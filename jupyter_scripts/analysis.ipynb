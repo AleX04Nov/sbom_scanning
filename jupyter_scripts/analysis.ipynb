{
 "cells": [
  {
   "cell_type": "code",
   "execution_count": 1,
   "id": "565f55b8-b094-4c1f-b092-07e1960d7659",
   "metadata": {},
   "outputs": [],
   "source": [
    "import pandas as pd\n",
    "import seaborn as sns\n",
    "import matplotlib.pyplot as plt\n",
    "import scipy.stats as stats\n",
    "from collections import Counter\n",
    "pd.set_option('display.max_columns', None)\n",
    "\n",
    "import re"
   ]
  },
  {
   "cell_type": "markdown",
   "id": "5e876c50-170e-44de-af3c-0836d76798fc",
   "metadata": {},
   "source": [
    "# Dataset"
   ]
  },
  {
   "cell_type": "code",
   "execution_count": 2,
   "id": "7682b681-dd7a-4dd6-aa72-50071c5d3514",
   "metadata": {},
   "outputs": [],
   "source": [
    "df = pd.read_csv(\"dataset/sbom_list.csv\") # general\n",
    "df_detail = pd.read_csv(\"dataset/dependency_list.csv\")"
   ]
  },
  {
   "cell_type": "code",
   "execution_count": 3,
   "id": "29e24f70-21a0-4e08-99a9-a97e6a130dae",
   "metadata": {},
   "outputs": [],
   "source": [
    "df = df[df.dependencies !=0]"
   ]
  },
  {
   "cell_type": "code",
   "execution_count": 4,
   "id": "18713dc9-72d8-42bf-b92c-c6d91a279c47",
   "metadata": {},
   "outputs": [],
   "source": [
    "def fix_typo(text):\n",
    "    if text == \"cyclnedx_xml\":\n",
    "        return \"cyclonedx_xml\"\n",
    "    return text\n",
    "df[\"format\"] = df.format.apply(lambda x: fix_typo(x))"
   ]
  },
  {
   "cell_type": "code",
   "execution_count": 5,
   "id": "185c6d35-51d0-4749-a805-d880d56e2cf7",
   "metadata": {},
   "outputs": [],
   "source": [
    "df_detail = df.merge(df_detail, on=\"sbom_code\", how=\"left\")"
   ]
  },
  {
   "cell_type": "code",
   "execution_count": 6,
   "id": "3e940153-0468-495f-a4b6-28d15fc8aa4e",
   "metadata": {
    "scrolled": true
   },
   "outputs": [
    {
     "data": {
      "text/plain": [
       "285"
      ]
     },
     "execution_count": 6,
     "metadata": {},
     "output_type": "execute_result"
    }
   ],
   "source": [
    "# The number of unique repositories \n",
    "len(pd.unique(df['name']))"
   ]
  },
  {
   "cell_type": "code",
   "execution_count": 7,
   "id": "5d820344-8a03-4697-9774-341531260759",
   "metadata": {},
   "outputs": [
    {
     "data": {
      "text/plain": [
       "808"
      ]
     },
     "execution_count": 7,
     "metadata": {},
     "output_type": "execute_result"
    }
   ],
   "source": [
    "# Number of SBOM files\n",
    "len(df)"
   ]
  },
  {
   "cell_type": "markdown",
   "id": "0b1a83b0-6d07-4d5d-88cb-e0aeeeab1636",
   "metadata": {},
   "source": [
    "# Versions and formats"
   ]
  },
  {
   "cell_type": "code",
   "execution_count": 8,
   "id": "a0151086-a56b-44f2-9c6f-824ef4c3d449",
   "metadata": {},
   "outputs": [
    {
     "data": {
      "text/html": [
       "<div>\n",
       "<style scoped>\n",
       "    .dataframe tbody tr th:only-of-type {\n",
       "        vertical-align: middle;\n",
       "    }\n",
       "\n",
       "    .dataframe tbody tr th {\n",
       "        vertical-align: top;\n",
       "    }\n",
       "\n",
       "    .dataframe thead th {\n",
       "        text-align: right;\n",
       "    }\n",
       "</style>\n",
       "<table border=\"1\" class=\"dataframe\">\n",
       "  <thead>\n",
       "    <tr style=\"text-align: right;\">\n",
       "      <th></th>\n",
       "      <th>sbom_code</th>\n",
       "      <th>name</th>\n",
       "      <th>URL</th>\n",
       "      <th>path</th>\n",
       "      <th>dependencies</th>\n",
       "      <th>licenses</th>\n",
       "      <th>critical</th>\n",
       "      <th>high</th>\n",
       "      <th>medium</th>\n",
       "      <th>low</th>\n",
       "      <th>quality</th>\n",
       "      <th>version</th>\n",
       "      <th>successfully_processed</th>\n",
       "      <th>sbomqs_processed</th>\n",
       "      <th>osv_processed</th>\n",
       "      <th>cyclonedx_processed</th>\n",
       "      <th>sbom_utility_processed</th>\n",
       "      <th>pyspdxtools_processed</th>\n",
       "      <th>ntia_processed</th>\n",
       "      <th>cyclonedx_res</th>\n",
       "      <th>sbom_utility_res</th>\n",
       "      <th>pyspdxtools_res</th>\n",
       "      <th>ntia_res</th>\n",
       "      <th>language</th>\n",
       "    </tr>\n",
       "    <tr>\n",
       "      <th>format</th>\n",
       "      <th></th>\n",
       "      <th></th>\n",
       "      <th></th>\n",
       "      <th></th>\n",
       "      <th></th>\n",
       "      <th></th>\n",
       "      <th></th>\n",
       "      <th></th>\n",
       "      <th></th>\n",
       "      <th></th>\n",
       "      <th></th>\n",
       "      <th></th>\n",
       "      <th></th>\n",
       "      <th></th>\n",
       "      <th></th>\n",
       "      <th></th>\n",
       "      <th></th>\n",
       "      <th></th>\n",
       "      <th></th>\n",
       "      <th></th>\n",
       "      <th></th>\n",
       "      <th></th>\n",
       "      <th></th>\n",
       "      <th></th>\n",
       "    </tr>\n",
       "  </thead>\n",
       "  <tbody>\n",
       "    <tr>\n",
       "      <th>cyclonedx_json</th>\n",
       "      <td>342</td>\n",
       "      <td>342</td>\n",
       "      <td>342</td>\n",
       "      <td>342</td>\n",
       "      <td>342</td>\n",
       "      <td>342</td>\n",
       "      <td>342</td>\n",
       "      <td>342</td>\n",
       "      <td>342</td>\n",
       "      <td>342</td>\n",
       "      <td>342</td>\n",
       "      <td>342</td>\n",
       "      <td>342</td>\n",
       "      <td>342</td>\n",
       "      <td>342</td>\n",
       "      <td>342</td>\n",
       "      <td>342</td>\n",
       "      <td>342</td>\n",
       "      <td>342</td>\n",
       "      <td>342</td>\n",
       "      <td>342</td>\n",
       "      <td>342</td>\n",
       "      <td>342</td>\n",
       "      <td>342</td>\n",
       "    </tr>\n",
       "    <tr>\n",
       "      <th>cyclonedx_xml</th>\n",
       "      <td>43</td>\n",
       "      <td>43</td>\n",
       "      <td>43</td>\n",
       "      <td>43</td>\n",
       "      <td>43</td>\n",
       "      <td>43</td>\n",
       "      <td>43</td>\n",
       "      <td>43</td>\n",
       "      <td>43</td>\n",
       "      <td>43</td>\n",
       "      <td>43</td>\n",
       "      <td>43</td>\n",
       "      <td>43</td>\n",
       "      <td>43</td>\n",
       "      <td>43</td>\n",
       "      <td>43</td>\n",
       "      <td>43</td>\n",
       "      <td>43</td>\n",
       "      <td>43</td>\n",
       "      <td>43</td>\n",
       "      <td>43</td>\n",
       "      <td>43</td>\n",
       "      <td>43</td>\n",
       "      <td>43</td>\n",
       "    </tr>\n",
       "    <tr>\n",
       "      <th>spdx_json</th>\n",
       "      <td>330</td>\n",
       "      <td>330</td>\n",
       "      <td>330</td>\n",
       "      <td>330</td>\n",
       "      <td>330</td>\n",
       "      <td>330</td>\n",
       "      <td>330</td>\n",
       "      <td>330</td>\n",
       "      <td>330</td>\n",
       "      <td>330</td>\n",
       "      <td>330</td>\n",
       "      <td>330</td>\n",
       "      <td>330</td>\n",
       "      <td>330</td>\n",
       "      <td>330</td>\n",
       "      <td>330</td>\n",
       "      <td>330</td>\n",
       "      <td>330</td>\n",
       "      <td>330</td>\n",
       "      <td>330</td>\n",
       "      <td>330</td>\n",
       "      <td>0</td>\n",
       "      <td>330</td>\n",
       "      <td>330</td>\n",
       "    </tr>\n",
       "    <tr>\n",
       "      <th>spdx_spdx</th>\n",
       "      <td>30</td>\n",
       "      <td>30</td>\n",
       "      <td>30</td>\n",
       "      <td>30</td>\n",
       "      <td>30</td>\n",
       "      <td>30</td>\n",
       "      <td>30</td>\n",
       "      <td>30</td>\n",
       "      <td>30</td>\n",
       "      <td>30</td>\n",
       "      <td>30</td>\n",
       "      <td>30</td>\n",
       "      <td>30</td>\n",
       "      <td>30</td>\n",
       "      <td>30</td>\n",
       "      <td>30</td>\n",
       "      <td>30</td>\n",
       "      <td>30</td>\n",
       "      <td>30</td>\n",
       "      <td>30</td>\n",
       "      <td>30</td>\n",
       "      <td>0</td>\n",
       "      <td>30</td>\n",
       "      <td>30</td>\n",
       "    </tr>\n",
       "    <tr>\n",
       "      <th>spdx_yaml</th>\n",
       "      <td>63</td>\n",
       "      <td>63</td>\n",
       "      <td>63</td>\n",
       "      <td>63</td>\n",
       "      <td>63</td>\n",
       "      <td>63</td>\n",
       "      <td>63</td>\n",
       "      <td>63</td>\n",
       "      <td>63</td>\n",
       "      <td>63</td>\n",
       "      <td>63</td>\n",
       "      <td>63</td>\n",
       "      <td>63</td>\n",
       "      <td>63</td>\n",
       "      <td>63</td>\n",
       "      <td>63</td>\n",
       "      <td>63</td>\n",
       "      <td>63</td>\n",
       "      <td>63</td>\n",
       "      <td>63</td>\n",
       "      <td>63</td>\n",
       "      <td>0</td>\n",
       "      <td>63</td>\n",
       "      <td>63</td>\n",
       "    </tr>\n",
       "  </tbody>\n",
       "</table>\n",
       "</div>"
      ],
      "text/plain": [
       "                sbom_code  name  URL  path  dependencies  licenses  critical  \\\n",
       "format                                                                         \n",
       "cyclonedx_json        342   342  342   342           342       342       342   \n",
       "cyclonedx_xml          43    43   43    43            43        43        43   \n",
       "spdx_json             330   330  330   330           330       330       330   \n",
       "spdx_spdx              30    30   30    30            30        30        30   \n",
       "spdx_yaml              63    63   63    63            63        63        63   \n",
       "\n",
       "                high  medium  low  quality  version  successfully_processed  \\\n",
       "format                                                                        \n",
       "cyclonedx_json   342     342  342      342      342                     342   \n",
       "cyclonedx_xml     43      43   43       43       43                      43   \n",
       "spdx_json        330     330  330      330      330                     330   \n",
       "spdx_spdx         30      30   30       30       30                      30   \n",
       "spdx_yaml         63      63   63       63       63                      63   \n",
       "\n",
       "                sbomqs_processed  osv_processed  cyclonedx_processed  \\\n",
       "format                                                                 \n",
       "cyclonedx_json               342            342                  342   \n",
       "cyclonedx_xml                 43             43                   43   \n",
       "spdx_json                    330            330                  330   \n",
       "spdx_spdx                     30             30                   30   \n",
       "spdx_yaml                     63             63                   63   \n",
       "\n",
       "                sbom_utility_processed  pyspdxtools_processed  ntia_processed  \\\n",
       "format                                                                          \n",
       "cyclonedx_json                     342                    342             342   \n",
       "cyclonedx_xml                       43                     43              43   \n",
       "spdx_json                          330                    330             330   \n",
       "spdx_spdx                           30                     30              30   \n",
       "spdx_yaml                           63                     63              63   \n",
       "\n",
       "                cyclonedx_res  sbom_utility_res  pyspdxtools_res  ntia_res  \\\n",
       "format                                                                       \n",
       "cyclonedx_json            342               342              342       342   \n",
       "cyclonedx_xml              43                43               43        43   \n",
       "spdx_json                 330               330                0       330   \n",
       "spdx_spdx                  30                30                0        30   \n",
       "spdx_yaml                  63                63                0        63   \n",
       "\n",
       "                language  \n",
       "format                    \n",
       "cyclonedx_json       342  \n",
       "cyclonedx_xml         43  \n",
       "spdx_json            330  \n",
       "spdx_spdx             30  \n",
       "spdx_yaml             63  "
      ]
     },
     "execution_count": 8,
     "metadata": {},
     "output_type": "execute_result"
    }
   ],
   "source": [
    "# The number of SPDX and CycloneDX repos\n",
    "df.groupby('format').count()"
   ]
  },
  {
   "cell_type": "code",
   "execution_count": 9,
   "id": "1741f105-d81f-4955-b271-6316089df707",
   "metadata": {
    "scrolled": true
   },
   "outputs": [
    {
     "data": {
      "text/html": [
       "<div>\n",
       "<style scoped>\n",
       "    .dataframe tbody tr th:only-of-type {\n",
       "        vertical-align: middle;\n",
       "    }\n",
       "\n",
       "    .dataframe tbody tr th {\n",
       "        vertical-align: top;\n",
       "    }\n",
       "\n",
       "    .dataframe thead th {\n",
       "        text-align: right;\n",
       "    }\n",
       "</style>\n",
       "<table border=\"1\" class=\"dataframe\">\n",
       "  <thead>\n",
       "    <tr style=\"text-align: right;\">\n",
       "      <th></th>\n",
       "      <th>version</th>\n",
       "      <th>format</th>\n",
       "      <th>count</th>\n",
       "    </tr>\n",
       "  </thead>\n",
       "  <tbody>\n",
       "    <tr>\n",
       "      <th>16</th>\n",
       "      <td>SPDX-2.3</td>\n",
       "      <td>spdx_json</td>\n",
       "      <td>292</td>\n",
       "    </tr>\n",
       "    <tr>\n",
       "      <th>6</th>\n",
       "      <td>1.4</td>\n",
       "      <td>cyclonedx_json</td>\n",
       "      <td>149</td>\n",
       "    </tr>\n",
       "    <tr>\n",
       "      <th>4</th>\n",
       "      <td>1.3</td>\n",
       "      <td>cyclonedx_json</td>\n",
       "      <td>67</td>\n",
       "    </tr>\n",
       "    <tr>\n",
       "      <th>17</th>\n",
       "      <td>SPDX-2.3</td>\n",
       "      <td>spdx_yaml</td>\n",
       "      <td>61</td>\n",
       "    </tr>\n",
       "    <tr>\n",
       "      <th>10</th>\n",
       "      <td>1.6</td>\n",
       "      <td>cyclonedx_json</td>\n",
       "      <td>57</td>\n",
       "    </tr>\n",
       "    <tr>\n",
       "      <th>8</th>\n",
       "      <td>1.5</td>\n",
       "      <td>cyclonedx_json</td>\n",
       "      <td>51</td>\n",
       "    </tr>\n",
       "    <tr>\n",
       "      <th>13</th>\n",
       "      <td>SPDX-2.2</td>\n",
       "      <td>spdx_json</td>\n",
       "      <td>37</td>\n",
       "    </tr>\n",
       "    <tr>\n",
       "      <th>2</th>\n",
       "      <td>1.2</td>\n",
       "      <td>cyclonedx_json</td>\n",
       "      <td>18</td>\n",
       "    </tr>\n",
       "    <tr>\n",
       "      <th>14</th>\n",
       "      <td>SPDX-2.2</td>\n",
       "      <td>spdx_spdx</td>\n",
       "      <td>16</td>\n",
       "    </tr>\n",
       "    <tr>\n",
       "      <th>18</th>\n",
       "      <td>SPDX-2.3</td>\n",
       "      <td>spdx_spdx</td>\n",
       "      <td>14</td>\n",
       "    </tr>\n",
       "    <tr>\n",
       "      <th>5</th>\n",
       "      <td>1.3</td>\n",
       "      <td>cyclonedx_xml</td>\n",
       "      <td>13</td>\n",
       "    </tr>\n",
       "    <tr>\n",
       "      <th>7</th>\n",
       "      <td>1.4</td>\n",
       "      <td>cyclonedx_xml</td>\n",
       "      <td>12</td>\n",
       "    </tr>\n",
       "    <tr>\n",
       "      <th>9</th>\n",
       "      <td>1.5</td>\n",
       "      <td>cyclonedx_xml</td>\n",
       "      <td>6</td>\n",
       "    </tr>\n",
       "    <tr>\n",
       "      <th>1</th>\n",
       "      <td>1.1</td>\n",
       "      <td>cyclonedx_xml</td>\n",
       "      <td>6</td>\n",
       "    </tr>\n",
       "    <tr>\n",
       "      <th>11</th>\n",
       "      <td>1.6</td>\n",
       "      <td>cyclonedx_xml</td>\n",
       "      <td>3</td>\n",
       "    </tr>\n",
       "    <tr>\n",
       "      <th>15</th>\n",
       "      <td>SPDX-2.2</td>\n",
       "      <td>spdx_yaml</td>\n",
       "      <td>2</td>\n",
       "    </tr>\n",
       "    <tr>\n",
       "      <th>3</th>\n",
       "      <td>1.2</td>\n",
       "      <td>cyclonedx_xml</td>\n",
       "      <td>2</td>\n",
       "    </tr>\n",
       "    <tr>\n",
       "      <th>12</th>\n",
       "      <td>SPDX-2.1</td>\n",
       "      <td>spdx_json</td>\n",
       "      <td>1</td>\n",
       "    </tr>\n",
       "    <tr>\n",
       "      <th>0</th>\n",
       "      <td>1.0</td>\n",
       "      <td>cyclonedx_xml</td>\n",
       "      <td>1</td>\n",
       "    </tr>\n",
       "  </tbody>\n",
       "</table>\n",
       "</div>"
      ],
      "text/plain": [
       "     version          format  count\n",
       "16  SPDX-2.3       spdx_json    292\n",
       "6        1.4  cyclonedx_json    149\n",
       "4        1.3  cyclonedx_json     67\n",
       "17  SPDX-2.3       spdx_yaml     61\n",
       "10       1.6  cyclonedx_json     57\n",
       "8        1.5  cyclonedx_json     51\n",
       "13  SPDX-2.2       spdx_json     37\n",
       "2        1.2  cyclonedx_json     18\n",
       "14  SPDX-2.2       spdx_spdx     16\n",
       "18  SPDX-2.3       spdx_spdx     14\n",
       "5        1.3   cyclonedx_xml     13\n",
       "7        1.4   cyclonedx_xml     12\n",
       "9        1.5   cyclonedx_xml      6\n",
       "1        1.1   cyclonedx_xml      6\n",
       "11       1.6   cyclonedx_xml      3\n",
       "15  SPDX-2.2       spdx_yaml      2\n",
       "3        1.2   cyclonedx_xml      2\n",
       "12  SPDX-2.1       spdx_json      1\n",
       "0        1.0   cyclonedx_xml      1"
      ]
     },
     "execution_count": 9,
     "metadata": {},
     "output_type": "execute_result"
    }
   ],
   "source": [
    "# Most common versions for each format\n",
    "df.groupby('version').format.value_counts().reset_index().sort_values('count', ascending=False)"
   ]
  },
  {
   "cell_type": "markdown",
   "id": "4dddf95b-0395-429b-8b82-ca3b53e18e45",
   "metadata": {},
   "source": [
    "# Dependencies"
   ]
  },
  {
   "cell_type": "code",
   "execution_count": 10,
   "id": "104434d2-0387-4ffa-aa4a-f6cd3d11aeb3",
   "metadata": {},
   "outputs": [
    {
     "data": {
      "text/plain": [
       "count      808.000000\n",
       "mean       282.326733\n",
       "std       1330.986288\n",
       "min          1.000000\n",
       "25%          4.000000\n",
       "50%         55.500000\n",
       "75%        158.000000\n",
       "max      15813.000000\n",
       "Name: dependencies, dtype: float64"
      ]
     },
     "execution_count": 10,
     "metadata": {},
     "output_type": "execute_result"
    }
   ],
   "source": [
    "# Dependencies stats\n",
    "df[df.dependencies !=0].dependencies.describe()"
   ]
  },
  {
   "cell_type": "code",
   "execution_count": 11,
   "id": "9f255b27-59dd-4b72-be0a-475751c9165d",
   "metadata": {},
   "outputs": [
    {
     "data": {
      "text/html": [
       "<div>\n",
       "<style scoped>\n",
       "    .dataframe tbody tr th:only-of-type {\n",
       "        vertical-align: middle;\n",
       "    }\n",
       "\n",
       "    .dataframe tbody tr th {\n",
       "        vertical-align: top;\n",
       "    }\n",
       "\n",
       "    .dataframe thead th {\n",
       "        text-align: right;\n",
       "    }\n",
       "</style>\n",
       "<table border=\"1\" class=\"dataframe\">\n",
       "  <thead>\n",
       "    <tr style=\"text-align: right;\">\n",
       "      <th></th>\n",
       "      <th>count</th>\n",
       "      <th>mean</th>\n",
       "      <th>std</th>\n",
       "      <th>min</th>\n",
       "      <th>25%</th>\n",
       "      <th>50%</th>\n",
       "      <th>75%</th>\n",
       "      <th>max</th>\n",
       "    </tr>\n",
       "    <tr>\n",
       "      <th>format</th>\n",
       "      <th></th>\n",
       "      <th></th>\n",
       "      <th></th>\n",
       "      <th></th>\n",
       "      <th></th>\n",
       "      <th></th>\n",
       "      <th></th>\n",
       "      <th></th>\n",
       "    </tr>\n",
       "  </thead>\n",
       "  <tbody>\n",
       "    <tr>\n",
       "      <th>cyclonedx_json</th>\n",
       "      <td>342.0</td>\n",
       "      <td>279.336257</td>\n",
       "      <td>1283.098813</td>\n",
       "      <td>1.0</td>\n",
       "      <td>4.0</td>\n",
       "      <td>62.5</td>\n",
       "      <td>157.75</td>\n",
       "      <td>15813.0</td>\n",
       "    </tr>\n",
       "    <tr>\n",
       "      <th>spdx_json</th>\n",
       "      <td>330.0</td>\n",
       "      <td>202.924242</td>\n",
       "      <td>920.394591</td>\n",
       "      <td>1.0</td>\n",
       "      <td>9.0</td>\n",
       "      <td>62.0</td>\n",
       "      <td>212.00</td>\n",
       "      <td>15735.0</td>\n",
       "    </tr>\n",
       "    <tr>\n",
       "      <th>spdx_yaml</th>\n",
       "      <td>63.0</td>\n",
       "      <td>3.269841</td>\n",
       "      <td>2.534958</td>\n",
       "      <td>1.0</td>\n",
       "      <td>1.0</td>\n",
       "      <td>3.0</td>\n",
       "      <td>4.00</td>\n",
       "      <td>11.0</td>\n",
       "    </tr>\n",
       "    <tr>\n",
       "      <th>cyclonedx_xml</th>\n",
       "      <td>43.0</td>\n",
       "      <td>1093.837209</td>\n",
       "      <td>3371.711378</td>\n",
       "      <td>6.0</td>\n",
       "      <td>47.0</td>\n",
       "      <td>138.0</td>\n",
       "      <td>310.00</td>\n",
       "      <td>15813.0</td>\n",
       "    </tr>\n",
       "    <tr>\n",
       "      <th>spdx_spdx</th>\n",
       "      <td>30.0</td>\n",
       "      <td>612.700000</td>\n",
       "      <td>1591.535068</td>\n",
       "      <td>1.0</td>\n",
       "      <td>3.0</td>\n",
       "      <td>71.0</td>\n",
       "      <td>244.50</td>\n",
       "      <td>7053.0</td>\n",
       "    </tr>\n",
       "  </tbody>\n",
       "</table>\n",
       "</div>"
      ],
      "text/plain": [
       "                count         mean          std  min   25%    50%     75%  \\\n",
       "format                                                                      \n",
       "cyclonedx_json  342.0   279.336257  1283.098813  1.0   4.0   62.5  157.75   \n",
       "spdx_json       330.0   202.924242   920.394591  1.0   9.0   62.0  212.00   \n",
       "spdx_yaml        63.0     3.269841     2.534958  1.0   1.0    3.0    4.00   \n",
       "cyclonedx_xml    43.0  1093.837209  3371.711378  6.0  47.0  138.0  310.00   \n",
       "spdx_spdx        30.0   612.700000  1591.535068  1.0   3.0   71.0  244.50   \n",
       "\n",
       "                    max  \n",
       "format                   \n",
       "cyclonedx_json  15813.0  \n",
       "spdx_json       15735.0  \n",
       "spdx_yaml          11.0  \n",
       "cyclonedx_xml   15813.0  \n",
       "spdx_spdx        7053.0  "
      ]
     },
     "execution_count": 11,
     "metadata": {},
     "output_type": "execute_result"
    }
   ],
   "source": [
    "# Dependencies stats per format\n",
    "df.groupby('format').dependencies.describe().sort_values('count', ascending=False)"
   ]
  },
  {
   "cell_type": "code",
   "execution_count": 12,
   "id": "3d8f21af-be1e-419c-a28b-aa2c0151f23b",
   "metadata": {
    "scrolled": true
   },
   "outputs": [
    {
     "data": {
      "image/png": "[encoded data removed]",
      "text/plain": [
       "<Figure size 1000x600 with 1 Axes>"
      ]
     },
     "metadata": {},
     "output_type": "display_data"
    }
   ],
   "source": [
    "# Stats on deps per project\n",
    "plt.figure(figsize=(10, 6))\n",
    "sns.histplot(df.dependencies, kde=False)\n",
    "plt.xlabel('Number of dependecies')\n",
    "plt.ylabel('Count (log)')\n",
    "plt.yscale('log')\n",
    "plt.tight_layout()\n",
    "# Show the plot"
   ]
  },
  {
   "cell_type": "code",
   "execution_count": 13,
   "id": "bdaadf9c-6753-44d4-97e1-7b0512e74c48",
   "metadata": {},
   "outputs": [
    {
     "data": {
      "text/plain": [
       "36    K2s\n",
       "37    K2s\n",
       "39    K2s\n",
       "40    K2s\n",
       "Name: name, dtype: object"
      ]
     },
     "execution_count": 13,
     "metadata": {},
     "output_type": "execute_result"
    }
   ],
   "source": [
    "# Project with max number of deps\n",
    "maxdeps = df.dependencies.max()\n",
    "df[df.dependencies == maxdeps].name"
   ]
  },
  {
   "cell_type": "code",
   "execution_count": 14,
   "id": "99b5d1fd-33f5-43f1-aee3-c17b847cbbd3",
   "metadata": {},
   "outputs": [
    {
     "data": {
      "text/plain": [
       "0"
      ]
     },
     "execution_count": 14,
     "metadata": {},
     "output_type": "execute_result"
    }
   ],
   "source": [
    "# Number of projects with no dependencies (it may be good to check why, for example, SBOM declares only License)\n",
    "len(pd.unique(df[df.dependencies == 0].name))"
   ]
  },
  {
   "cell_type": "code",
   "execution_count": 15,
   "id": "851bba58-4b77-47d8-8c80-599871f1d9a9",
   "metadata": {},
   "outputs": [
    {
     "data": {
      "text/plain": [
       "Series([], dtype: int64)"
      ]
     },
     "execution_count": 15,
     "metadata": {},
     "output_type": "execute_result"
    }
   ],
   "source": [
    "# Empty dependencies for each format. Maybe the fact that there are no deps has something to do with the format rules\n",
    "df[df.dependencies == 0].groupby('format').size()"
   ]
  },
  {
   "cell_type": "code",
   "execution_count": 16,
   "id": "12e76618-af1b-41a2-b1b1-99d998777787",
   "metadata": {},
   "outputs": [
    {
     "data": {
      "text/plain": [
       "228120"
      ]
     },
     "execution_count": 16,
     "metadata": {},
     "output_type": "execute_result"
    }
   ],
   "source": [
    "# Total dependencies\n",
    "len(df_detail)"
   ]
  },
  {
   "cell_type": "code",
   "execution_count": 17,
   "id": "3d393542-6004-45de-80d3-cf88baa08c65",
   "metadata": {},
   "outputs": [
    {
     "data": {
      "text/plain": [
       "25749"
      ]
     },
     "execution_count": 17,
     "metadata": {},
     "output_type": "execute_result"
    }
   ],
   "source": [
    "# Unique dependencies\n",
    "df_detail.name_y.nunique()"
   ]
  },
  {
   "cell_type": "code",
   "execution_count": 18,
   "id": "07162933-031e-4f9a-b181-559c0b74a4e5",
   "metadata": {
    "scrolled": true
   },
   "outputs": [
    {
     "data": {
      "text/html": [
       "<div>\n",
       "<style scoped>\n",
       "    .dataframe tbody tr th:only-of-type {\n",
       "        vertical-align: middle;\n",
       "    }\n",
       "\n",
       "    .dataframe tbody tr th {\n",
       "        vertical-align: top;\n",
       "    }\n",
       "\n",
       "    .dataframe thead th {\n",
       "        text-align: right;\n",
       "    }\n",
       "</style>\n",
       "<table border=\"1\" class=\"dataframe\">\n",
       "  <thead>\n",
       "    <tr style=\"text-align: right;\">\n",
       "      <th></th>\n",
       "      <th>name_y</th>\n",
       "      <th>count</th>\n",
       "    </tr>\n",
       "  </thead>\n",
       "  <tbody>\n",
       "    <tr>\n",
       "      <th>9530</th>\n",
       "      <td>go.opentelemetry.io/collector/config</td>\n",
       "      <td>888</td>\n",
       "    </tr>\n",
       "    <tr>\n",
       "      <th>9651</th>\n",
       "      <td>golang.org/x/sys</td>\n",
       "      <td>867</td>\n",
       "    </tr>\n",
       "    <tr>\n",
       "      <th>23518</th>\n",
       "      <td>stdlib</td>\n",
       "      <td>836</td>\n",
       "    </tr>\n",
       "    <tr>\n",
       "      <th>23324</th>\n",
       "      <td>source</td>\n",
       "      <td>810</td>\n",
       "    </tr>\n",
       "    <tr>\n",
       "      <th>9657</th>\n",
       "      <td>golang.org/x/text</td>\n",
       "      <td>784</td>\n",
       "    </tr>\n",
       "    <tr>\n",
       "      <th>...</th>\n",
       "      <td>...</td>\n",
       "      <td>...</td>\n",
       "    </tr>\n",
       "    <tr>\n",
       "      <th>9735</th>\n",
       "      <td>google.golang.org/genproto</td>\n",
       "      <td>206</td>\n",
       "    </tr>\n",
       "    <tr>\n",
       "      <th>24161</th>\n",
       "      <td>tslib</td>\n",
       "      <td>201</td>\n",
       "    </tr>\n",
       "    <tr>\n",
       "      <th>7991</th>\n",
       "      <td>github.com/go-logfmt/logfmt</td>\n",
       "      <td>196</td>\n",
       "    </tr>\n",
       "    <tr>\n",
       "      <th>3946</th>\n",
       "      <td>call-bind</td>\n",
       "      <td>195</td>\n",
       "    </tr>\n",
       "    <tr>\n",
       "      <th>9575</th>\n",
       "      <td>go.opentelemetry.io/proto/otlp</td>\n",
       "      <td>194</td>\n",
       "    </tr>\n",
       "  </tbody>\n",
       "</table>\n",
       "<p>100 rows × 2 columns</p>\n",
       "</div>"
      ],
      "text/plain": [
       "                                     name_y  count\n",
       "9530   go.opentelemetry.io/collector/config    888\n",
       "9651                       golang.org/x/sys    867\n",
       "23518                                stdlib    836\n",
       "23324                                source    810\n",
       "9657                      golang.org/x/text    784\n",
       "...                                     ...    ...\n",
       "9735             google.golang.org/genproto    206\n",
       "24161                                 tslib    201\n",
       "7991            github.com/go-logfmt/logfmt    196\n",
       "3946                              call-bind    195\n",
       "9575         go.opentelemetry.io/proto/otlp    194\n",
       "\n",
       "[100 rows x 2 columns]"
      ]
     },
     "execution_count": 18,
     "metadata": {},
     "output_type": "execute_result"
    }
   ],
   "source": [
    "# Most used depedencies\n",
    "df_detail.groupby(\"name_y\").size().reset_index(name=\"count\").sort_values(by=[\"count\"], ascending=False).head(100)"
   ]
  },
  {
   "cell_type": "code",
   "execution_count": 19,
   "id": "8aea9add-b52f-4367-ba1f-6d3986546d37",
   "metadata": {
    "scrolled": true
   },
   "outputs": [
    {
     "name": "stdout",
     "output_type": "stream",
     "text": [
      "0.0\n",
      "0.0\n"
     ]
    }
   ],
   "source": [
    "# Percentage of empty deps\n",
    "cdx = df[df.format.str.contains(\"spdx\")]\n",
    "spx = df[df.format.str.contains(\"cyclonedx\")]\n",
    "\n",
    "print((len(cdx[cdx.dependencies == 0]) / len(cdx)) * 100)\n",
    "print((len(spx[spx.dependencies == 0]) / len(spx)) * 100)"
   ]
  },
  {
   "cell_type": "code",
   "execution_count": 20,
   "id": "73832f62-9e71-402c-8f7a-03601d4fd2d9",
   "metadata": {
    "scrolled": true
   },
   "outputs": [
    {
     "data": {
      "text/plain": [
       "ecosystem\n",
       "golang                 82780\n",
       "npm                    48845\n",
       "maven                  36446\n",
       "deb                    11354\n",
       "nix                     8481\n",
       "rpm                     5483\n",
       "pypi                    4964\n",
       "cargo                   4260\n",
       "nuget                   2150\n",
       "apk                     1225\n",
       "pub                     1023\n",
       "github                   722\n",
       "composer                 359\n",
       "gem                      253\n",
       "ACTIONS                   87\n",
       "cocoapods                 81\n",
       "generic                   37\n",
       "oci                       32\n",
       "githubactions             29\n",
       "hex                       29\n",
       "brew                      28\n",
       "alpine                    18\n",
       "swid                      15\n",
       "RUST                      12\n",
       "github.com                 2\n",
       "google-code-archive        2\n",
       "sourceware                 2\n",
       "Name: count, dtype: int64"
      ]
     },
     "execution_count": 20,
     "metadata": {},
     "output_type": "execute_result"
    }
   ],
   "source": [
    "# Number of dependencies ecosystems\n",
    "df_detail[\"ecosystem\"] = df_detail.location.str.extract(r':([^/]+)/')\n",
    "df_detail.ecosystem.dropna().value_counts()"
   ]
  },
  {
   "cell_type": "code",
   "execution_count": 21,
   "id": "e12ec32a-ebcb-487a-bea1-f929bbc18624",
   "metadata": {},
   "outputs": [
    {
     "data": {
      "text/plain": [
       "count    21434.000000\n",
       "mean         1.010404\n",
       "std          0.119619\n",
       "min          1.000000\n",
       "25%          1.000000\n",
       "50%          1.000000\n",
       "75%          1.000000\n",
       "max          5.000000\n",
       "Name: ecosystem, dtype: float64"
      ]
     },
     "execution_count": 21,
     "metadata": {},
     "output_type": "execute_result"
    }
   ],
   "source": [
    "# Average number of ecosystem per project\n",
    "df_detail.dropna(subset=[\"ecosystem\"]).groupby(\"name_y\")['ecosystem'].nunique().describe()"
   ]
  },
  {
   "cell_type": "markdown",
   "id": "44f5464f-2780-442a-ae99-866d264a0c66",
   "metadata": {},
   "source": [
    "# SBOM quality"
   ]
  },
  {
   "cell_type": "code",
   "execution_count": 26,
   "id": "3c883285-faf4-49fd-8870-27c28181882e",
   "metadata": {},
   "outputs": [
    {
     "data": {
      "text/plain": [
       "count    786.000000\n",
       "mean       6.798919\n",
       "std        1.037448\n",
       "min        2.830000\n",
       "25%        6.090000\n",
       "50%        6.935000\n",
       "75%        7.390000\n",
       "max        9.100000\n",
       "Name: quality, dtype: float64"
      ]
     },
     "execution_count": 26,
     "metadata": {},
     "output_type": "execute_result"
    }
   ],
   "source": [
    "# SBOM quality stats\n",
    "df_clean_quality = df[df.quality!=0]\n",
    "df_clean_quality.quality.describe()"
   ]
  },
  {
   "cell_type": "code",
   "execution_count": 27,
   "id": "199e4e40-adf7-4b62-911d-306510598405",
   "metadata": {
    "scrolled": true
   },
   "outputs": [
    {
     "data": {
      "text/html": [
       "<div>\n",
       "<style scoped>\n",
       "    .dataframe tbody tr th:only-of-type {\n",
       "        vertical-align: middle;\n",
       "    }\n",
       "\n",
       "    .dataframe tbody tr th {\n",
       "        vertical-align: top;\n",
       "    }\n",
       "\n",
       "    .dataframe thead th {\n",
       "        text-align: right;\n",
       "    }\n",
       "</style>\n",
       "<table border=\"1\" class=\"dataframe\">\n",
       "  <thead>\n",
       "    <tr style=\"text-align: right;\">\n",
       "      <th></th>\n",
       "      <th>count</th>\n",
       "      <th>mean</th>\n",
       "      <th>std</th>\n",
       "      <th>min</th>\n",
       "      <th>25%</th>\n",
       "      <th>50%</th>\n",
       "      <th>75%</th>\n",
       "      <th>max</th>\n",
       "    </tr>\n",
       "    <tr>\n",
       "      <th>format</th>\n",
       "      <th></th>\n",
       "      <th></th>\n",
       "      <th></th>\n",
       "      <th></th>\n",
       "      <th></th>\n",
       "      <th></th>\n",
       "      <th></th>\n",
       "      <th></th>\n",
       "    </tr>\n",
       "  </thead>\n",
       "  <tbody>\n",
       "    <tr>\n",
       "      <th>cyclonedx_json</th>\n",
       "      <td>341.0</td>\n",
       "      <td>6.819619</td>\n",
       "      <td>1.243340e+00</td>\n",
       "      <td>2.83</td>\n",
       "      <td>5.65</td>\n",
       "      <td>6.95</td>\n",
       "      <td>7.900</td>\n",
       "      <td>9.06</td>\n",
       "    </tr>\n",
       "    <tr>\n",
       "      <th>cyclonedx_xml</th>\n",
       "      <td>43.0</td>\n",
       "      <td>7.238605</td>\n",
       "      <td>1.302128e+00</td>\n",
       "      <td>4.78</td>\n",
       "      <td>6.03</td>\n",
       "      <td>7.96</td>\n",
       "      <td>8.235</td>\n",
       "      <td>8.68</td>\n",
       "    </tr>\n",
       "    <tr>\n",
       "      <th>spdx_json</th>\n",
       "      <td>318.0</td>\n",
       "      <td>6.841918</td>\n",
       "      <td>6.762868e-01</td>\n",
       "      <td>4.35</td>\n",
       "      <td>6.09</td>\n",
       "      <td>7.32</td>\n",
       "      <td>7.380</td>\n",
       "      <td>8.18</td>\n",
       "    </tr>\n",
       "    <tr>\n",
       "      <th>spdx_spdx</th>\n",
       "      <td>23.0</td>\n",
       "      <td>6.955652</td>\n",
       "      <td>1.689868e+00</td>\n",
       "      <td>4.74</td>\n",
       "      <td>5.22</td>\n",
       "      <td>6.91</td>\n",
       "      <td>8.815</td>\n",
       "      <td>9.10</td>\n",
       "    </tr>\n",
       "    <tr>\n",
       "      <th>spdx_yaml</th>\n",
       "      <td>61.0</td>\n",
       "      <td>6.090000</td>\n",
       "      <td>2.686648e-15</td>\n",
       "      <td>6.09</td>\n",
       "      <td>6.09</td>\n",
       "      <td>6.09</td>\n",
       "      <td>6.090</td>\n",
       "      <td>6.09</td>\n",
       "    </tr>\n",
       "  </tbody>\n",
       "</table>\n",
       "</div>"
      ],
      "text/plain": [
       "                count      mean           std   min   25%   50%    75%   max\n",
       "format                                                                      \n",
       "cyclonedx_json  341.0  6.819619  1.243340e+00  2.83  5.65  6.95  7.900  9.06\n",
       "cyclonedx_xml    43.0  7.238605  1.302128e+00  4.78  6.03  7.96  8.235  8.68\n",
       "spdx_json       318.0  6.841918  6.762868e-01  4.35  6.09  7.32  7.380  8.18\n",
       "spdx_spdx        23.0  6.955652  1.689868e+00  4.74  5.22  6.91  8.815  9.10\n",
       "spdx_yaml        61.0  6.090000  2.686648e-15  6.09  6.09  6.09  6.090  6.09"
      ]
     },
     "execution_count": 27,
     "metadata": {},
     "output_type": "execute_result"
    }
   ],
   "source": [
    "df_clean_quality.groupby('format').quality.describe()"
   ]
  },
  {
   "cell_type": "code",
   "execution_count": 28,
   "id": "1f8768f2-74e4-433e-830d-1eed57370048",
   "metadata": {},
   "outputs": [
    {
     "name": "stderr",
     "output_type": "stream",
     "text": [
      "/var/folders/kj/6309bkpj25369522dyfd5dxh0000gn/T/ipykernel_52199/213809533.py:1: SettingWithCopyWarning: \n",
      "A value is trying to be set on a copy of a slice from a DataFrame.\n",
      "Try using .loc[row_indexer,col_indexer] = value instead\n",
      "\n",
      "See the caveats in the documentation: https://pandas.pydata.org/pandas-docs/stable/user_guide/indexing.html#returning-a-view-versus-a-copy\n",
      "  df_clean_quality['extension'] = df_clean_quality.format.apply(lambda x: x.split(\"_\")[1])\n"
     ]
    }
   ],
   "source": [
    "df_clean_quality['extension'] = df_clean_quality.format.apply(lambda x: x.split(\"_\")[1])"
   ]
  },
  {
   "cell_type": "code",
   "execution_count": 29,
   "id": "c177f669-09e4-49f1-8df9-157b630a9d6b",
   "metadata": {},
   "outputs": [
    {
     "name": "stderr",
     "output_type": "stream",
     "text": [
      "/var/folders/kj/6309bkpj25369522dyfd5dxh0000gn/T/ipykernel_52199/4285247223.py:1: SettingWithCopyWarning: \n",
      "A value is trying to be set on a copy of a slice from a DataFrame.\n",
      "Try using .loc[row_indexer,col_indexer] = value instead\n",
      "\n",
      "See the caveats in the documentation: https://pandas.pydata.org/pandas-docs/stable/user_guide/indexing.html#returning-a-view-versus-a-copy\n",
      "  df_clean_quality['real_format'] = df_clean_quality.format.apply(lambda x: x.split(\"_\")[0])\n"
     ]
    }
   ],
   "source": [
    "df_clean_quality['real_format'] = df_clean_quality.format.apply(lambda x: x.split(\"_\")[0])"
   ]
  },
  {
   "cell_type": "code",
   "execution_count": 30,
   "id": "69720dd1-8a82-4637-99fe-313cad1b1845",
   "metadata": {},
   "outputs": [
    {
     "data": {
      "text/html": [
       "<div>\n",
       "<style scoped>\n",
       "    .dataframe tbody tr th:only-of-type {\n",
       "        vertical-align: middle;\n",
       "    }\n",
       "\n",
       "    .dataframe tbody tr th {\n",
       "        vertical-align: top;\n",
       "    }\n",
       "\n",
       "    .dataframe thead th {\n",
       "        text-align: right;\n",
       "    }\n",
       "</style>\n",
       "<table border=\"1\" class=\"dataframe\">\n",
       "  <thead>\n",
       "    <tr style=\"text-align: right;\">\n",
       "      <th></th>\n",
       "      <th>count</th>\n",
       "      <th>mean</th>\n",
       "      <th>std</th>\n",
       "      <th>min</th>\n",
       "      <th>25%</th>\n",
       "      <th>50%</th>\n",
       "      <th>75%</th>\n",
       "      <th>max</th>\n",
       "    </tr>\n",
       "    <tr>\n",
       "      <th>real_format</th>\n",
       "      <th></th>\n",
       "      <th></th>\n",
       "      <th></th>\n",
       "      <th></th>\n",
       "      <th></th>\n",
       "      <th></th>\n",
       "      <th></th>\n",
       "      <th></th>\n",
       "    </tr>\n",
       "  </thead>\n",
       "  <tbody>\n",
       "    <tr>\n",
       "      <th>cyclonedx</th>\n",
       "      <td>384.0</td>\n",
       "      <td>6.866536</td>\n",
       "      <td>1.255297</td>\n",
       "      <td>2.83</td>\n",
       "      <td>5.65</td>\n",
       "      <td>6.95</td>\n",
       "      <td>8.0425</td>\n",
       "      <td>9.06</td>\n",
       "    </tr>\n",
       "    <tr>\n",
       "      <th>spdx</th>\n",
       "      <td>402.0</td>\n",
       "      <td>6.734328</td>\n",
       "      <td>0.770305</td>\n",
       "      <td>4.35</td>\n",
       "      <td>6.09</td>\n",
       "      <td>6.47</td>\n",
       "      <td>7.3700</td>\n",
       "      <td>9.10</td>\n",
       "    </tr>\n",
       "  </tbody>\n",
       "</table>\n",
       "</div>"
      ],
      "text/plain": [
       "             count      mean       std   min   25%   50%     75%   max\n",
       "real_format                                                           \n",
       "cyclonedx    384.0  6.866536  1.255297  2.83  5.65  6.95  8.0425  9.06\n",
       "spdx         402.0  6.734328  0.770305  4.35  6.09  6.47  7.3700  9.10"
      ]
     },
     "execution_count": 30,
     "metadata": {},
     "output_type": "execute_result"
    }
   ],
   "source": [
    "df_clean_quality.groupby('real_format').quality.describe()"
   ]
  },
  {
   "cell_type": "code",
   "execution_count": 31,
   "id": "7d0c0736-da14-4bbe-9420-d913c7355a51",
   "metadata": {},
   "outputs": [
    {
     "data": {
      "text/html": [
       "<div>\n",
       "<style scoped>\n",
       "    .dataframe tbody tr th:only-of-type {\n",
       "        vertical-align: middle;\n",
       "    }\n",
       "\n",
       "    .dataframe tbody tr th {\n",
       "        vertical-align: top;\n",
       "    }\n",
       "\n",
       "    .dataframe thead th {\n",
       "        text-align: right;\n",
       "    }\n",
       "</style>\n",
       "<table border=\"1\" class=\"dataframe\">\n",
       "  <thead>\n",
       "    <tr style=\"text-align: right;\">\n",
       "      <th></th>\n",
       "      <th>count</th>\n",
       "      <th>mean</th>\n",
       "      <th>std</th>\n",
       "      <th>min</th>\n",
       "      <th>25%</th>\n",
       "      <th>50%</th>\n",
       "      <th>75%</th>\n",
       "      <th>max</th>\n",
       "    </tr>\n",
       "    <tr>\n",
       "      <th>extension</th>\n",
       "      <th></th>\n",
       "      <th></th>\n",
       "      <th></th>\n",
       "      <th></th>\n",
       "      <th></th>\n",
       "      <th></th>\n",
       "      <th></th>\n",
       "      <th></th>\n",
       "    </tr>\n",
       "  </thead>\n",
       "  <tbody>\n",
       "    <tr>\n",
       "      <th>json</th>\n",
       "      <td>659.0</td>\n",
       "      <td>6.830379</td>\n",
       "      <td>1.009582e+00</td>\n",
       "      <td>2.83</td>\n",
       "      <td>6.09</td>\n",
       "      <td>6.95</td>\n",
       "      <td>7.390</td>\n",
       "      <td>9.06</td>\n",
       "    </tr>\n",
       "    <tr>\n",
       "      <th>spdx</th>\n",
       "      <td>23.0</td>\n",
       "      <td>6.955652</td>\n",
       "      <td>1.689868e+00</td>\n",
       "      <td>4.74</td>\n",
       "      <td>5.22</td>\n",
       "      <td>6.91</td>\n",
       "      <td>8.815</td>\n",
       "      <td>9.10</td>\n",
       "    </tr>\n",
       "    <tr>\n",
       "      <th>xml</th>\n",
       "      <td>43.0</td>\n",
       "      <td>7.238605</td>\n",
       "      <td>1.302128e+00</td>\n",
       "      <td>4.78</td>\n",
       "      <td>6.03</td>\n",
       "      <td>7.96</td>\n",
       "      <td>8.235</td>\n",
       "      <td>8.68</td>\n",
       "    </tr>\n",
       "    <tr>\n",
       "      <th>yaml</th>\n",
       "      <td>61.0</td>\n",
       "      <td>6.090000</td>\n",
       "      <td>2.686648e-15</td>\n",
       "      <td>6.09</td>\n",
       "      <td>6.09</td>\n",
       "      <td>6.09</td>\n",
       "      <td>6.090</td>\n",
       "      <td>6.09</td>\n",
       "    </tr>\n",
       "  </tbody>\n",
       "</table>\n",
       "</div>"
      ],
      "text/plain": [
       "           count      mean           std   min   25%   50%    75%   max\n",
       "extension                                                              \n",
       "json       659.0  6.830379  1.009582e+00  2.83  6.09  6.95  7.390  9.06\n",
       "spdx        23.0  6.955652  1.689868e+00  4.74  5.22  6.91  8.815  9.10\n",
       "xml         43.0  7.238605  1.302128e+00  4.78  6.03  7.96  8.235  8.68\n",
       "yaml        61.0  6.090000  2.686648e-15  6.09  6.09  6.09  6.090  6.09"
      ]
     },
     "execution_count": 31,
     "metadata": {},
     "output_type": "execute_result"
    }
   ],
   "source": [
    "df_clean_quality.groupby('extension').quality.describe()"
   ]
  },
  {
   "cell_type": "code",
   "execution_count": 32,
   "id": "81924fd4-e4f5-4b03-ba95-8d3eb83f836b",
   "metadata": {},
   "outputs": [
    {
     "data": {
      "text/plain": [
       "264    cve-bin-tool\n",
       "Name: name, dtype: object"
      ]
     },
     "execution_count": 32,
     "metadata": {},
     "output_type": "execute_result"
    }
   ],
   "source": [
    "# Project(s) with best quality\n",
    "max_quality = df_clean_quality.quality.max()\n",
    "df_clean_quality[df_clean_quality.quality == max_quality].name"
   ]
  },
  {
   "cell_type": "code",
   "execution_count": 34,
   "id": "5e0bc9fc-8a65-4b75-859f-d084186ad1a3",
   "metadata": {},
   "outputs": [
    {
     "data": {
      "text/plain": [
       "458    hook_tesy\n",
       "Name: name, dtype: object"
      ]
     },
     "execution_count": 34,
     "metadata": {},
     "output_type": "execute_result"
    }
   ],
   "source": [
    "# Project(s) with worst quality\n",
    "min_quality = df_clean_quality.quality.min()\n",
    "df_clean_quality[df_clean_quality.quality == min_quality].name"
   ]
  },
  {
   "cell_type": "markdown",
   "id": "7e342fb7-7902-49ac-a306-20619a324fef",
   "metadata": {},
   "source": [
    "# Licenses"
   ]
  },
  {
   "cell_type": "code",
   "execution_count": 30,
   "id": "e81c6723-eac4-47be-a432-206939209ee4",
   "metadata": {},
   "outputs": [
    {
     "data": {
      "text/plain": [
       "count     808.000000\n",
       "mean       82.587871\n",
       "std       315.922154\n",
       "min         0.000000\n",
       "25%         0.000000\n",
       "50%         1.000000\n",
       "75%        34.000000\n",
       "max      3710.000000\n",
       "Name: licenses, dtype: float64"
      ]
     },
     "execution_count": 30,
     "metadata": {},
     "output_type": "execute_result"
    }
   ],
   "source": [
    "# Licenses stats\n",
    "df.licenses.describe()"
   ]
  },
  {
   "cell_type": "code",
   "execution_count": 31,
   "id": "9c623670-4467-4e5e-aee9-6c77e3f9ab3e",
   "metadata": {},
   "outputs": [
    {
     "ename": "AttributeError",
     "evalue": "'DataFrame' object has no attribute 'dependecies'",
     "output_type": "error",
     "traceback": [
      "\u001b[0;31m---------------------------------------------------------------------------\u001b[0m",
      "\u001b[0;31mAttributeError\u001b[0m                            Traceback (most recent call last)",
      "\u001b[0;32m/var/folders/kj/6309bkpj25369522dyfd5dxh0000gn/T/ipykernel_78603/3577675443.py\u001b[0m in \u001b[0;36m?\u001b[0;34m()\u001b[0m\n\u001b[0;32m----> 2\u001b[0;31m \u001b[0;31m# Licenses per format\u001b[0m\u001b[0;34m\u001b[0m\u001b[0;34m\u001b[0m\u001b[0m\n\u001b[0m\u001b[1;32m      3\u001b[0m \u001b[0mdf\u001b[0m\u001b[0;34m[\u001b[0m\u001b[0mdf\u001b[0m\u001b[0;34m.\u001b[0m\u001b[0mdependecies\u001b[0m\u001b[0;34m==\u001b[0m\u001b[0;36m0\u001b[0m\u001b[0;34m]\u001b[0m\u001b[0;34m.\u001b[0m\u001b[0mgroupby\u001b[0m\u001b[0;34m(\u001b[0m\u001b[0;34m'format'\u001b[0m\u001b[0;34m)\u001b[0m\u001b[0;34m.\u001b[0m\u001b[0mlicenses\u001b[0m\u001b[0;34m.\u001b[0m\u001b[0mdescribe\u001b[0m\u001b[0;34m(\u001b[0m\u001b[0;34m)\u001b[0m\u001b[0;34m\u001b[0m\u001b[0;34m\u001b[0m\u001b[0m\n",
      "\u001b[0;32m~/miniforge3/lib/python3.9/site-packages/pandas/core/generic.py\u001b[0m in \u001b[0;36m?\u001b[0;34m(self, name)\u001b[0m\n\u001b[1;32m   6295\u001b[0m             \u001b[0;32mand\u001b[0m \u001b[0mname\u001b[0m \u001b[0;32mnot\u001b[0m \u001b[0;32min\u001b[0m \u001b[0mself\u001b[0m\u001b[0;34m.\u001b[0m\u001b[0m_accessors\u001b[0m\u001b[0;34m\u001b[0m\u001b[0;34m\u001b[0m\u001b[0m\n\u001b[1;32m   6296\u001b[0m             \u001b[0;32mand\u001b[0m \u001b[0mself\u001b[0m\u001b[0;34m.\u001b[0m\u001b[0m_info_axis\u001b[0m\u001b[0;34m.\u001b[0m\u001b[0m_can_hold_identifiers_and_holds_name\u001b[0m\u001b[0;34m(\u001b[0m\u001b[0mname\u001b[0m\u001b[0;34m)\u001b[0m\u001b[0;34m\u001b[0m\u001b[0;34m\u001b[0m\u001b[0m\n\u001b[1;32m   6297\u001b[0m         ):\n\u001b[1;32m   6298\u001b[0m             \u001b[0;32mreturn\u001b[0m \u001b[0mself\u001b[0m\u001b[0;34m[\u001b[0m\u001b[0mname\u001b[0m\u001b[0;34m]\u001b[0m\u001b[0;34m\u001b[0m\u001b[0;34m\u001b[0m\u001b[0m\n\u001b[0;32m-> 6299\u001b[0;31m         \u001b[0;32mreturn\u001b[0m \u001b[0mobject\u001b[0m\u001b[0;34m.\u001b[0m\u001b[0m__getattribute__\u001b[0m\u001b[0;34m(\u001b[0m\u001b[0mself\u001b[0m\u001b[0;34m,\u001b[0m \u001b[0mname\u001b[0m\u001b[0;34m)\u001b[0m\u001b[0;34m\u001b[0m\u001b[0;34m\u001b[0m\u001b[0m\n\u001b[0m",
      "\u001b[0;31mAttributeError\u001b[0m: 'DataFrame' object has no attribute 'dependecies'"
     ]
    }
   ],
   "source": [
    "# Licenses per format\n",
    "df[df.dependecies==0].groupby('format').licenses.describe()"
   ]
  },
  {
   "cell_type": "code",
   "execution_count": null,
   "id": "a5a18526-a494-44bf-9047-2fba848ce16a",
   "metadata": {},
   "outputs": [],
   "source": [
    "# SBOM with max Licenses\n",
    "max = df.licenses.max()\n",
    "df[df.licenses==max].name"
   ]
  },
  {
   "cell_type": "code",
   "execution_count": null,
   "id": "04556412-128d-40bf-90be-df2acd0b43cf",
   "metadata": {},
   "outputs": [],
   "source": [
    "# SBOM without licenses\n",
    "len(df[df.licenses==0])"
   ]
  },
  {
   "cell_type": "code",
   "execution_count": null,
   "id": "c86682ed-3988-47be-a10d-0df5025ef9a2",
   "metadata": {},
   "outputs": [],
   "source": [
    "# Difference between formats for repo without licenses \n",
    "df[df.licenses==0].groupby('format').size()"
   ]
  },
  {
   "cell_type": "code",
   "execution_count": null,
   "id": "d794d3d1-bf14-49ee-be50-952e8470d4a6",
   "metadata": {},
   "outputs": [],
   "source": [
    "# Percentage of no licenses by format\n",
    "print(len(cdx[cdx.licenses==0])/len(cdx) * 100)\n",
    "print(len(spx[spx.licenses==0])/len(spx) * 100)"
   ]
  },
  {
   "cell_type": "code",
   "execution_count": null,
   "id": "5795f022-33de-4b02-a8ff-6e9d037be855",
   "metadata": {},
   "outputs": [],
   "source": [
    "clean_licenses = {\n",
    "    \"LicenseRef-http---www.apache.org-licenses-LICENSE-2.0.txt\": \"Apache-2.0\",\n",
    "    \"LicenseRef-http---www.apache.org-licenses-LICENSE-2.0.txt\": \"Apache-2.0\",\n",
    "    \"LicenseRef-https---www.apache.org-licenses-LICENSE-2.0.txt\": \"Apache-2.0\",\n",
    "    \"LicenseRef-https---www.apache.org-licenses-LICENSE-2.0.txt\": \"Apache-2.0\",\n",
    "    \"LicenseRef-https---www.apache.org-licenses-LICENSE-2.0\": \"Apache-2.0\",\n",
    "    \"https://www.apache.org/licenses/LICENSE-2.0.txt\" : \"Apache-2.0\",\n",
    "    '\"Apache-2.0\";link=\"https://www.apache.org/licenses/LICENSE-2.0.txt\"' : \"Apache-2.0\",\n",
    "    \"Apache License, 2.0\" : \"Apache-2.0\",\n",
    "    \"Apache License 2.0\" : \"Apache-2.0\",\n",
    "    \"Apache License 2\" : \"Apache-2.0\",\n",
    "    \"Apache License, Version 2.0\" : \"Apache-2.0\",\n",
    "    \"Apache License Version 2.0\" : \"Apache-2.0\",\n",
    "    \"Apache 2\" : \"Apache-2.0\",\n",
    "    \"Apache\" : \"Apache-2.0\",\n",
    "    \"Apache Software License\": \"Apache-2.0\",\n",
    "    \"Apache Software License, Version 2.0\": \"Apache-2.0\",\n",
    "    \"Apache-2,\" : \"Apache-2.0\",\n",
    "    'Apache-2.0\";link=\"https://www.apache.org/licenses/LICENSE-2.0.txt\",' : \"Apache-2.0\",\n",
    "    \"Apache Software License, Version 2.0\" : \"Apache-2.0\",\n",
    "    \"Apache 2.0\" : \"Apache-2.0\",\n",
    "    \"LicenseRef-254761b1c99a8b9e7be8f9685ae02656d4912af7bf14f6a9b0ac7102a7b893ea\" : \"\",\n",
    "    #\"LicenseRef-LGPLv2-\" : \"LGPL-2.0\",\n",
    "    \"GPL-2.0-only\" : \"GPL-2.0\",\n",
    "    \"GPL-2.0-or-later\": \"GPL-2.0\",\n",
    "    \"http://www.apache.org/licenses/LICENSE-2.0.txt\" : \"Apache-2.0\",\n",
    "    \"LicenseRef-https--www.apache.org-licenses-LICENSE-2.0\": \"Apache-2.0\",\n",
    "    \"...\" : '',\n",
    "    \"Standard 'no charge' license: https://gsap.com/standard-license. Club GSAP members get more: https://gsap.com/licensing/. Why GreenSock doesn't employ an MIT license: https://gsap.com/why-license/\" : \"GSAP\",\n",
    "    \"MIT (http://mootools.net/license.txt)\": \"MIT\",\n",
    "    \"http://www.eclipse.org/legal/epl-2.0, https://www.gnu.org/software/classpath/license.html\" : \"EPL-2.0\",\n",
    "    \"http://creativecommons.org/publicdomain/zero/1.0/, https://opensource.org/licenses/BSD-2-Clause\" : \"CC0\",\n",
    "    'Paul-Hsieh,': '',\n",
    "    'JPEG,': '',\n",
    "    'double-metaphone': '',\n",
    "    'and/or': '',\n",
    "    'license,': '',\n",
    "    'libpng,': '',\n",
    "    'copy,': '',\n",
    "    'config-h,': '',\n",
    "    'of': '',\n",
    "    'Autoconf,': '',\n",
    "    'person,': '',\n",
    "    '2-clause': '',\n",
    "    'exception,': '',\n",
    "    'Expat,': '',\n",
    "    'BSD-3,': '',\n",
    "    'granted': '',\n",
    "    'other': '',\n",
    "    'under': '',\n",
    "    '/': '',\n",
    "    'later': '',\n",
    "    'custom,': '',\n",
    "    '/usr/share/common-licenses/GPL-2.': '',\n",
    "    'BSD-2-clause-author,': '',\n",
    "    'configure': '',\n",
    "    'double-metaphone,': '',\n",
    "    'SEE LICENSE IN LICENSE.md': '',\n",
    "    'copying': '',\n",
    "    'TEXT-TABS,': '',\n",
    "    'use,': '',\n",
    "    'way': '',\n",
    "    'see': '',\n",
    "    'SunSoft': '',\n",
    "    'Unicode-DFS-2016': '',\n",
    "    'is': '',\n",
    "    'person': '',\n",
    "    'GPL-2.0-with-classpath-exception': '',\n",
    "    'hereby': '',\n",
    "    'This': '',\n",
    "    'obtaining,': '',\n",
    "    'font': '',\n",
    "    'any': '',\n",
    "    'licensed': '',\n",
    "    'for': '',\n",
    "    'The': '',\n",
    "    'and' : '',\n",
    "    'to': '',\n",
    "    'Lesser,':'',\n",
    "    'use':'',\n",
    "    'By': '',\n",
    "    'Podam runs under the MIT license': 'MIT',\n",
    "    'MIT License':'MIT',\n",
    "    'GNU LESSER GENERAL PUBLIC LICENSE 2.1' : 'GLGPL-2.1',\n",
    "    'AFL-2.1,' : 'AFL-2,1',\n",
    "    'Public-Domain,':'Public-Domain',\n",
    "    'http://www.eclipse.org/legal/epl-v10.html, http://www.gnu.org/licenses/old-licenses/lgpl-2.1.html' : \"EPL-1.0\",\n",
    "    'http://www.opensource.org/licenses/mit-license.php': \"MIT\",\n",
    "    'International Program License Agreement (IPLA)': 'IPLA',\n",
    "    'GNU LESSER GENERAL PUBLIC LICENSE, version 3 (LGPL-3.0)': 'GLGPL-3.0',\n",
    "    'GENERAL PUBLIC LICENSE, version 3 (GPL-3.0)': 'GPL-3.0'\n",
    "}\n",
    "\n",
    "def fix_license(text):\n",
    "    if (text != '' and text[-1] == \",\"):\n",
    "        text = text[:-1]\n",
    "    if text in clean_licenses:\n",
    "        return clean_licenses[text]\n",
    "    if \"LicenseRef-\" in text:\n",
    "        r = list(filter(None, \"LicenseRef-GPL-3---BISON-EXCEPTION-\".split('-')[1:]))\n",
    "        return \"-\".join(r)\n",
    "    return text"
   ]
  },
  {
   "cell_type": "code",
   "execution_count": null,
   "id": "872307d6-dd41-4245-a3a1-c23e7fcaa3cd",
   "metadata": {
    "scrolled": true
   },
   "outputs": [],
   "source": [
    "# Most common license\n",
    "licenses = df_detail.licenses_y.dropna().str.split(\"|\")\n",
    "all_licenses = [l for sublist in licenses for l in sublist]\n",
    "\n",
    "all_licenses = [fix_license(l) for l in all_licenses]\n",
    "\n",
    "list(filter(None,list(set(all_licenses))))"
   ]
  },
  {
   "cell_type": "code",
   "execution_count": null,
   "id": "0e54bba8-4ea4-4ddc-92c7-375da6b1a3a3",
   "metadata": {
    "scrolled": true
   },
   "outputs": [],
   "source": [
    "all_licenses = [l for l in all_licenses if l and l != 'NONE']\n",
    "df_license_stats = pd.DataFrame(all_licenses, columns=['license'])\n",
    "df_license_stats['license'].apply(lambda x: fix_license(x))\n",
    "license_counts = df_license_stats['license'].value_counts().reset_index()\n",
    "license_counts.columns = ['license', 'count']\n",
    "license_counts['percentage'] = (license_counts['count'] / license_counts['count'].sum()) * 100\n",
    "license_counts.license.unique()"
   ]
  },
  {
   "cell_type": "code",
   "execution_count": null,
   "id": "2e36b889-08d2-4f50-91ed-92c06d9e703b",
   "metadata": {
    "scrolled": true
   },
   "outputs": [],
   "source": [
    "# Total different unique licenses\n",
    "len(license_counts)"
   ]
  },
  {
   "cell_type": "code",
   "execution_count": null,
   "id": "a712aa19-2ece-4c3b-8c21-aa1637a9ecc0",
   "metadata": {},
   "outputs": [],
   "source": [
    "# Aggregate licenses with small percentages into 'other' category\n",
    "threshold = 1  # percentage threshold to consider as 'other'\n",
    "license_plotting = license_counts.copy()\n",
    "license_plotting.loc[license_plotting['percentage'] < threshold, 'license'] = 'other'\n",
    "\n",
    "# Recalculate the counts and percentages\n",
    "aggregated_counts = license_plotting.groupby('license').agg({'count': 'sum'}).reset_index()\n",
    "aggregated_counts['percentage'] = (aggregated_counts['count'] / aggregated_counts['count'].sum()) * 100\n",
    "aggregated_counts = aggregated_counts.sort_values(by='count', ascending=False)\n",
    "plt.figure(figsize=(10, 6))\n",
    "sns.barplot(x='license', y='percentage', data=aggregated_counts)\n",
    "#plt.title('License Percentages (with \"other\" category)')\n",
    "plt.xticks(rotation=45)\n",
    "plt.ylabel('Percentage (%)')\n",
    "plt.xlabel('License')\n",
    "plt.show()"
   ]
  },
  {
   "cell_type": "markdown",
   "id": "8f82e5df-7957-43cd-947b-a80b3a2267bc",
   "metadata": {},
   "source": [
    "# Vulnerabilities"
   ]
  },
  {
   "cell_type": "code",
   "execution_count": null,
   "id": "1f3a87b4-1be4-4817-b50e-c7aa9a7d18cf",
   "metadata": {},
   "outputs": [],
   "source": [
    "# Fixing the -1 in the CVE columns\n",
    "cve_cols = [\"critical\", \"high\", \"medium\", \"low\"]\n",
    "df[cve_cols] = df[cve_cols].replace(-1, 0)"
   ]
  },
  {
   "cell_type": "code",
   "execution_count": null,
   "id": "4e37f2c8-34c4-4346-b35c-648e5d1f2b78",
   "metadata": {},
   "outputs": [],
   "source": [
    "# Stats an all cve\n",
    "df[\"cves_count\"] = df[cve_cols].sum(axis=1)"
   ]
  },
  {
   "cell_type": "code",
   "execution_count": null,
   "id": "7d9df3b3-c67f-4a38-8dfe-4e60ff46f2c1",
   "metadata": {},
   "outputs": [],
   "source": [
    "df.cves_count.describe()"
   ]
  },
  {
   "cell_type": "code",
   "execution_count": null,
   "id": "5b8e8e69-558d-4ca2-a901-45719ac34e44",
   "metadata": {},
   "outputs": [],
   "source": [
    "df.groupby('format').cves_count.describe()"
   ]
  },
  {
   "cell_type": "code",
   "execution_count": null,
   "id": "5cbbd1ca-04ad-43b6-b3c1-2a0ca6c2686a",
   "metadata": {},
   "outputs": [],
   "source": [
    "# Project with max CVE\n",
    "max = df.cves_count.max()\n",
    "df[df.cves_count==max].name"
   ]
  },
  {
   "cell_type": "code",
   "execution_count": null,
   "id": "f21ad462-c3c9-49bc-b936-0ab7ffedf993",
   "metadata": {},
   "outputs": [],
   "source": [
    "# Percentage of repos without CVE\n",
    "len(df[df.cves_count==0])/len(df) * 100"
   ]
  },
  {
   "cell_type": "code",
   "execution_count": null,
   "id": "51b2dd62-fcb0-41ef-bae8-129f1fcc3ea0",
   "metadata": {
    "scrolled": true
   },
   "outputs": [],
   "source": [
    "# CVE stats by severity\n",
    "df[cve_cols].describe()"
   ]
  },
  {
   "cell_type": "code",
   "execution_count": null,
   "id": "f7b206c9-6626-4c9a-ba66-00f83ee42a66",
   "metadata": {},
   "outputs": [],
   "source": [
    "df_detail['CVEs'].dropna().str.split(\"|\", expand=True).stack().nunique()"
   ]
  },
  {
   "cell_type": "code",
   "execution_count": null,
   "id": "845e4ab1-952c-46c7-aa7d-5f4faf93b326",
   "metadata": {},
   "outputs": [],
   "source": [
    "len(df_detail['CVEs'].dropna().str.split(\"|\", expand=True).stack())"
   ]
  },
  {
   "cell_type": "code",
   "execution_count": null,
   "id": "7af87cce-3bdf-471c-abce-2f1f45daff3b",
   "metadata": {},
   "outputs": [],
   "source": [
    "# Split CVEs and Severities\n",
    "df_severity = df_detail[['CVEs', 'severity']].dropna()\n",
    "df_severity['CVEs_c'] = df_detail['CVEs'].str.split('|')\n",
    "df_severity['severity_c'] = df_detail['severity'].str.split('|')\n",
    "\n",
    "# Initialize a dictionary to count CVEs by severity\n",
    "severity_counts = {'CRITICAL': Counter(), 'HIGH': Counter(), 'MEDIUM': Counter(), 'LOW': Counter()}\n",
    "\n",
    "# Iterate through the rows of the DataFrame\n",
    "for _, row in df_severity.iterrows():\n",
    "    for cve, severity in zip(row['CVEs_c'], row['severity_c']):\n",
    "        if severity in severity_counts:\n",
    "            severity_counts[severity][cve] += 1\n",
    "\n",
    "# Determine the most occurring CVE for each severity\n",
    "most_common_cves = {severity: counts.most_common(1)[0] for severity, counts in severity_counts.items() if counts}\n",
    "\n",
    "# Output the result\n",
    "most_common_cves"
   ]
  },
  {
   "cell_type": "code",
   "execution_count": null,
   "id": "6c95c61b-a9b6-4d45-9010-98a70cb2f921",
   "metadata": {
    "scrolled": true
   },
   "outputs": [],
   "source": [
    "# Most common CVEs\n",
    "cves = df_detail['CVEs'].dropna().str.split(\"|\")\n",
    "all_cves = [c for sublist in cves for c in sublist]\n",
    "df_cves_stats = pd.DataFrame(all_cves, columns=['cves'])\n",
    "cves_counts = df_cves_stats['cves'].value_counts().reset_index()\n",
    "cves_counts.columns = ['cves', 'count']\n",
    "cves_counts['percentage'] = (cves_counts['count'] / cves_counts['count'].sum()) * 100\n",
    "#cves_counts[cves_counts.cves.str.contains('2011')]\n",
    "cves_counts.head(10)"
   ]
  },
  {
   "cell_type": "code",
   "execution_count": null,
   "id": "b4d34a73-e5a8-4bad-8f64-85d2212d1dd5",
   "metadata": {},
   "outputs": [],
   "source": [
    "# Oldest CVE year\n",
    "cves_counts.cves.str.extract(r'(\\d{4})').dropna().min()"
   ]
  },
  {
   "cell_type": "code",
   "execution_count": null,
   "id": "7f1417c9-5d4d-4170-b8e8-c33e4fd0db29",
   "metadata": {
    "scrolled": true
   },
   "outputs": [],
   "source": [
    "# Top most occurring CWE\n",
    "cwes = df_detail['CWEs'].dropna().str.split(\"|\")\n",
    "all_cwes = [cw for sublist in cwes for cw in sublist]\n",
    "df_cwes_stats = pd.DataFrame(all_cwes, columns=['cwes'])\n",
    "cwes_counts = df_cwes_stats['cwes'].value_counts().reset_index()\n",
    "cwes_counts.columns = ['cwes', 'count']\n",
    "cwes_counts['percentage'] = (cwes_counts['count'] / cwes_counts['count'].sum()) * 100\n",
    "cwes_counts.head(10)"
   ]
  },
  {
   "cell_type": "code",
   "execution_count": null,
   "id": "13b73dc6-4ba7-4bc9-8c05-0240f576e809",
   "metadata": {},
   "outputs": [],
   "source": [
    "# Stats for CWEs associated to each depedendency\n",
    "cwes.apply(lambda x: len(x)).describe()"
   ]
  },
  {
   "cell_type": "code",
   "execution_count": null,
   "id": "86ee8697-f839-4266-a533-522b116fb7ab",
   "metadata": {},
   "outputs": [],
   "source": [
    "flattened_cwes = [item for sublist in cwes for item in sublist]\n",
    "print(len(flattened_cwes))\n",
    "print(len(list(set(flattened_cwes))))"
   ]
  },
  {
   "cell_type": "code",
   "execution_count": null,
   "id": "d4444369-5f41-499e-a118-e86836b09008",
   "metadata": {},
   "outputs": [],
   "source": [
    "threshold = 1  # percentage threshold to consider as 'other'\n",
    "cwes_counts.loc[cwes_counts['percentage'] < threshold, 'cwes'] = 'other'\n",
    "aggregated_counts = cwes_counts.groupby('cwes').agg({'count': 'sum'}).reset_index()\n",
    "aggregated_counts['percentage'] = (aggregated_counts['count'] / aggregated_counts['count'].sum()) * 100\n",
    "aggregated_counts = aggregated_counts.sort_values(by='count', ascending=False)\n",
    "plt.figure(figsize=(10, 6))\n",
    "sns.barplot(x='cwes', y='percentage', data=aggregated_counts)\n",
    "#plt.title('License Percentages (with \"other\" category)')\n",
    "plt.xticks(rotation=45)\n",
    "plt.ylabel('Percentage (%)')\n",
    "plt.xlabel('CWE category')\n",
    "plt.show()"
   ]
  },
  {
   "cell_type": "code",
   "execution_count": null,
   "id": "4c3a999e-5518-4883-aa9b-484987665461",
   "metadata": {},
   "outputs": [],
   "source": [
    "# CVSS severity occurrencies\n",
    "df_detail.severity.dropna().str.split(\"|\", expand=True).stack().value_counts()"
   ]
  },
  {
   "cell_type": "code",
   "execution_count": null,
   "id": "1d6d9c90-2b9e-404f-92da-a2058b5eaa33",
   "metadata": {},
   "outputs": [],
   "source": [
    "# CVSS criticality\n",
    "df_detail.criticality.dropna().str.split(\"|\", expand=True).stack().str.extract(r'CVSS:(\\d\\.\\d)')[0].unique()"
   ]
  },
  {
   "cell_type": "markdown",
   "id": "27d01a93-9592-4136-a2f5-e81827cf9349",
   "metadata": {},
   "source": [
    "# Relationship types"
   ]
  },
  {
   "cell_type": "code",
   "execution_count": null,
   "id": "88348e15-1113-4d15-8db8-115f825da52e",
   "metadata": {},
   "outputs": [],
   "source": [
    "# Stats about relationship types for each dependency\n",
    "df_detail.relationship_types.dropna().str.split(\"|\").apply(lambda x: len(x)).describe()"
   ]
  },
  {
   "cell_type": "code",
   "execution_count": null,
   "id": "b0e7d877-61df-4103-bc79-41a7ad8dc4fc",
   "metadata": {},
   "outputs": [],
   "source": [
    "# Most common relationship types (in %)\n",
    "relationships = df_detail.relationship_types.dropna().str.split(\"|\", expand=True).stack().str.replace(\"dependsOn\", \"DEPENDS_ON\").value_counts(normalize=True)*100"
   ]
  },
  {
   "cell_type": "code",
   "execution_count": null,
   "id": "dcc4c3fe-5531-4c28-be6a-31a70aaea46c",
   "metadata": {},
   "outputs": [],
   "source": [
    "relationships"
   ]
  },
  {
   "cell_type": "code",
   "execution_count": null,
   "id": "01865ee5-9472-4f30-ab76-0303d22030d7",
   "metadata": {},
   "outputs": [],
   "source": [
    "plt.figure(figsize=(10, 6))\n",
    "sns.barplot(relationships)\n",
    "plt.xticks(rotation=45)\n",
    "plt.yscale('log')\n",
    "plt.xlabel(\"Relationship type\")\n",
    "plt.ylabel(\"Count (log)\")\n",
    "plt.tight_layout()"
   ]
  }
 ],
 "metadata": {
  "kernelspec": {
   "display_name": "Python 3 (ipykernel)",
   "language": "python",
   "name": "python3"
  },
  "language_info": {
   "codemirror_mode": {
    "name": "ipython",
    "version": 3
   },
   "file_extension": ".py",
   "mimetype": "text/x-python",
   "name": "python",
   "nbconvert_exporter": "python",
   "pygments_lexer": "ipython3",
   "version": "3.9.19"
  }
 },
 "nbformat": 4,
 "nbformat_minor": 5
}
