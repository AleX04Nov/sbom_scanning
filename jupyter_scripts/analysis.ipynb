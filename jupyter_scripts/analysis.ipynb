{
 "cells": [
  {
   "cell_type": "code",
   "execution_count": 44,
   "id": "565f55b8-b094-4c1f-b092-07e1960d7659",
   "metadata": {},
   "outputs": [],
   "source": [
    "import pandas as pd\n",
    "import seaborn as sns\n",
    "import matplotlib.pyplot as plt\n",
    "import scipy.stats as stats\n",
    "from collections import Counter"
   ]
  },
  {
   "cell_type": "markdown",
   "id": "5e876c50-170e-44de-af3c-0836d76798fc",
   "metadata": {},
   "source": [
    "# Dataset"
   ]
  },
  {
   "cell_type": "code",
   "execution_count": 2,
   "id": "7682b681-dd7a-4dd6-aa72-50071c5d3514",
   "metadata": {},
   "outputs": [],
   "source": [
    "df = pd.read_csv(\"dataset/sbom_list.csv\") # general\n",
    "df_detail = pd.read_csv(\"dataset/dependency_list.csv\")"
   ]
  },
  {
   "cell_type": "code",
   "execution_count": 3,
   "id": "3e940153-0468-495f-a4b6-28d15fc8aa4e",
   "metadata": {},
   "outputs": [
    {
     "data": {
      "text/plain": [
       "652"
      ]
     },
     "execution_count": 3,
     "metadata": {},
     "output_type": "execute_result"
    }
   ],
   "source": [
    "# The number of unique repositories \n",
    "len(pd.unique(df['name']))"
   ]
  },
  {
   "cell_type": "markdown",
   "id": "0b1a83b0-6d07-4d5d-88cb-e0aeeeab1636",
   "metadata": {},
   "source": [
    "# Versions and formats"
   ]
  },
  {
   "cell_type": "code",
   "execution_count": 4,
   "id": "a0151086-a56b-44f2-9c6f-824ef4c3d449",
   "metadata": {},
   "outputs": [
    {
     "data": {
      "text/html": [
       "<div>\n",
       "<style scoped>\n",
       "    .dataframe tbody tr th:only-of-type {\n",
       "        vertical-align: middle;\n",
       "    }\n",
       "\n",
       "    .dataframe tbody tr th {\n",
       "        vertical-align: top;\n",
       "    }\n",
       "\n",
       "    .dataframe thead th {\n",
       "        text-align: right;\n",
       "    }\n",
       "</style>\n",
       "<table border=\"1\" class=\"dataframe\">\n",
       "  <thead>\n",
       "    <tr style=\"text-align: right;\">\n",
       "      <th></th>\n",
       "      <th>sbom_code</th>\n",
       "      <th>name</th>\n",
       "      <th>URL</th>\n",
       "      <th>path</th>\n",
       "      <th>dependencies</th>\n",
       "      <th>licenses</th>\n",
       "      <th>critical</th>\n",
       "      <th>high</th>\n",
       "      <th>medium</th>\n",
       "      <th>low</th>\n",
       "      <th>quality</th>\n",
       "      <th>version</th>\n",
       "      <th>successfully_processed</th>\n",
       "    </tr>\n",
       "    <tr>\n",
       "      <th>format</th>\n",
       "      <th></th>\n",
       "      <th></th>\n",
       "      <th></th>\n",
       "      <th></th>\n",
       "      <th></th>\n",
       "      <th></th>\n",
       "      <th></th>\n",
       "      <th></th>\n",
       "      <th></th>\n",
       "      <th></th>\n",
       "      <th></th>\n",
       "      <th></th>\n",
       "      <th></th>\n",
       "    </tr>\n",
       "  </thead>\n",
       "  <tbody>\n",
       "    <tr>\n",
       "      <th>JSON</th>\n",
       "      <td>372</td>\n",
       "      <td>372</td>\n",
       "      <td>372</td>\n",
       "      <td>372</td>\n",
       "      <td>371</td>\n",
       "      <td>371</td>\n",
       "      <td>371</td>\n",
       "      <td>371</td>\n",
       "      <td>371</td>\n",
       "      <td>371</td>\n",
       "      <td>371</td>\n",
       "      <td>332</td>\n",
       "      <td>372</td>\n",
       "    </tr>\n",
       "    <tr>\n",
       "      <th>SPDX</th>\n",
       "      <td>570</td>\n",
       "      <td>570</td>\n",
       "      <td>570</td>\n",
       "      <td>570</td>\n",
       "      <td>50</td>\n",
       "      <td>50</td>\n",
       "      <td>50</td>\n",
       "      <td>50</td>\n",
       "      <td>50</td>\n",
       "      <td>50</td>\n",
       "      <td>50</td>\n",
       "      <td>570</td>\n",
       "      <td>570</td>\n",
       "    </tr>\n",
       "    <tr>\n",
       "      <th>XML</th>\n",
       "      <td>33</td>\n",
       "      <td>33</td>\n",
       "      <td>33</td>\n",
       "      <td>33</td>\n",
       "      <td>33</td>\n",
       "      <td>33</td>\n",
       "      <td>33</td>\n",
       "      <td>33</td>\n",
       "      <td>33</td>\n",
       "      <td>33</td>\n",
       "      <td>33</td>\n",
       "      <td>32</td>\n",
       "      <td>33</td>\n",
       "    </tr>\n",
       "    <tr>\n",
       "      <th>YAML</th>\n",
       "      <td>71</td>\n",
       "      <td>71</td>\n",
       "      <td>71</td>\n",
       "      <td>71</td>\n",
       "      <td>71</td>\n",
       "      <td>71</td>\n",
       "      <td>71</td>\n",
       "      <td>71</td>\n",
       "      <td>71</td>\n",
       "      <td>71</td>\n",
       "      <td>71</td>\n",
       "      <td>69</td>\n",
       "      <td>71</td>\n",
       "    </tr>\n",
       "  </tbody>\n",
       "</table>\n",
       "</div>"
      ],
      "text/plain": [
       "        sbom_code  name  URL  path  dependencies  licenses  critical  high  \\\n",
       "format                                                                       \n",
       "JSON          372   372  372   372           371       371       371   371   \n",
       "SPDX          570   570  570   570            50        50        50    50   \n",
       "XML            33    33   33    33            33        33        33    33   \n",
       "YAML           71    71   71    71            71        71        71    71   \n",
       "\n",
       "        medium  low  quality  version  successfully_processed  \n",
       "format                                                         \n",
       "JSON       371  371      371      332                     372  \n",
       "SPDX        50   50       50      570                     570  \n",
       "XML         33   33       33       32                      33  \n",
       "YAML        71   71       71       69                      71  "
      ]
     },
     "execution_count": 4,
     "metadata": {},
     "output_type": "execute_result"
    }
   ],
   "source": [
    "# The number of SPDX and CycloneDX repos\n",
    "df.groupby('format').count()"
   ]
  },
  {
   "cell_type": "code",
   "execution_count": 5,
   "id": "1741f105-d81f-4955-b271-6316089df707",
   "metadata": {
    "scrolled": true
   },
   "outputs": [
    {
     "data": {
      "text/plain": [
       "version  format\n",
       "0.0.1    JSON      2\n",
       "0.0.1-1  JSON      1\n",
       "0.1      XML       5\n",
       "0.1.31   JSON      1\n",
       "0.10.0   JSON      1\n",
       "                  ..\n",
       "v1.25.0  JSON      1\n",
       "v1.5.5   JSON      2\n",
       "v1.8.7   JSON      1\n",
       "v2.3.0   JSON      1\n",
       "v3.0.1   JSON      5\n",
       "Name: count, Length: 206, dtype: int64"
      ]
     },
     "execution_count": 5,
     "metadata": {},
     "output_type": "execute_result"
    }
   ],
   "source": [
    "# Most common versions for each format\n",
    "df.groupby('version').format.value_counts()"
   ]
  },
  {
   "cell_type": "markdown",
   "id": "4dddf95b-0395-429b-8b82-ca3b53e18e45",
   "metadata": {},
   "source": [
    "# Dependencies"
   ]
  },
  {
   "cell_type": "code",
   "execution_count": 6,
   "id": "104434d2-0387-4ffa-aa4a-f6cd3d11aeb3",
   "metadata": {},
   "outputs": [
    {
     "data": {
      "text/plain": [
       "count     525.000000\n",
       "mean       91.342857\n",
       "std       337.990069\n",
       "min         0.000000\n",
       "25%         1.000000\n",
       "50%         4.000000\n",
       "75%        37.000000\n",
       "max      3379.000000\n",
       "Name: dependencies, dtype: float64"
      ]
     },
     "execution_count": 6,
     "metadata": {},
     "output_type": "execute_result"
    }
   ],
   "source": [
    "# Dependencies stats\n",
    "df.dependencies.describe()"
   ]
  },
  {
   "cell_type": "code",
   "execution_count": 7,
   "id": "9f255b27-59dd-4b72-be0a-475751c9165d",
   "metadata": {},
   "outputs": [
    {
     "data": {
      "text/html": [
       "<div>\n",
       "<style scoped>\n",
       "    .dataframe tbody tr th:only-of-type {\n",
       "        vertical-align: middle;\n",
       "    }\n",
       "\n",
       "    .dataframe tbody tr th {\n",
       "        vertical-align: top;\n",
       "    }\n",
       "\n",
       "    .dataframe thead th {\n",
       "        text-align: right;\n",
       "    }\n",
       "</style>\n",
       "<table border=\"1\" class=\"dataframe\">\n",
       "  <thead>\n",
       "    <tr style=\"text-align: right;\">\n",
       "      <th></th>\n",
       "      <th>count</th>\n",
       "      <th>mean</th>\n",
       "      <th>std</th>\n",
       "      <th>min</th>\n",
       "      <th>25%</th>\n",
       "      <th>50%</th>\n",
       "      <th>75%</th>\n",
       "      <th>max</th>\n",
       "    </tr>\n",
       "    <tr>\n",
       "      <th>format</th>\n",
       "      <th></th>\n",
       "      <th></th>\n",
       "      <th></th>\n",
       "      <th></th>\n",
       "      <th></th>\n",
       "      <th></th>\n",
       "      <th></th>\n",
       "      <th></th>\n",
       "    </tr>\n",
       "  </thead>\n",
       "  <tbody>\n",
       "    <tr>\n",
       "      <th>JSON</th>\n",
       "      <td>371.0</td>\n",
       "      <td>102.811321</td>\n",
       "      <td>355.867850</td>\n",
       "      <td>0.0</td>\n",
       "      <td>1.5</td>\n",
       "      <td>5.0</td>\n",
       "      <td>43.5</td>\n",
       "      <td>3379.0</td>\n",
       "    </tr>\n",
       "    <tr>\n",
       "      <th>SPDX</th>\n",
       "      <td>50.0</td>\n",
       "      <td>18.220000</td>\n",
       "      <td>62.999284</td>\n",
       "      <td>1.0</td>\n",
       "      <td>1.0</td>\n",
       "      <td>1.0</td>\n",
       "      <td>2.0</td>\n",
       "      <td>428.0</td>\n",
       "    </tr>\n",
       "    <tr>\n",
       "      <th>XML</th>\n",
       "      <td>33.0</td>\n",
       "      <td>263.484848</td>\n",
       "      <td>585.194739</td>\n",
       "      <td>6.0</td>\n",
       "      <td>39.0</td>\n",
       "      <td>125.0</td>\n",
       "      <td>252.0</td>\n",
       "      <td>3379.0</td>\n",
       "    </tr>\n",
       "    <tr>\n",
       "      <th>YAML</th>\n",
       "      <td>71.0</td>\n",
       "      <td>2.901408</td>\n",
       "      <td>2.603047</td>\n",
       "      <td>0.0</td>\n",
       "      <td>1.0</td>\n",
       "      <td>2.0</td>\n",
       "      <td>4.0</td>\n",
       "      <td>11.0</td>\n",
       "    </tr>\n",
       "  </tbody>\n",
       "</table>\n",
       "</div>"
      ],
      "text/plain": [
       "        count        mean         std  min   25%    50%    75%     max\n",
       "format                                                                \n",
       "JSON    371.0  102.811321  355.867850  0.0   1.5    5.0   43.5  3379.0\n",
       "SPDX     50.0   18.220000   62.999284  1.0   1.0    1.0    2.0   428.0\n",
       "XML      33.0  263.484848  585.194739  6.0  39.0  125.0  252.0  3379.0\n",
       "YAML     71.0    2.901408    2.603047  0.0   1.0    2.0    4.0    11.0"
      ]
     },
     "execution_count": 7,
     "metadata": {},
     "output_type": "execute_result"
    }
   ],
   "source": [
    "# Dependencies stats per format\n",
    "df.groupby('format').dependencies.describe()"
   ]
  },
  {
   "cell_type": "code",
   "execution_count": 8,
   "id": "bdaadf9c-6753-44d4-97e1-7b0512e74c48",
   "metadata": {},
   "outputs": [
    {
     "data": {
      "text/plain": [
       "17    github.com/Siemens-Healthineers/K2s\n",
       "18    github.com/Siemens-Healthineers/K2s\n",
       "Name: name, dtype: object"
      ]
     },
     "execution_count": 8,
     "metadata": {},
     "output_type": "execute_result"
    }
   ],
   "source": [
    "# Project with max number of deps\n",
    "max = df.dependencies.max()\n",
    "df[df.dependencies == max].name"
   ]
  },
  {
   "cell_type": "code",
   "execution_count": 9,
   "id": "99b5d1fd-33f5-43f1-aee3-c17b847cbbd3",
   "metadata": {},
   "outputs": [
    {
     "data": {
      "text/plain": [
       "46"
      ]
     },
     "execution_count": 9,
     "metadata": {},
     "output_type": "execute_result"
    }
   ],
   "source": [
    "# Number of projects with no dependencies (it may be good to check why, for example, SBOM declares only License)\n",
    "len(df[df.dependencies == 0].name)"
   ]
  },
  {
   "cell_type": "code",
   "execution_count": 10,
   "id": "851bba58-4b77-47d8-8c80-599871f1d9a9",
   "metadata": {},
   "outputs": [
    {
     "data": {
      "text/plain": [
       "format\n",
       "JSON    38\n",
       "YAML     8\n",
       "dtype: int64"
      ]
     },
     "execution_count": 10,
     "metadata": {},
     "output_type": "execute_result"
    }
   ],
   "source": [
    "# Empty dependencies for each format. Maybe the fact that there are no deps has something to do with the format rules\n",
    "df[df.dependencies == 0].groupby('format').size()"
   ]
  },
  {
   "cell_type": "code",
   "execution_count": 11,
   "id": "12e76618-af1b-41a2-b1b1-99d998777787",
   "metadata": {},
   "outputs": [
    {
     "data": {
      "text/plain": [
       "47955"
      ]
     },
     "execution_count": 11,
     "metadata": {},
     "output_type": "execute_result"
    }
   ],
   "source": [
    "# Total dependencies\n",
    "len(df_detail)"
   ]
  },
  {
   "cell_type": "code",
   "execution_count": 12,
   "id": "3d393542-6004-45de-80d3-cf88baa08c65",
   "metadata": {},
   "outputs": [
    {
     "data": {
      "text/plain": [
       "11538"
      ]
     },
     "execution_count": 12,
     "metadata": {},
     "output_type": "execute_result"
    }
   ],
   "source": [
    "# Unique dependencies\n",
    "df_detail.name.nunique()"
   ]
  },
  {
   "cell_type": "code",
   "execution_count": 13,
   "id": "07162933-031e-4f9a-b181-559c0b74a4e5",
   "metadata": {
    "scrolled": true
   },
   "outputs": [
    {
     "data": {
      "text/html": [
       "<div>\n",
       "<style scoped>\n",
       "    .dataframe tbody tr th:only-of-type {\n",
       "        vertical-align: middle;\n",
       "    }\n",
       "\n",
       "    .dataframe tbody tr th {\n",
       "        vertical-align: top;\n",
       "    }\n",
       "\n",
       "    .dataframe thead th {\n",
       "        text-align: right;\n",
       "    }\n",
       "</style>\n",
       "<table border=\"1\" class=\"dataframe\">\n",
       "  <thead>\n",
       "    <tr style=\"text-align: right;\">\n",
       "      <th></th>\n",
       "      <th>name</th>\n",
       "      <th>count</th>\n",
       "    </tr>\n",
       "  </thead>\n",
       "  <tbody>\n",
       "    <tr>\n",
       "      <th>9992</th>\n",
       "      <td>source</td>\n",
       "      <td>484</td>\n",
       "    </tr>\n",
       "    <tr>\n",
       "      <th>10599</th>\n",
       "      <td>typer</td>\n",
       "      <td>125</td>\n",
       "    </tr>\n",
       "    <tr>\n",
       "      <th>5159</th>\n",
       "      <td>golang.org/x/sys</td>\n",
       "      <td>104</td>\n",
       "    </tr>\n",
       "    <tr>\n",
       "      <th>5496</th>\n",
       "      <td>https</td>\n",
       "      <td>83</td>\n",
       "    </tr>\n",
       "    <tr>\n",
       "      <th>3234</th>\n",
       "      <td>debug</td>\n",
       "      <td>75</td>\n",
       "    </tr>\n",
       "    <tr>\n",
       "      <th>...</th>\n",
       "      <td>...</td>\n",
       "      <td>...</td>\n",
       "    </tr>\n",
       "    <tr>\n",
       "      <th>1943</th>\n",
       "      <td>attrs</td>\n",
       "      <td>31</td>\n",
       "    </tr>\n",
       "    <tr>\n",
       "      <th>6049</th>\n",
       "      <td>isarray</td>\n",
       "      <td>31</td>\n",
       "    </tr>\n",
       "    <tr>\n",
       "      <th>3939</th>\n",
       "      <td>form-data</td>\n",
       "      <td>31</td>\n",
       "    </tr>\n",
       "    <tr>\n",
       "      <th>1736</th>\n",
       "      <td>ansi-escapes</td>\n",
       "      <td>30</td>\n",
       "    </tr>\n",
       "    <tr>\n",
       "      <th>5558</th>\n",
       "      <td>iconv-lite</td>\n",
       "      <td>30</td>\n",
       "    </tr>\n",
       "  </tbody>\n",
       "</table>\n",
       "<p>100 rows × 2 columns</p>\n",
       "</div>"
      ],
      "text/plain": [
       "                   name  count\n",
       "9992             source    484\n",
       "10599             typer    125\n",
       "5159   golang.org/x/sys    104\n",
       "5496              https     83\n",
       "3234              debug     75\n",
       "...                 ...    ...\n",
       "1943              attrs     31\n",
       "6049            isarray     31\n",
       "3939          form-data     31\n",
       "1736       ansi-escapes     30\n",
       "5558         iconv-lite     30\n",
       "\n",
       "[100 rows x 2 columns]"
      ]
     },
     "execution_count": 13,
     "metadata": {},
     "output_type": "execute_result"
    }
   ],
   "source": [
    "df_detail.groupby(\"name\").size().reset_index(name=\"count\").sort_values(by=[\"count\"], ascending=False).head(100)"
   ]
  },
  {
   "cell_type": "code",
   "execution_count": 14,
   "id": "8aea9add-b52f-4367-ba1f-6d3986546d37",
   "metadata": {
    "scrolled": true
   },
   "outputs": [
    {
     "name": "stdout",
     "output_type": "stream",
     "text": [
      "9.663865546218489\n",
      "0.0\n"
     ]
    }
   ],
   "source": [
    "# Percentage of empty deps\n",
    "cdx = df[df.format!=\"SPDX\"]\n",
    "spx = df[df.format==\"SPDX\"]\n",
    "\n",
    "print((len(cdx[cdx.dependencies == 0]) / len(cdx)) * 100)\n",
    "print((len(spx[spx.dependencies == 0]) / len(spx)) * 100)"
   ]
  },
  {
   "cell_type": "code",
   "execution_count": 15,
   "id": "73832f62-9e71-402c-8f7a-03601d4fd2d9",
   "metadata": {
    "scrolled": true
   },
   "outputs": [
    {
     "data": {
      "text/plain": [
       "ecosystem\n",
       "npm                    21680\n",
       "maven                   4447\n",
       "golang                  4390\n",
       "nix                     3570\n",
       "cargo                   2402\n",
       "pypi                    2242\n",
       "deb                     1816\n",
       "nuget                   1659\n",
       "rpm                     1556\n",
       "swid                    1385\n",
       "composer                 367\n",
       "gem                      266\n",
       "github                   151\n",
       "container                 90\n",
       "ACTIONS                   81\n",
       "https:                    81\n",
       "apk                       59\n",
       "hex                       29\n",
       "NPM                       24\n",
       "githubactions             21\n",
       "generic                   20\n",
       "alpine                    18\n",
       "RUST                      12\n",
       "oci                        4\n",
       "google-code-archive        2\n",
       "sourceware                 2\n",
       "cocoapods                  1\n",
       "Name: count, dtype: int64"
      ]
     },
     "execution_count": 15,
     "metadata": {},
     "output_type": "execute_result"
    }
   ],
   "source": [
    "# Number of dependencies ecosystems\n",
    "df_detail[\"ecosystem\"] = df_detail.location.str.extract(r':([^/]+)/')\n",
    "df_detail.ecosystem.dropna().value_counts()"
   ]
  },
  {
   "cell_type": "code",
   "execution_count": 16,
   "id": "e12ec32a-ebcb-487a-bea1-f929bbc18624",
   "metadata": {},
   "outputs": [
    {
     "data": {
      "text/plain": [
       "count    10935.000000\n",
       "mean         1.029447\n",
       "std          0.215233\n",
       "min          1.000000\n",
       "25%          1.000000\n",
       "50%          1.000000\n",
       "75%          1.000000\n",
       "max          6.000000\n",
       "Name: ecosystem, dtype: float64"
      ]
     },
     "execution_count": 16,
     "metadata": {},
     "output_type": "execute_result"
    }
   ],
   "source": [
    "# Average number of ecosystem per project\n",
    "df_detail.dropna(subset=[\"ecosystem\"]).groupby(\"name\")['ecosystem'].nunique().describe()"
   ]
  },
  {
   "cell_type": "markdown",
   "id": "44f5464f-2780-442a-ae99-866d264a0c66",
   "metadata": {},
   "source": [
    "# SBOM quality"
   ]
  },
  {
   "cell_type": "code",
   "execution_count": 17,
   "id": "3c883285-faf4-49fd-8870-27c28181882e",
   "metadata": {},
   "outputs": [
    {
     "data": {
      "text/plain": [
       "count    525.000000\n",
       "mean       5.808800\n",
       "std        2.375265\n",
       "min        0.000000\n",
       "25%        5.650000\n",
       "50%        6.940000\n",
       "75%        6.960000\n",
       "max        9.240000\n",
       "Name: quality, dtype: float64"
      ]
     },
     "execution_count": 17,
     "metadata": {},
     "output_type": "execute_result"
    }
   ],
   "source": [
    "# SBOM quality stats\n",
    "df.quality.describe()"
   ]
  },
  {
   "cell_type": "code",
   "execution_count": 18,
   "id": "199e4e40-adf7-4b62-911d-306510598405",
   "metadata": {},
   "outputs": [
    {
     "data": {
      "text/html": [
       "<div>\n",
       "<style scoped>\n",
       "    .dataframe tbody tr th:only-of-type {\n",
       "        vertical-align: middle;\n",
       "    }\n",
       "\n",
       "    .dataframe tbody tr th {\n",
       "        vertical-align: top;\n",
       "    }\n",
       "\n",
       "    .dataframe thead th {\n",
       "        text-align: right;\n",
       "    }\n",
       "</style>\n",
       "<table border=\"1\" class=\"dataframe\">\n",
       "  <thead>\n",
       "    <tr style=\"text-align: right;\">\n",
       "      <th></th>\n",
       "      <th>count</th>\n",
       "      <th>mean</th>\n",
       "      <th>std</th>\n",
       "      <th>min</th>\n",
       "      <th>25%</th>\n",
       "      <th>50%</th>\n",
       "      <th>75%</th>\n",
       "      <th>max</th>\n",
       "    </tr>\n",
       "    <tr>\n",
       "      <th>format</th>\n",
       "      <th></th>\n",
       "      <th></th>\n",
       "      <th></th>\n",
       "      <th></th>\n",
       "      <th></th>\n",
       "      <th></th>\n",
       "      <th></th>\n",
       "      <th></th>\n",
       "    </tr>\n",
       "  </thead>\n",
       "  <tbody>\n",
       "    <tr>\n",
       "      <th>JSON</th>\n",
       "      <td>371.0</td>\n",
       "      <td>6.094825</td>\n",
       "      <td>1.915673</td>\n",
       "      <td>0.00</td>\n",
       "      <td>5.65</td>\n",
       "      <td>6.88</td>\n",
       "      <td>7.2000</td>\n",
       "      <td>8.89</td>\n",
       "    </tr>\n",
       "    <tr>\n",
       "      <th>SPDX</th>\n",
       "      <td>50.0</td>\n",
       "      <td>2.167000</td>\n",
       "      <td>3.606934</td>\n",
       "      <td>0.00</td>\n",
       "      <td>0.00</td>\n",
       "      <td>0.00</td>\n",
       "      <td>5.5425</td>\n",
       "      <td>9.24</td>\n",
       "    </tr>\n",
       "    <tr>\n",
       "      <th>XML</th>\n",
       "      <td>33.0</td>\n",
       "      <td>6.846364</td>\n",
       "      <td>1.226244</td>\n",
       "      <td>4.78</td>\n",
       "      <td>5.60</td>\n",
       "      <td>7.56</td>\n",
       "      <td>7.8000</td>\n",
       "      <td>8.27</td>\n",
       "    </tr>\n",
       "    <tr>\n",
       "      <th>YAML</th>\n",
       "      <td>71.0</td>\n",
       "      <td>6.396620</td>\n",
       "      <td>1.508873</td>\n",
       "      <td>0.00</td>\n",
       "      <td>6.96</td>\n",
       "      <td>6.96</td>\n",
       "      <td>6.9600</td>\n",
       "      <td>6.96</td>\n",
       "    </tr>\n",
       "  </tbody>\n",
       "</table>\n",
       "</div>"
      ],
      "text/plain": [
       "        count      mean       std   min   25%   50%     75%   max\n",
       "format                                                           \n",
       "JSON    371.0  6.094825  1.915673  0.00  5.65  6.88  7.2000  8.89\n",
       "SPDX     50.0  2.167000  3.606934  0.00  0.00  0.00  5.5425  9.24\n",
       "XML      33.0  6.846364  1.226244  4.78  5.60  7.56  7.8000  8.27\n",
       "YAML     71.0  6.396620  1.508873  0.00  6.96  6.96  6.9600  6.96"
      ]
     },
     "execution_count": 18,
     "metadata": {},
     "output_type": "execute_result"
    }
   ],
   "source": [
    "df.groupby('format').quality.describe()"
   ]
  },
  {
   "cell_type": "code",
   "execution_count": 21,
   "id": "81924fd4-e4f5-4b03-ba95-8d3eb83f836b",
   "metadata": {},
   "outputs": [
    {
     "data": {
      "text/plain": [
       "679    github.com/intel/cve-bin-tool\n",
       "684    github.com/intel/cve-bin-tool\n",
       "Name: name, dtype: object"
      ]
     },
     "execution_count": 21,
     "metadata": {},
     "output_type": "execute_result"
    }
   ],
   "source": [
    "# Project(s) with best quality\n",
    "max = df.quality.max()\n",
    "df[df.quality == max].name"
   ]
  },
  {
   "cell_type": "code",
   "execution_count": 22,
   "id": "5e0bc9fc-8a65-4b75-859f-d084186ad1a3",
   "metadata": {},
   "outputs": [
    {
     "data": {
      "text/plain": [
       "54"
      ]
     },
     "execution_count": 22,
     "metadata": {},
     "output_type": "execute_result"
    }
   ],
   "source": [
    "# Project(s) with worst quality\n",
    "len(df[df.quality == 0].name)"
   ]
  },
  {
   "cell_type": "markdown",
   "id": "7e342fb7-7902-49ac-a306-20619a324fef",
   "metadata": {},
   "source": [
    "# Licenses"
   ]
  },
  {
   "cell_type": "code",
   "execution_count": 23,
   "id": "e81c6723-eac4-47be-a432-206939209ee4",
   "metadata": {},
   "outputs": [
    {
     "data": {
      "text/plain": [
       "count     525.000000\n",
       "mean       23.765714\n",
       "std       127.048168\n",
       "min         0.000000\n",
       "25%         0.000000\n",
       "50%         0.000000\n",
       "75%         1.000000\n",
       "max      1606.000000\n",
       "Name: licenses, dtype: float64"
      ]
     },
     "execution_count": 23,
     "metadata": {},
     "output_type": "execute_result"
    }
   ],
   "source": [
    "# Licenses stats\n",
    "df.licenses.describe()"
   ]
  },
  {
   "cell_type": "code",
   "execution_count": 24,
   "id": "9c623670-4467-4e5e-aee9-6c77e3f9ab3e",
   "metadata": {},
   "outputs": [
    {
     "data": {
      "text/html": [
       "<div>\n",
       "<style scoped>\n",
       "    .dataframe tbody tr th:only-of-type {\n",
       "        vertical-align: middle;\n",
       "    }\n",
       "\n",
       "    .dataframe tbody tr th {\n",
       "        vertical-align: top;\n",
       "    }\n",
       "\n",
       "    .dataframe thead th {\n",
       "        text-align: right;\n",
       "    }\n",
       "</style>\n",
       "<table border=\"1\" class=\"dataframe\">\n",
       "  <thead>\n",
       "    <tr style=\"text-align: right;\">\n",
       "      <th></th>\n",
       "      <th>count</th>\n",
       "      <th>mean</th>\n",
       "      <th>std</th>\n",
       "      <th>min</th>\n",
       "      <th>25%</th>\n",
       "      <th>50%</th>\n",
       "      <th>75%</th>\n",
       "      <th>max</th>\n",
       "    </tr>\n",
       "    <tr>\n",
       "      <th>format</th>\n",
       "      <th></th>\n",
       "      <th></th>\n",
       "      <th></th>\n",
       "      <th></th>\n",
       "      <th></th>\n",
       "      <th></th>\n",
       "      <th></th>\n",
       "      <th></th>\n",
       "    </tr>\n",
       "  </thead>\n",
       "  <tbody>\n",
       "    <tr>\n",
       "      <th>JSON</th>\n",
       "      <td>371.0</td>\n",
       "      <td>23.633423</td>\n",
       "      <td>142.605050</td>\n",
       "      <td>0.0</td>\n",
       "      <td>0.0</td>\n",
       "      <td>0.0</td>\n",
       "      <td>0.00</td>\n",
       "      <td>1606.0</td>\n",
       "    </tr>\n",
       "    <tr>\n",
       "      <th>SPDX</th>\n",
       "      <td>50.0</td>\n",
       "      <td>19.340000</td>\n",
       "      <td>78.045672</td>\n",
       "      <td>0.0</td>\n",
       "      <td>1.0</td>\n",
       "      <td>1.0</td>\n",
       "      <td>2.75</td>\n",
       "      <td>545.0</td>\n",
       "    </tr>\n",
       "    <tr>\n",
       "      <th>XML</th>\n",
       "      <td>33.0</td>\n",
       "      <td>82.969697</td>\n",
       "      <td>122.292550</td>\n",
       "      <td>0.0</td>\n",
       "      <td>0.0</td>\n",
       "      <td>39.0</td>\n",
       "      <td>109.00</td>\n",
       "      <td>370.0</td>\n",
       "    </tr>\n",
       "    <tr>\n",
       "      <th>YAML</th>\n",
       "      <td>71.0</td>\n",
       "      <td>0.056338</td>\n",
       "      <td>0.333266</td>\n",
       "      <td>0.0</td>\n",
       "      <td>0.0</td>\n",
       "      <td>0.0</td>\n",
       "      <td>0.00</td>\n",
       "      <td>2.0</td>\n",
       "    </tr>\n",
       "  </tbody>\n",
       "</table>\n",
       "</div>"
      ],
      "text/plain": [
       "        count       mean         std  min  25%   50%     75%     max\n",
       "format                                                              \n",
       "JSON    371.0  23.633423  142.605050  0.0  0.0   0.0    0.00  1606.0\n",
       "SPDX     50.0  19.340000   78.045672  0.0  1.0   1.0    2.75   545.0\n",
       "XML      33.0  82.969697  122.292550  0.0  0.0  39.0  109.00   370.0\n",
       "YAML     71.0   0.056338    0.333266  0.0  0.0   0.0    0.00     2.0"
      ]
     },
     "execution_count": 24,
     "metadata": {},
     "output_type": "execute_result"
    }
   ],
   "source": [
    "# Licenses per format\n",
    "df.groupby('format').licenses.describe()"
   ]
  },
  {
   "cell_type": "code",
   "execution_count": 25,
   "id": "a5a18526-a494-44bf-9047-2fba848ce16a",
   "metadata": {},
   "outputs": [
    {
     "data": {
      "text/plain": [
       "84    github.com/mchmarny/disco\n",
       "Name: name, dtype: object"
      ]
     },
     "execution_count": 25,
     "metadata": {},
     "output_type": "execute_result"
    }
   ],
   "source": [
    "# Project with max Licenses\n",
    "max = df.licenses.max()\n",
    "df[df.licenses==max].name"
   ]
  },
  {
   "cell_type": "code",
   "execution_count": 26,
   "id": "04556412-128d-40bf-90be-df2acd0b43cf",
   "metadata": {},
   "outputs": [
    {
     "data": {
      "text/plain": [
       "379"
      ]
     },
     "execution_count": 26,
     "metadata": {},
     "output_type": "execute_result"
    }
   ],
   "source": [
    "# Projects without licenses\n",
    "len(df[df.licenses==0])"
   ]
  },
  {
   "cell_type": "code",
   "execution_count": 27,
   "id": "c86682ed-3988-47be-a10d-0df5025ef9a2",
   "metadata": {},
   "outputs": [
    {
     "data": {
      "text/plain": [
       "format\n",
       "JSON    293\n",
       "SPDX      4\n",
       "XML      13\n",
       "YAML     69\n",
       "dtype: int64"
      ]
     },
     "execution_count": 27,
     "metadata": {},
     "output_type": "execute_result"
    }
   ],
   "source": [
    "# Difference between formats for repo without licenses \n",
    "df[df.licenses==0].groupby('format').size()"
   ]
  },
  {
   "cell_type": "code",
   "execution_count": 28,
   "id": "d794d3d1-bf14-49ee-be50-952e8470d4a6",
   "metadata": {},
   "outputs": [
    {
     "name": "stdout",
     "output_type": "stream",
     "text": [
      "78.78151260504201\n",
      "0.7017543859649122\n"
     ]
    }
   ],
   "source": [
    "# Percentage of no licenses by format\n",
    "print(len(cdx[cdx.licenses==0])/len(cdx) * 100)\n",
    "print(len(spx[spx.licenses==0])/len(spx) * 100)"
   ]
  },
  {
   "cell_type": "code",
   "execution_count": 29,
   "id": "872307d6-dd41-4245-a3a1-c23e7fcaa3cd",
   "metadata": {},
   "outputs": [
    {
     "data": {
      "text/html": [
       "<div>\n",
       "<style scoped>\n",
       "    .dataframe tbody tr th:only-of-type {\n",
       "        vertical-align: middle;\n",
       "    }\n",
       "\n",
       "    .dataframe tbody tr th {\n",
       "        vertical-align: top;\n",
       "    }\n",
       "\n",
       "    .dataframe thead th {\n",
       "        text-align: right;\n",
       "    }\n",
       "</style>\n",
       "<table border=\"1\" class=\"dataframe\">\n",
       "  <thead>\n",
       "    <tr style=\"text-align: right;\">\n",
       "      <th></th>\n",
       "      <th>license</th>\n",
       "      <th>count</th>\n",
       "      <th>percentage</th>\n",
       "    </tr>\n",
       "  </thead>\n",
       "  <tbody>\n",
       "    <tr>\n",
       "      <th>0</th>\n",
       "      <td>MIT</td>\n",
       "      <td>3087</td>\n",
       "      <td>24.741524</td>\n",
       "    </tr>\n",
       "    <tr>\n",
       "      <th>1</th>\n",
       "      <td>Apache-2.0</td>\n",
       "      <td>1865</td>\n",
       "      <td>14.947503</td>\n",
       "    </tr>\n",
       "    <tr>\n",
       "      <th>2</th>\n",
       "      <td>BSD-3-Clause</td>\n",
       "      <td>706</td>\n",
       "      <td>5.658411</td>\n",
       "    </tr>\n",
       "    <tr>\n",
       "      <th>3</th>\n",
       "      <td>NONE</td>\n",
       "      <td>432</td>\n",
       "      <td>3.462371</td>\n",
       "    </tr>\n",
       "    <tr>\n",
       "      <th>4</th>\n",
       "      <td>GPL-2.0-only</td>\n",
       "      <td>391</td>\n",
       "      <td>3.133766</td>\n",
       "    </tr>\n",
       "    <tr>\n",
       "      <th>5</th>\n",
       "      <td>EPL-2.0</td>\n",
       "      <td>371</td>\n",
       "      <td>2.973471</td>\n",
       "    </tr>\n",
       "    <tr>\n",
       "      <th>6</th>\n",
       "      <td>GPL-2.0-or-later</td>\n",
       "      <td>331</td>\n",
       "      <td>2.652881</td>\n",
       "    </tr>\n",
       "    <tr>\n",
       "      <th>7</th>\n",
       "      <td>ISC</td>\n",
       "      <td>269</td>\n",
       "      <td>2.155967</td>\n",
       "    </tr>\n",
       "    <tr>\n",
       "      <th>8</th>\n",
       "      <td>GPL-3.0-or-later</td>\n",
       "      <td>259</td>\n",
       "      <td>2.075820</td>\n",
       "    </tr>\n",
       "    <tr>\n",
       "      <th>9</th>\n",
       "      <td>BSD-2-Clause</td>\n",
       "      <td>228</td>\n",
       "      <td>1.827362</td>\n",
       "    </tr>\n",
       "  </tbody>\n",
       "</table>\n",
       "</div>"
      ],
      "text/plain": [
       "            license  count  percentage\n",
       "0               MIT   3087   24.741524\n",
       "1        Apache-2.0   1865   14.947503\n",
       "2      BSD-3-Clause    706    5.658411\n",
       "3              NONE    432    3.462371\n",
       "4      GPL-2.0-only    391    3.133766\n",
       "5           EPL-2.0    371    2.973471\n",
       "6  GPL-2.0-or-later    331    2.652881\n",
       "7               ISC    269    2.155967\n",
       "8  GPL-3.0-or-later    259    2.075820\n",
       "9      BSD-2-Clause    228    1.827362"
      ]
     },
     "execution_count": 29,
     "metadata": {},
     "output_type": "execute_result"
    }
   ],
   "source": [
    "# Most common license\n",
    "licenses = df_detail.licenses.dropna().str.split(\"|\")\n",
    "all_licenses = [l for sublist in licenses for l in sublist]\n",
    "df_license_stats = pd.DataFrame(all_licenses, columns=['license'])\n",
    "license_counts = df_license_stats['license'].value_counts().reset_index()\n",
    "license_counts.columns = ['license', 'count']\n",
    "license_counts['percentage'] = (license_counts['count'] / license_counts['count'].sum()) * 100\n",
    "license_counts.head(10)"
   ]
  },
  {
   "cell_type": "code",
   "execution_count": 30,
   "id": "2e36b889-08d2-4f50-91ed-92c06d9e703b",
   "metadata": {},
   "outputs": [
    {
     "data": {
      "text/plain": [
       "658"
      ]
     },
     "execution_count": 30,
     "metadata": {},
     "output_type": "execute_result"
    }
   ],
   "source": [
    "# Total different licenses\n",
    "len(license_counts)"
   ]
  },
  {
   "cell_type": "code",
   "execution_count": 32,
   "id": "a712aa19-2ece-4c3b-8c21-aa1637a9ecc0",
   "metadata": {},
   "outputs": [
    {
     "data": {
      "image/png": "[encoded data removed]",
      "text/plain": [
       "<Figure size 1000x600 with 1 Axes>"
      ]
     },
     "metadata": {},
     "output_type": "display_data"
    }
   ],
   "source": [
    "# Aggregate licenses with small percentages into 'other' category\n",
    "threshold = 1  # percentage threshold to consider as 'other'\n",
    "license_counts.loc[license_counts['percentage'] < threshold, 'license'] = 'other'\n",
    "\n",
    "# Recalculate the counts and percentages\n",
    "aggregated_counts = license_counts.groupby('license').agg({'count': 'sum'}).reset_index()\n",
    "aggregated_counts['percentage'] = (aggregated_counts['count'] / aggregated_counts['count'].sum()) * 100\n",
    "aggregated_counts = aggregated_counts.sort_values(by='count', ascending=False)\n",
    "plt.figure(figsize=(10, 6))\n",
    "sns.barplot(x='license', y='percentage', data=aggregated_counts)\n",
    "#plt.title('License Percentages (with \"other\" category)')\n",
    "plt.xticks(rotation=20)\n",
    "plt.ylabel('Percentage (%)')\n",
    "plt.xlabel('License')\n",
    "plt.show()\n"
   ]
  },
  {
   "cell_type": "markdown",
   "id": "8f82e5df-7957-43cd-947b-a80b3a2267bc",
   "metadata": {},
   "source": [
    "# Vulnerabilities"
   ]
  },
  {
   "cell_type": "code",
   "execution_count": 33,
   "id": "1f3a87b4-1be4-4817-b50e-c7aa9a7d18cf",
   "metadata": {},
   "outputs": [],
   "source": [
    "# Fixing the -1 in the CVE columns\n",
    "cve_cols = [\"critical\", \"high\", \"medium\", \"low\"]\n",
    "df[cve_cols] = df[cve_cols].replace(-1, 0)"
   ]
  },
  {
   "cell_type": "code",
   "execution_count": 34,
   "id": "4e37f2c8-34c4-4346-b35c-648e5d1f2b78",
   "metadata": {},
   "outputs": [],
   "source": [
    "# Stats an all cve\n",
    "df[\"cves_count\"] = df[cve_cols].sum(axis=1)"
   ]
  },
  {
   "cell_type": "code",
   "execution_count": 35,
   "id": "7d9df3b3-c67f-4a38-8dfe-4e60ff46f2c1",
   "metadata": {},
   "outputs": [
    {
     "data": {
      "text/plain": [
       "count    1046.000000\n",
       "mean        1.107075\n",
       "std         6.958249\n",
       "min         0.000000\n",
       "25%         0.000000\n",
       "50%         0.000000\n",
       "75%         0.000000\n",
       "max       120.000000\n",
       "Name: cves_count, dtype: float64"
      ]
     },
     "execution_count": 35,
     "metadata": {},
     "output_type": "execute_result"
    }
   ],
   "source": [
    "df.cves_count.describe()"
   ]
  },
  {
   "cell_type": "code",
   "execution_count": 36,
   "id": "5b8e8e69-558d-4ca2-a901-45719ac34e44",
   "metadata": {},
   "outputs": [
    {
     "data": {
      "text/html": [
       "<div>\n",
       "<style scoped>\n",
       "    .dataframe tbody tr th:only-of-type {\n",
       "        vertical-align: middle;\n",
       "    }\n",
       "\n",
       "    .dataframe tbody tr th {\n",
       "        vertical-align: top;\n",
       "    }\n",
       "\n",
       "    .dataframe thead th {\n",
       "        text-align: right;\n",
       "    }\n",
       "</style>\n",
       "<table border=\"1\" class=\"dataframe\">\n",
       "  <thead>\n",
       "    <tr style=\"text-align: right;\">\n",
       "      <th></th>\n",
       "      <th>count</th>\n",
       "      <th>mean</th>\n",
       "      <th>std</th>\n",
       "      <th>min</th>\n",
       "      <th>25%</th>\n",
       "      <th>50%</th>\n",
       "      <th>75%</th>\n",
       "      <th>max</th>\n",
       "    </tr>\n",
       "    <tr>\n",
       "      <th>format</th>\n",
       "      <th></th>\n",
       "      <th></th>\n",
       "      <th></th>\n",
       "      <th></th>\n",
       "      <th></th>\n",
       "      <th></th>\n",
       "      <th></th>\n",
       "      <th></th>\n",
       "    </tr>\n",
       "  </thead>\n",
       "  <tbody>\n",
       "    <tr>\n",
       "      <th>JSON</th>\n",
       "      <td>372.0</td>\n",
       "      <td>2.446237</td>\n",
       "      <td>9.418100</td>\n",
       "      <td>0.0</td>\n",
       "      <td>0.0</td>\n",
       "      <td>0.0</td>\n",
       "      <td>1.0</td>\n",
       "      <td>120.0</td>\n",
       "    </tr>\n",
       "    <tr>\n",
       "      <th>SPDX</th>\n",
       "      <td>570.0</td>\n",
       "      <td>0.021053</td>\n",
       "      <td>0.307342</td>\n",
       "      <td>0.0</td>\n",
       "      <td>0.0</td>\n",
       "      <td>0.0</td>\n",
       "      <td>0.0</td>\n",
       "      <td>7.0</td>\n",
       "    </tr>\n",
       "    <tr>\n",
       "      <th>XML</th>\n",
       "      <td>33.0</td>\n",
       "      <td>7.151515</td>\n",
       "      <td>21.652253</td>\n",
       "      <td>0.0</td>\n",
       "      <td>1.0</td>\n",
       "      <td>2.0</td>\n",
       "      <td>4.0</td>\n",
       "      <td>120.0</td>\n",
       "    </tr>\n",
       "    <tr>\n",
       "      <th>YAML</th>\n",
       "      <td>71.0</td>\n",
       "      <td>0.000000</td>\n",
       "      <td>0.000000</td>\n",
       "      <td>0.0</td>\n",
       "      <td>0.0</td>\n",
       "      <td>0.0</td>\n",
       "      <td>0.0</td>\n",
       "      <td>0.0</td>\n",
       "    </tr>\n",
       "  </tbody>\n",
       "</table>\n",
       "</div>"
      ],
      "text/plain": [
       "        count      mean        std  min  25%  50%  75%    max\n",
       "format                                                       \n",
       "JSON    372.0  2.446237   9.418100  0.0  0.0  0.0  1.0  120.0\n",
       "SPDX    570.0  0.021053   0.307342  0.0  0.0  0.0  0.0    7.0\n",
       "XML      33.0  7.151515  21.652253  0.0  1.0  2.0  4.0  120.0\n",
       "YAML     71.0  0.000000   0.000000  0.0  0.0  0.0  0.0    0.0"
      ]
     },
     "execution_count": 36,
     "metadata": {},
     "output_type": "execute_result"
    }
   ],
   "source": [
    "df.groupby('format').cves_count.describe()"
   ]
  },
  {
   "cell_type": "code",
   "execution_count": 37,
   "id": "5cbbd1ca-04ad-43b6-b3c1-2a0ca6c2686a",
   "metadata": {},
   "outputs": [
    {
     "data": {
      "text/plain": [
       "17    github.com/Siemens-Healthineers/K2s\n",
       "18    github.com/Siemens-Healthineers/K2s\n",
       "Name: name, dtype: object"
      ]
     },
     "execution_count": 37,
     "metadata": {},
     "output_type": "execute_result"
    }
   ],
   "source": [
    "# Project with max CVE\n",
    "max = df.cves_count.max()\n",
    "df[df.cves_count==max].name"
   ]
  },
  {
   "cell_type": "code",
   "execution_count": 38,
   "id": "f21ad462-c3c9-49bc-b936-0ab7ffedf993",
   "metadata": {},
   "outputs": [
    {
     "data": {
      "text/plain": [
       "85.27724665391969"
      ]
     },
     "execution_count": 38,
     "metadata": {},
     "output_type": "execute_result"
    }
   ],
   "source": [
    "# Percentage of repos without CVE\n",
    "len(df[df.cves_count==0])/len(df) * 100"
   ]
  },
  {
   "cell_type": "code",
   "execution_count": 39,
   "id": "51b2dd62-fcb0-41ef-bae8-129f1fcc3ea0",
   "metadata": {
    "scrolled": true
   },
   "outputs": [
    {
     "data": {
      "text/html": [
       "<div>\n",
       "<style scoped>\n",
       "    .dataframe tbody tr th:only-of-type {\n",
       "        vertical-align: middle;\n",
       "    }\n",
       "\n",
       "    .dataframe tbody tr th {\n",
       "        vertical-align: top;\n",
       "    }\n",
       "\n",
       "    .dataframe thead th {\n",
       "        text-align: right;\n",
       "    }\n",
       "</style>\n",
       "<table border=\"1\" class=\"dataframe\">\n",
       "  <thead>\n",
       "    <tr style=\"text-align: right;\">\n",
       "      <th></th>\n",
       "      <th>critical</th>\n",
       "      <th>high</th>\n",
       "      <th>medium</th>\n",
       "      <th>low</th>\n",
       "    </tr>\n",
       "  </thead>\n",
       "  <tbody>\n",
       "    <tr>\n",
       "      <th>count</th>\n",
       "      <td>525.000000</td>\n",
       "      <td>525.000000</td>\n",
       "      <td>525.000000</td>\n",
       "      <td>525.000000</td>\n",
       "    </tr>\n",
       "    <tr>\n",
       "      <th>mean</th>\n",
       "      <td>0.175238</td>\n",
       "      <td>1.045714</td>\n",
       "      <td>0.923810</td>\n",
       "      <td>0.060952</td>\n",
       "    </tr>\n",
       "    <tr>\n",
       "      <th>std</th>\n",
       "      <td>0.882266</td>\n",
       "      <td>5.269258</td>\n",
       "      <td>3.784498</td>\n",
       "      <td>0.309054</td>\n",
       "    </tr>\n",
       "    <tr>\n",
       "      <th>min</th>\n",
       "      <td>0.000000</td>\n",
       "      <td>0.000000</td>\n",
       "      <td>0.000000</td>\n",
       "      <td>0.000000</td>\n",
       "    </tr>\n",
       "    <tr>\n",
       "      <th>25%</th>\n",
       "      <td>0.000000</td>\n",
       "      <td>0.000000</td>\n",
       "      <td>0.000000</td>\n",
       "      <td>0.000000</td>\n",
       "    </tr>\n",
       "    <tr>\n",
       "      <th>50%</th>\n",
       "      <td>0.000000</td>\n",
       "      <td>0.000000</td>\n",
       "      <td>0.000000</td>\n",
       "      <td>0.000000</td>\n",
       "    </tr>\n",
       "    <tr>\n",
       "      <th>75%</th>\n",
       "      <td>0.000000</td>\n",
       "      <td>0.000000</td>\n",
       "      <td>0.000000</td>\n",
       "      <td>0.000000</td>\n",
       "    </tr>\n",
       "    <tr>\n",
       "      <th>max</th>\n",
       "      <td>13.000000</td>\n",
       "      <td>72.000000</td>\n",
       "      <td>43.000000</td>\n",
       "      <td>3.000000</td>\n",
       "    </tr>\n",
       "  </tbody>\n",
       "</table>\n",
       "</div>"
      ],
      "text/plain": [
       "         critical        high      medium         low\n",
       "count  525.000000  525.000000  525.000000  525.000000\n",
       "mean     0.175238    1.045714    0.923810    0.060952\n",
       "std      0.882266    5.269258    3.784498    0.309054\n",
       "min      0.000000    0.000000    0.000000    0.000000\n",
       "25%      0.000000    0.000000    0.000000    0.000000\n",
       "50%      0.000000    0.000000    0.000000    0.000000\n",
       "75%      0.000000    0.000000    0.000000    0.000000\n",
       "max     13.000000   72.000000   43.000000    3.000000"
      ]
     },
     "execution_count": 39,
     "metadata": {},
     "output_type": "execute_result"
    }
   ],
   "source": [
    "# CVE stats by severity\n",
    "df[cve_cols].describe()"
   ]
  },
  {
   "cell_type": "code",
   "execution_count": 40,
   "id": "f7b206c9-6626-4c9a-ba66-00f83ee42a66",
   "metadata": {},
   "outputs": [
    {
     "data": {
      "text/plain": [
       "1016"
      ]
     },
     "execution_count": 40,
     "metadata": {},
     "output_type": "execute_result"
    }
   ],
   "source": [
    "df_detail['CVEs'].dropna().str.split(\"|\", expand=True).stack().nunique()"
   ]
  },
  {
   "cell_type": "code",
   "execution_count": 41,
   "id": "845e4ab1-952c-46c7-aa7d-5f4faf93b326",
   "metadata": {},
   "outputs": [
    {
     "data": {
      "text/plain": [
       "104    0     CVE-2024-2700\n",
       "171    0    CVE-2024-29025\n",
       "421    0    CVE-2024-29025\n",
       "463    0     CVE-2024-2700\n",
       "541    0     CVE-2024-2700\n",
       "                 ...      \n",
       "47946  4    CVE-2023-39325\n",
       "       5    CVE-2023-44487\n",
       "       6    CVE-2023-39325\n",
       "       7    CVE-2023-45288\n",
       "       8    CVE-2023-45288\n",
       "Length: 4543, dtype: object"
      ]
     },
     "execution_count": 41,
     "metadata": {},
     "output_type": "execute_result"
    }
   ],
   "source": [
    "df_detail['CVEs'].dropna().str.split(\"|\", expand=True).stack()"
   ]
  },
  {
   "cell_type": "code",
   "execution_count": 45,
   "id": "7af87cce-3bdf-471c-abce-2f1f45daff3b",
   "metadata": {},
   "outputs": [
    {
     "data": {
      "text/plain": [
       "{'CRITICAL': ('CVE-2021-44906', 13),\n",
       " 'HIGH': ('CVE-2022-27664', 29),\n",
       " 'MEDIUM': ('CVE-2022-25883', 46),\n",
       " 'LOW': ('CVE-2021-43307', 9)}"
      ]
     },
     "execution_count": 45,
     "metadata": {},
     "output_type": "execute_result"
    }
   ],
   "source": [
    "# Split CVEs and Severities\n",
    "df_severity = df_detail[['CVEs', 'severity']].dropna()\n",
    "df_severity['CVEs_c'] = df_detail['CVEs'].str.split('|')\n",
    "df_severity['severity_c'] = df_detail['severity'].str.split('|')\n",
    "\n",
    "# Initialize a dictionary to count CVEs by severity\n",
    "severity_counts = {'CRITICAL': Counter(), 'HIGH': Counter(), 'MEDIUM': Counter(), 'LOW': Counter()}\n",
    "\n",
    "# Iterate through the rows of the DataFrame\n",
    "for _, row in df_severity.iterrows():\n",
    "    for cve, severity in zip(row['CVEs_c'], row['severity_c']):\n",
    "        if severity in severity_counts:\n",
    "            severity_counts[severity][cve] += 1\n",
    "\n",
    "# Determine the most occurring CVE for each severity\n",
    "most_common_cves = {severity: counts.most_common(1)[0] for severity, counts in severity_counts.items() if counts}\n",
    "\n",
    "# Output the result\n",
    "most_common_cves"
   ]
  },
  {
   "cell_type": "code",
   "execution_count": 46,
   "id": "6c95c61b-a9b6-4d45-9010-98a70cb2f921",
   "metadata": {
    "scrolled": true
   },
   "outputs": [
    {
     "data": {
      "text/html": [
       "<div>\n",
       "<style scoped>\n",
       "    .dataframe tbody tr th:only-of-type {\n",
       "        vertical-align: middle;\n",
       "    }\n",
       "\n",
       "    .dataframe tbody tr th {\n",
       "        vertical-align: top;\n",
       "    }\n",
       "\n",
       "    .dataframe thead th {\n",
       "        text-align: right;\n",
       "    }\n",
       "</style>\n",
       "<table border=\"1\" class=\"dataframe\">\n",
       "  <thead>\n",
       "    <tr style=\"text-align: right;\">\n",
       "      <th></th>\n",
       "      <th>cves</th>\n",
       "      <th>count</th>\n",
       "      <th>percentage</th>\n",
       "    </tr>\n",
       "  </thead>\n",
       "  <tbody>\n",
       "    <tr>\n",
       "      <th>883</th>\n",
       "      <td>CVE-2011-4969</td>\n",
       "      <td>1</td>\n",
       "      <td>0.022012</td>\n",
       "    </tr>\n",
       "  </tbody>\n",
       "</table>\n",
       "</div>"
      ],
      "text/plain": [
       "              cves  count  percentage\n",
       "883  CVE-2011-4969      1    0.022012"
      ]
     },
     "execution_count": 46,
     "metadata": {},
     "output_type": "execute_result"
    }
   ],
   "source": [
    "# Most common CVEs\n",
    "cves = df_detail['CVEs'].dropna().str.split(\"|\")\n",
    "all_cves = [c for sublist in cves for c in sublist]\n",
    "df_cves_stats = pd.DataFrame(all_cves, columns=['cves'])\n",
    "cves_counts = df_cves_stats['cves'].value_counts().reset_index()\n",
    "cves_counts.columns = ['cves', 'count']\n",
    "cves_counts['percentage'] = (cves_counts['count'] / cves_counts['count'].sum()) * 100\n",
    "cves_counts[cves_counts.cves.str.contains('2011')]"
   ]
  },
  {
   "cell_type": "code",
   "execution_count": 47,
   "id": "b4d34a73-e5a8-4bad-8f64-85d2212d1dd5",
   "metadata": {},
   "outputs": [
    {
     "data": {
      "text/plain": [
       "0    2011\n",
       "dtype: object"
      ]
     },
     "execution_count": 47,
     "metadata": {},
     "output_type": "execute_result"
    }
   ],
   "source": [
    "# Oldest CVE year\n",
    "cves_counts.cves.str.extract(r'(\\d{4})').dropna().min()"
   ]
  },
  {
   "cell_type": "code",
   "execution_count": 48,
   "id": "7f1417c9-5d4d-4170-b8e8-c33e4fd0db29",
   "metadata": {
    "scrolled": true
   },
   "outputs": [
    {
     "data": {
      "text/html": [
       "<div>\n",
       "<style scoped>\n",
       "    .dataframe tbody tr th:only-of-type {\n",
       "        vertical-align: middle;\n",
       "    }\n",
       "\n",
       "    .dataframe tbody tr th {\n",
       "        vertical-align: top;\n",
       "    }\n",
       "\n",
       "    .dataframe thead th {\n",
       "        text-align: right;\n",
       "    }\n",
       "</style>\n",
       "<table border=\"1\" class=\"dataframe\">\n",
       "  <thead>\n",
       "    <tr style=\"text-align: right;\">\n",
       "      <th></th>\n",
       "      <th>cwes</th>\n",
       "      <th>count</th>\n",
       "      <th>percentage</th>\n",
       "    </tr>\n",
       "  </thead>\n",
       "  <tbody>\n",
       "    <tr>\n",
       "      <th>0</th>\n",
       "      <td>CWE-400</td>\n",
       "      <td>480</td>\n",
       "      <td>13.208586</td>\n",
       "    </tr>\n",
       "    <tr>\n",
       "      <th>1</th>\n",
       "      <td>CWE-20</td>\n",
       "      <td>208</td>\n",
       "      <td>5.723720</td>\n",
       "    </tr>\n",
       "    <tr>\n",
       "      <th>2</th>\n",
       "      <td>CWE-1333</td>\n",
       "      <td>190</td>\n",
       "      <td>5.228398</td>\n",
       "    </tr>\n",
       "    <tr>\n",
       "      <th>3</th>\n",
       "      <td>CWE-770</td>\n",
       "      <td>142</td>\n",
       "      <td>3.907540</td>\n",
       "    </tr>\n",
       "    <tr>\n",
       "      <th>4</th>\n",
       "      <td>CWE-476</td>\n",
       "      <td>131</td>\n",
       "      <td>3.604843</td>\n",
       "    </tr>\n",
       "  </tbody>\n",
       "</table>\n",
       "</div>"
      ],
      "text/plain": [
       "       cwes  count  percentage\n",
       "0   CWE-400    480   13.208586\n",
       "1    CWE-20    208    5.723720\n",
       "2  CWE-1333    190    5.228398\n",
       "3   CWE-770    142    3.907540\n",
       "4   CWE-476    131    3.604843"
      ]
     },
     "execution_count": 48,
     "metadata": {},
     "output_type": "execute_result"
    }
   ],
   "source": [
    "# Top most occurring CWE\n",
    "cwes = df_detail['CWEs'].dropna().str.split(\"|\")\n",
    "all_cwes = [cw for sublist in cwes for cw in sublist]\n",
    "df_cwes_stats = pd.DataFrame(all_cwes, columns=['cwes'])\n",
    "cwes_counts = df_cwes_stats['cwes'].value_counts().reset_index()\n",
    "cwes_counts.columns = ['cwes', 'count']\n",
    "cwes_counts['percentage'] = (cwes_counts['count'] / cwes_counts['count'].sum()) * 100\n",
    "cwes_counts.head()"
   ]
  },
  {
   "cell_type": "code",
   "execution_count": 49,
   "id": "13b73dc6-4ba7-4bc9-8c05-0240f576e809",
   "metadata": {},
   "outputs": [
    {
     "data": {
      "text/plain": [
       "count    1134.000000\n",
       "mean        3.204586\n",
       "std        19.017308\n",
       "min         1.000000\n",
       "25%         1.000000\n",
       "50%         1.000000\n",
       "75%         2.000000\n",
       "max       448.000000\n",
       "Name: CWEs, dtype: float64"
      ]
     },
     "execution_count": 49,
     "metadata": {},
     "output_type": "execute_result"
    }
   ],
   "source": [
    "# Stats for CWEs associated to each depedendency\n",
    "cwes.apply(lambda x: len(x)).describe()"
   ]
  },
  {
   "cell_type": "code",
   "execution_count": 50,
   "id": "d4444369-5f41-499e-a118-e86836b09008",
   "metadata": {},
   "outputs": [
    {
     "data": {
      "image/png": "[encoded data removed]",
      "text/plain": [
       "<Figure size 1000x600 with 1 Axes>"
      ]
     },
     "metadata": {},
     "output_type": "display_data"
    }
   ],
   "source": [
    "threshold = 1  # percentage threshold to consider as 'other'\n",
    "cwes_counts.loc[cwes_counts['percentage'] < threshold, 'cwes'] = 'other'\n",
    "aggregated_counts = cwes_counts.groupby('cwes').agg({'count': 'sum'}).reset_index()\n",
    "aggregated_counts['percentage'] = (aggregated_counts['count'] / aggregated_counts['count'].sum()) * 100\n",
    "aggregated_counts = aggregated_counts.sort_values(by='count', ascending=False)\n",
    "plt.figure(figsize=(10, 6))\n",
    "sns.barplot(x='cwes', y='percentage', data=aggregated_counts)\n",
    "#plt.title('License Percentages (with \"other\" category)')\n",
    "plt.xticks(rotation=45)\n",
    "plt.ylabel('Percentage (%)')\n",
    "plt.xlabel('License')\n",
    "plt.show()"
   ]
  },
  {
   "cell_type": "code",
   "execution_count": 51,
   "id": "4c3a999e-5518-4883-aa9b-484987665461",
   "metadata": {},
   "outputs": [
    {
     "data": {
      "text/plain": [
       "MEDIUM      1509\n",
       "HIGH        1127\n",
       "LOW          308\n",
       "CRITICAL     106\n",
       "NONE          57\n",
       "Name: count, dtype: int64"
      ]
     },
     "execution_count": 51,
     "metadata": {},
     "output_type": "execute_result"
    }
   ],
   "source": [
    "# CVSS severity occurrencies\n",
    "df_detail.severity.dropna().str.split(\"|\", expand=True).stack().value_counts()"
   ]
  },
  {
   "cell_type": "code",
   "execution_count": 52,
   "id": "1d6d9c90-2b9e-404f-92da-a2058b5eaa33",
   "metadata": {},
   "outputs": [
    {
     "data": {
      "text/plain": [
       "array(['3.1', '3.0'], dtype=object)"
      ]
     },
     "execution_count": 52,
     "metadata": {},
     "output_type": "execute_result"
    }
   ],
   "source": [
    "# CVSS criticality\n",
    "df_detail.criticality.dropna().str.split(\"|\", expand=True).stack().str.extract(r'CVSS:(\\d\\.\\d)')[0].unique()"
   ]
  },
  {
   "cell_type": "markdown",
   "id": "27d01a93-9592-4136-a2f5-e81827cf9349",
   "metadata": {},
   "source": [
    "# Relationship types"
   ]
  },
  {
   "cell_type": "code",
   "execution_count": 53,
   "id": "88348e15-1113-4d15-8db8-115f825da52e",
   "metadata": {},
   "outputs": [
    {
     "data": {
      "text/plain": [
       "count    5198.000000\n",
       "mean       10.471720\n",
       "std        45.318511\n",
       "min         1.000000\n",
       "25%         4.000000\n",
       "50%         5.000000\n",
       "75%         7.000000\n",
       "max      1203.000000\n",
       "Name: relationship_types, dtype: float64"
      ]
     },
     "execution_count": 53,
     "metadata": {},
     "output_type": "execute_result"
    }
   ],
   "source": [
    "# Stats about relationship types for each dependency\n",
    "df_detail.relationship_types.dropna().str.split(\"|\").apply(lambda x: len(x)).describe()"
   ]
  },
  {
   "cell_type": "code",
   "execution_count": 54,
   "id": "b0e7d877-61df-4103-bc79-41a7ad8dc4fc",
   "metadata": {},
   "outputs": [
    {
     "data": {
      "text/plain": [
       "DEPENDS_ON                57.118974\n",
       "CONTAINS                  37.577160\n",
       "DEPENDENCY_OF              3.606335\n",
       "OTHER                      1.063713\n",
       "DYNAMIC_LINK               0.420708\n",
       "BUILD_DEPENDENCY_OF        0.106555\n",
       "TEST_DEPENDENCY_OF         0.058789\n",
       "PREREQUISITE_FOR           0.016534\n",
       "BUILD_TOOL_OF              0.011023\n",
       "RUNTIME_DEPENDENCY_OF      0.009186\n",
       "TEST_CASE_OF               0.005511\n",
       "OPTIONAL_DEPENDENCY_OF     0.003674\n",
       "OPTIONAL_COMPONENT_OF      0.001837\n",
       "Name: proportion, dtype: float64"
      ]
     },
     "execution_count": 54,
     "metadata": {},
     "output_type": "execute_result"
    }
   ],
   "source": [
    "# Most common relationship types (in %)\n",
    "df_detail.relationship_types.dropna().str.split(\"|\", expand=True).stack().str.replace(\"dependsOn\", \"DEPENDS_ON\").value_counts(normalize=True)*100"
   ]
  },
  {
   "cell_type": "code",
   "execution_count": 85,
   "id": "590f0b29-2a39-4367-95af-a5a7422f7bf6",
   "metadata": {},
   "outputs": [
    {
     "data": {
      "text/plain": [
       "21479"
      ]
     },
     "execution_count": 85,
     "metadata": {},
     "output_type": "execute_result"
    }
   ],
   "source": [
    "df_detail.relationships.dropna().str.split(\"|\", expand=True).stack().nunique()"
   ]
  }
 ],
 "metadata": {
  "kernelspec": {
   "display_name": "Python 3 (ipykernel)",
   "language": "python",
   "name": "python3"
  },
  "language_info": {
   "codemirror_mode": {
    "name": "ipython",
    "version": 3
   },
   "file_extension": ".py",
   "mimetype": "text/x-python",
   "name": "python",
   "nbconvert_exporter": "python",
   "pygments_lexer": "ipython3",
   "version": "3.9.19"
  }
 },
 "nbformat": 4,
 "nbformat_minor": 5
}
